{
 "cells": [
  {
   "cell_type": "code",
   "execution_count": 1,
   "id": "fd89412b-e800-475b-b72e-706f986b7831",
   "metadata": {},
   "outputs": [
    {
     "data": {
      "text/plain": [
       "{'a': 'aman', 'b': 'python'}"
      ]
     },
     "execution_count": 1,
     "metadata": {},
     "output_type": "execute_result"
    }
   ],
   "source": [
    "data={'a':'aman',\n",
    "      'b':'python'}\n",
    "data"
   ]
  },
  {
   "cell_type": "code",
   "execution_count": 2,
   "id": "de11e6a3-c075-4677-9095-d48788a3283f",
   "metadata": {},
   "outputs": [
    {
     "data": {
      "text/plain": [
       "'aman'"
      ]
     },
     "execution_count": 2,
     "metadata": {},
     "output_type": "execute_result"
    }
   ],
   "source": [
    "data={'a':'aman',\n",
    "      'b':'python'}\n",
    "data['a'] # Accesing"
   ]
  },
  {
   "cell_type": "code",
   "execution_count": 3,
   "id": "559d8d1a-7afc-4ea7-aa37-b6db0660a92c",
   "metadata": {},
   "outputs": [
    {
     "data": {
      "text/plain": [
       "{'a': 'suraj', 'b': 'python'}"
      ]
     },
     "execution_count": 3,
     "metadata": {},
     "output_type": "execute_result"
    }
   ],
   "source": [
    "data={'a':'aman',\n",
    "      'b':'python'}\n",
    "data['a']='suraj' # updating\n",
    "data"
   ]
  },
  {
   "cell_type": "code",
   "execution_count": 12,
   "id": "a2cffbbd-5c1d-4396-a7e5-1eda154d839f",
   "metadata": {},
   "outputs": [
    {
     "data": {
      "text/plain": [
       "'python'"
      ]
     },
     "execution_count": 12,
     "metadata": {},
     "output_type": "execute_result"
    }
   ],
   "source": [
    "# In-built methods:\n",
    "data={'a':'aman',\n",
    "      'b':'python'}\n",
    "res=data.get('b')\n",
    "res"
   ]
  },
  {
   "cell_type": "code",
   "execution_count": 11,
   "id": "25415aa7-d163-43dd-b553-a308fbfe535c",
   "metadata": {},
   "outputs": [
    {
     "data": {
      "text/plain": [
       "'not'"
      ]
     },
     "execution_count": 11,
     "metadata": {},
     "output_type": "execute_result"
    }
   ],
   "source": [
    "data={'a':'aman',\n",
    "      'b':'python'}\n",
    "res=data.get('c',\"not\")\n",
    "res"
   ]
  },
  {
   "cell_type": "code",
   "execution_count": 13,
   "id": "7e9b5e4b-78ab-450f-999a-348c81ddf48f",
   "metadata": {},
   "outputs": [
    {
     "data": {
      "text/plain": [
       "dict_keys(['a', 'b'])"
      ]
     },
     "execution_count": 13,
     "metadata": {},
     "output_type": "execute_result"
    }
   ],
   "source": [
    "data={'a':'aman',\n",
    "      'b':'python'}\n",
    "res=data.keys()\n",
    "res"
   ]
  },
  {
   "cell_type": "code",
   "execution_count": 14,
   "id": "8b5c8ead-a545-4e77-bf17-7df7ecdde1a0",
   "metadata": {},
   "outputs": [
    {
     "data": {
      "text/plain": [
       "dict_values(['aman', 'python'])"
      ]
     },
     "execution_count": 14,
     "metadata": {},
     "output_type": "execute_result"
    }
   ],
   "source": [
    "data={'a':'aman',\n",
    "      'b':'python'}\n",
    "res=data.values()\n",
    "res"
   ]
  },
  {
   "cell_type": "code",
   "execution_count": 15,
   "id": "c9b9060f-ecfe-4180-abab-6a8d347f794b",
   "metadata": {},
   "outputs": [
    {
     "data": {
      "text/plain": [
       "dict_items([('a', 'aman'), ('b', 'python')])"
      ]
     },
     "execution_count": 15,
     "metadata": {},
     "output_type": "execute_result"
    }
   ],
   "source": [
    "data={'a':'aman',\n",
    "      'b':'python'}\n",
    "res=data.items()\n",
    "res"
   ]
  },
  {
   "cell_type": "code",
   "execution_count": 16,
   "id": "9648d7c5-cc40-4b28-b238-0c42f42fd4b2",
   "metadata": {},
   "outputs": [
    {
     "data": {
      "text/plain": [
       "{'a': 'aman', 'b': 'hello'}"
      ]
     },
     "execution_count": 16,
     "metadata": {},
     "output_type": "execute_result"
    }
   ],
   "source": [
    "data={'a':'aman',\n",
    "      'b':'python'}\n",
    "data.update({'b':'hello'}) # updating\n",
    "data"
   ]
  },
  {
   "cell_type": "code",
   "execution_count": 17,
   "id": "b33496c2-1e30-42aa-ad13-bb5540674e50",
   "metadata": {},
   "outputs": [
    {
     "data": {
      "text/plain": [
       "{'a': 'suraj'}"
      ]
     },
     "execution_count": 17,
     "metadata": {},
     "output_type": "execute_result"
    }
   ],
   "source": [
    "data={'a':'aman',\n",
    "      'b':'python'}\n",
    "data['a']='suraj'\n",
    "data.pop('b')\n",
    "data"
   ]
  },
  {
   "cell_type": "code",
   "execution_count": 19,
   "id": "cbcf68e2-d275-4d40-8f3e-6a13e9e7c4bf",
   "metadata": {},
   "outputs": [
    {
     "data": {
      "text/plain": [
       "{'a': 'suraj'}"
      ]
     },
     "execution_count": 19,
     "metadata": {},
     "output_type": "execute_result"
    }
   ],
   "source": [
    "data={'a':'aman',\n",
    "      'b':'python'}\n",
    "data['a']='suraj'\n",
    "data.popitem()\n",
    "data"
   ]
  },
  {
   "cell_type": "code",
   "execution_count": 20,
   "id": "56e2f435-bac2-43fb-abcc-62f4b0f2947a",
   "metadata": {},
   "outputs": [
    {
     "name": "stdout",
     "output_type": "stream",
     "text": [
      "a\n",
      "b\n",
      "c\n"
     ]
    }
   ],
   "source": [
    "# Traversing:\n",
    "data={'a':'aman',\n",
    "      'b':'python',\n",
    "      'c':'hello'}\n",
    "for i in data.keys():\n",
    "    print(i)"
   ]
  },
  {
   "cell_type": "code",
   "execution_count": 21,
   "id": "0dcca75b-a830-44a4-b04f-ff6732f9f40a",
   "metadata": {},
   "outputs": [
    {
     "name": "stdout",
     "output_type": "stream",
     "text": [
      "aman\n",
      "python\n",
      "hello\n"
     ]
    }
   ],
   "source": [
    "data={'a':'aman',\n",
    "      'b':'python',\n",
    "      'c':'hello'}\n",
    "for i in data.values():\n",
    "    print(i)"
   ]
  },
  {
   "cell_type": "code",
   "execution_count": 22,
   "id": "60774fe2-73be-4da4-b1bf-d9f3f02bb93b",
   "metadata": {},
   "outputs": [
    {
     "name": "stdout",
     "output_type": "stream",
     "text": [
      "('a', 'aman')\n",
      "('b', 'python')\n",
      "('c', 'hello')\n"
     ]
    }
   ],
   "source": [
    "data={'a':'aman',\n",
    "      'b':'python',\n",
    "      'c':'hello'}\n",
    "for i in data.items():\n",
    "    print(i)"
   ]
  },
  {
   "cell_type": "code",
   "execution_count": 23,
   "id": "de502180-d560-4d69-9b9d-efcc19665cff",
   "metadata": {},
   "outputs": [
    {
     "name": "stdout",
     "output_type": "stream",
     "text": [
      "a : aman\n",
      "b : python\n",
      "c : hello\n"
     ]
    }
   ],
   "source": [
    "data={'a':'aman',\n",
    "      'b':'python',\n",
    "      'c':'hello'}\n",
    "for i,j in data.items():\n",
    "    print(i,\":\",j)"
   ]
  },
  {
   "cell_type": "code",
   "execution_count": null,
   "id": "ac613710-5627-4d9a-bc05-75541de6b1e0",
   "metadata": {},
   "outputs": [],
   "source": []
  }
 ],
 "metadata": {
  "kernelspec": {
   "display_name": "Python 3 (ipykernel)",
   "language": "python",
   "name": "python3"
  },
  "language_info": {
   "codemirror_mode": {
    "name": "ipython",
    "version": 3
   },
   "file_extension": ".py",
   "mimetype": "text/x-python",
   "name": "python",
   "nbconvert_exporter": "python",
   "pygments_lexer": "ipython3",
   "version": "3.12.5"
  }
 },
 "nbformat": 4,
 "nbformat_minor": 5
}
