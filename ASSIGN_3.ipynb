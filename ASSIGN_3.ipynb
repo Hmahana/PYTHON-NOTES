{
 "cells": [
  {
   "cell_type": "code",
   "execution_count": 3,
   "id": "4608783c-623d-497c-ba97-020feaf80dc2",
   "metadata": {},
   "outputs": [
    {
     "name": "stdin",
     "output_type": "stream",
     "text": [
      "Enter your age : 17\n"
     ]
    },
    {
     "name": "stdout",
     "output_type": "stream",
     "text": [
      "You are not eligible to vote\n"
     ]
    }
   ],
   "source": [
    "# (1) Voting Eligibility Check.\n",
    "age=int(input(\"Enter your age :\"))\n",
    "if(age>=18):\n",
    "    print(\"You are eligible to vote\")\n",
    "else:\n",
    "    print(\"You are not eligible to vote\")"
   ]
  },
  {
   "cell_type": "code",
   "execution_count": 7,
   "id": "fc64188b-7d20-4699-904d-78937d9c2eac",
   "metadata": {},
   "outputs": [
    {
     "name": "stdin",
     "output_type": "stream",
     "text": [
      "Enter your number : 18\n"
     ]
    },
    {
     "name": "stdout",
     "output_type": "stream",
     "text": [
      "It is an even number\n"
     ]
    }
   ],
   "source": [
    "# (2) Odd or Even Check.\n",
    "num=int(input(\"Enter your number :\"))\n",
    "if(num%2==0):\n",
    "    print(\"It is an even number\")\n",
    "else:\n",
    "    print(\"It is an odd number\")"
   ]
  },
  {
   "cell_type": "code",
   "execution_count": 12,
   "id": "ea877852-7068-47b4-9f2d-7483cc48474d",
   "metadata": {},
   "outputs": [
    {
     "name": "stdin",
     "output_type": "stream",
     "text": [
      "Enter your number : 67831\n"
     ]
    },
    {
     "name": "stdout",
     "output_type": "stream",
     "text": [
      "The last digit of your number is :1\n"
     ]
    }
   ],
   "source": [
    "# (3) Display Last Digit.\n",
    "num=int(input(\"Enter your number :\"))\n",
    "last_digit=num%10\n",
    "print(f\"The last digit of your number is :{last_digit}\")"
   ]
  },
  {
   "cell_type": "code",
   "execution_count": 16,
   "id": "01701bf4-d7d6-465e-afb4-c09fb63b9ca3",
   "metadata": {},
   "outputs": [
    {
     "name": "stdin",
     "output_type": "stream",
     "text": [
      "Enter your number : 8976593\n"
     ]
    },
    {
     "name": "stdout",
     "output_type": "stream",
     "text": [
      "The last digit of your number is :3\n",
      "Yes, it is divisible by 3\n"
     ]
    }
   ],
   "source": [
    "# (4) Divisibility Check for Last Digit.\n",
    "num=int(input(\"Enter your number :\"))\n",
    "last_digit=num%10\n",
    "print(f\"The last digit of your number is :{last_digit}\")\n",
    "if(last_digit%3==0):\n",
    "    print(\"Yes, it is divisible by 3\")\n",
    "else:\n",
    "    print(\"It is not divisible by 3\")"
   ]
  },
  {
   "cell_type": "code",
   "execution_count": 22,
   "id": "3e23901a-98ce-4794-b65f-82400763047e",
   "metadata": {},
   "outputs": [
    {
     "name": "stdin",
     "output_type": "stream",
     "text": [
      "Enter the car brand (mehendra/audi/jaguar/mercedes) : mercedes\n",
      "Enter the car price (between 20 lakh and 25 lakh) : 2200000\n"
     ]
    },
    {
     "name": "stdout",
     "output_type": "stream",
     "text": [
      "Calculated tax = 660000.0\n"
     ]
    }
   ],
   "source": [
    "# (5) Tax Calculation for Car Purchase.\n",
    "brand=input(\"Enter the car brand (mehendra/audi/jaguar/mercedes) :\")\n",
    "if (brand==\"mahendra\"):\n",
    "    price=float(input(\"Enter the car price (between 7 lakh and 10 lakh) :\"))\n",
    "    if(700000<=price<=1000000):\n",
    "        tax=price*0.05\n",
    "        print(f\"Calculated tax = {tax}\")\n",
    "    else:\n",
    "        print(\"The prices are not in range\")\n",
    "elif (brand==\"audi\"):\n",
    "    price=float(input(\"Enter the car price (between 10 lakh and 15 lakh) :\"))\n",
    "    if(1000000<=price<=1500000):\n",
    "        tax=price*0.1\n",
    "        print(f\"Calculated tax = {tax}\")\n",
    "    else:\n",
    "        print(\"The prices are not in range\")\n",
    "elif (brand==\"jaguar\"):\n",
    "    price=float(input(\"Enter the car price (between 15 lakh and 20 lakh) :\"))\n",
    "    if(1500000<=price<=2000000):\n",
    "        tax=price*0.25\n",
    "        print(f\"Calculated tax = {tax}\")\n",
    "    else:\n",
    "        print(\"The prices are not in range\") \n",
    "elif (brand==\"mercedes\"):\n",
    "    price=float(input(\"Enter the car price (between 20 lakh and 25 lakh) :\"))\n",
    "    if(2000000<=price<=2500000):\n",
    "        tax=price*0.30\n",
    "        print(f\"Calculated tax = {tax}\")\n",
    "    else:\n",
    "        print(\"The prices are not in range\")\n",
    "else:\n",
    "    print(\"No information is available about this brand\")"
   ]
  },
  {
   "cell_type": "code",
   "execution_count": 5,
   "id": "fff6aed5-8413-47cd-b56b-534c750ae481",
   "metadata": {},
   "outputs": [
    {
     "name": "stdin",
     "output_type": "stream",
     "text": [
      "Enter the operation (addition, subtraction, multiplication, division) : addition\n",
      "Enter the first number : 70\n",
      "Enter the second number : 20\n"
     ]
    },
    {
     "name": "stdout",
     "output_type": "stream",
     "text": [
      "Addition of given two numbers is : 90\n"
     ]
    }
   ],
   "source": [
    "# (6) Write a Python program to perform basic arithmetic operations (addition, subtraction, multiplication,\n",
    "# division) on two numbers.\n",
    "operation=input(\"Enter the operation (addition, subtraction, multiplication, division) :\")\n",
    "if (operation==\"addition\"):\n",
    "    a=int(input(\"Enter the first number :\"))\n",
    "    b=int(input(\"Enter the second number :\"))\n",
    "    add=a+b\n",
    "    print(f\"Addition of given two numbers is : {add}\")\n",
    "elif (operation==\"subtraction\"):\n",
    "    a=int(input(\"Enter the first number :\"))\n",
    "    b=int(input(\"Enter the second number :\"))\n",
    "    sub=a-b\n",
    "    print(f\"Subtraction of given two numbers is : {sub}\")\n",
    "elif (operation==\"multiplication\"):\n",
    "    a=int(input(\"Enter the first number :\"))\n",
    "    b=int(input(\"Enter the second number :\"))\n",
    "    prod=a*b\n",
    "    print(f\"Multiplication of given two numbers is : {prod}\")\n",
    "elif (operation==\"division\"):\n",
    "    a=int(input(\"Enter the first number :\"))\n",
    "    b=int(input(\"Enter the second number :\"))\n",
    "    div=a/b\n",
    "    print(f\"Division of given two numbers is : {div}\")\n",
    "else:\n",
    "    print(\"Please select from the given operations\")"
   ]
  },
  {
   "cell_type": "code",
   "execution_count": 21,
   "id": "91b46615-9948-4f00-86de-bff6f7fa4371",
   "metadata": {},
   "outputs": [
    {
     "name": "stdin",
     "output_type": "stream",
     "text": [
      "Enter your pre marks : 310\n"
     ]
    },
    {
     "name": "stdout",
     "output_type": "stream",
     "text": [
      "You are pass in pre exam\n"
     ]
    },
    {
     "name": "stdin",
     "output_type": "stream",
     "text": [
      "Enter your mains marks : 450\n"
     ]
    },
    {
     "name": "stdout",
     "output_type": "stream",
     "text": [
      "You are pass in mains exam\n"
     ]
    },
    {
     "name": "stdin",
     "output_type": "stream",
     "text": [
      "Enter your interview marks : 450\n"
     ]
    },
    {
     "name": "stdout",
     "output_type": "stream",
     "text": [
      "Congrtulations! you are finally selected\n",
      "Your total marks (pre+mains+interview) = 1210\n"
     ]
    }
   ],
   "source": [
    "# (7) UPSC Selection process.\n",
    "pre=int(input(\"Enter your pre marks :\"))\n",
    "if(pre>=300):\n",
    "    print(\"You are pass in pre exam\")\n",
    "    mains=int(input(\"Enter your mains marks :\"))\n",
    "    if(mains>=400):\n",
    "        print(\"You are pass in mains exam\")\n",
    "        inter=int(input(\"Enter your interview marks :\"))\n",
    "        if(inter>=450):\n",
    "            print(\"Congrtulations! you are finally selected\")\n",
    "            print(\"Your total marks (pre+mains+interview) =\",pre+mains+inter)\n",
    "        else:\n",
    "            print(\"Sorry, you are not selected\")\n",
    "    else:\n",
    "        print(\"Sorry, you are failed in mains exam\")\n",
    "else:\n",
    "    print(\"Sorry, you are failed in pre exam\")"
   ]
  },
  {
   "cell_type": "code",
   "execution_count": 17,
   "id": "dcbb82d1-6572-47a3-bffb-515a8e45b8f9",
   "metadata": {},
   "outputs": [
    {
     "name": "stdin",
     "output_type": "stream",
     "text": [
      "Choose what you want to enter (email / mobile number) : mobile number\n",
      "Enter your mobile number : 1234567890\n",
      "Enter your password : pass123\n"
     ]
    },
    {
     "name": "stdout",
     "output_type": "stream",
     "text": [
      "Login successful\n"
     ]
    }
   ],
   "source": [
    "# (8) Create a Python program for a login system using either an email or mobile number.\n",
    "inp=input(\"Choose what you want to enter (email / mobile number) :\")\n",
    "if (inp==\"email\"):\n",
    "    email=input(\"Enter your email :\")\n",
    "    pas=input(\"Enter your password :\")\n",
    "    if(email==\"user1@example.com\" and pas==\"pass123\"):\n",
    "        print(\"Login successful\")\n",
    "    else:\n",
    "        print(\"Login failed\")\n",
    "elif (inp==\"mobile number\"):\n",
    "    mob=int(input(\"Enter your mobile number :\"))\n",
    "    pas=input(\"Enter your password :\")\n",
    "    if(mob==1234567890 and pas==\"pass123\"):\n",
    "        print(\"Login successful\")\n",
    "    else:\n",
    "        print(\"Login failed\")\n",
    "else:\n",
    "    print(\"Enter either your email or mobile number\")"
   ]
  },
  {
   "cell_type": "code",
   "execution_count": 15,
   "id": "0e634184-a791-4ca6-8ab3-36cdbc86a791",
   "metadata": {},
   "outputs": [
    {
     "name": "stdin",
     "output_type": "stream",
     "text": [
      "Enter the first no. : 10\n",
      "Enter the second no. : 20\n",
      "Enter the third no. : 30\n"
     ]
    },
    {
     "name": "stdout",
     "output_type": "stream",
     "text": [
      "30 is the largest number.\n"
     ]
    }
   ],
   "source": [
    "# (9) Greatest Number Among Three numbers.\n",
    "a=int(input(\"Enter the first no. :\"))\n",
    "b=int(input(\"Enter the second no. :\"))\n",
    "c=int(input(\"Enter the third no. :\"))\n",
    "if(a>b and a>c):\n",
    "    print(a, \" is the largest number\")\n",
    "elif(b>a and b>c):\n",
    "    print(b, \" is the largest number\")\n",
    "else:\n",
    "    print(c, \"is the largest number.\")"
   ]
  },
  {
   "cell_type": "code",
   "execution_count": 14,
   "id": "7ec2f0aa-9916-4bab-afc0-946c0fce85b3",
   "metadata": {},
   "outputs": [
    {
     "name": "stdin",
     "output_type": "stream",
     "text": [
      "Enter your marks : -4\n"
     ]
    },
    {
     "name": "stdout",
     "output_type": "stream",
     "text": [
      "Invalid marks\n"
     ]
    }
   ],
   "source": [
    "# (10) Grading System.\n",
    "marks=int(input(\"Enter your marks :\"))\n",
    "if (90<=marks<=100):\n",
    "    print(\"Grade : A\")\n",
    "elif(70<=marks<90):\n",
    "    print(\"Grade : B\")\n",
    "elif(50<=marks<70):\n",
    "    print(\"Grade : C\")\n",
    "elif(30<=marks<50):\n",
    "    print(\"Grade : D\")\n",
    "elif(0<=marks<30):\n",
    "    print(\"Fail\")\n",
    "else:\n",
    "    print(\"Invalid marks\")"
   ]
  },
  {
   "cell_type": "code",
   "execution_count": 6,
   "id": "527c4ef0-804d-431d-8c33-f0c04f3577e5",
   "metadata": {},
   "outputs": [
    {
     "name": "stdin",
     "output_type": "stream",
     "text": [
      "Enter your salary : 50000\n",
      "Enter your years of service : 10\n"
     ]
    },
    {
     "name": "stdout",
     "output_type": "stream",
     "text": [
      "Bonus :  5000.0\n"
     ]
    }
   ],
   "source": [
    "# (11) Bonus Calculation Based on Years of Service.\n",
    "sal=float(input(\"Enter your salary :\"))\n",
    "exp=float(input(\"Enter your years of service :\"))\n",
    "if(5<=exp<10):\n",
    "    bonus=sal*0.05\n",
    "    print(\"Bonus : \",bonus)\n",
    "elif(10<=exp<15):\n",
    "    bonus=sal*0.10\n",
    "    print(\"Bonus : \",bonus)\n",
    "elif(15<=exp<20):\n",
    "    bonus=sal*0.15\n",
    "    print(\"Bonus : \",bonus)\n",
    "elif(exp>=20):\n",
    "    bonus=sal*0.20\n",
    "    print(\"Bonus : \",bonus)\n",
    "else:\n",
    "    print(\"No Bonus\")"
   ]
  },
  {
   "cell_type": "code",
   "execution_count": 3,
   "id": "c48c977c-655d-428d-a010-a265c294b68b",
   "metadata": {},
   "outputs": [
    {
     "name": "stdin",
     "output_type": "stream",
     "text": [
      "Enter total number of classes held : 220\n",
      "Enter total number of classes attended by a student : 180\n"
     ]
    },
    {
     "name": "stdout",
     "output_type": "stream",
     "text": [
      "Your attendence percentage : 81.81818181818183 %\n",
      "Eligible for exam\n"
     ]
    }
   ],
   "source": [
    "# (12) Attendance Check for Exam Eligibility.\n",
    "total=int(input(\"Enter total number of classes held :\"))\n",
    "attend=int(input(\"Enter total number of classes attended by a student :\"))\n",
    "elig=(attend/total)*100\n",
    "print(\"Your attendence percentage :\",elig,\"%\")\n",
    "if (elig>=75):\n",
    "    print(\"Eligible for exam\")\n",
    "else:\n",
    "    print(\"Not Eligible for exam\")                                                                                                     "
   ]
  },
  {
   "cell_type": "code",
   "execution_count": 1,
   "id": "c8af4e12-c7bc-4ffc-a75b-613d7e767215",
   "metadata": {},
   "outputs": [
    {
     "name": "stdout",
     "output_type": "stream",
     "text": [
      "Enter the customer type :\n",
      "1. Regular\n",
      "2. Gold\n",
      "3. Platinum\n"
     ]
    },
    {
     "name": "stdin",
     "output_type": "stream",
     "text": [
      "Select from (1/2/3) : 2\n",
      "Enter the amount spent on purchases : 500\n"
     ]
    },
    {
     "name": "stdout",
     "output_type": "stream",
     "text": [
      "Discount given : 75.0\n"
     ]
    }
   ],
   "source": [
    "# (13) Dynamic Discount Calculation.\n",
    "print(\"Enter the customer type :\")\n",
    "print(\"1. Regular\")\n",
    "print(\"2. Gold\")\n",
    "print(\"3. Platinum\")\n",
    "ctype=int(input(\"Select from (1/2/3) :\"))    \n",
    "if(ctype==1):\n",
    "   pur=int(input(\"Enter the amount spent on purchases :\"))\n",
    "   if(pur>=500):\n",
    "       dis=pur*0.1\n",
    "       print(\"Discount given :\",dis)\n",
    "   else:\n",
    "    dis=pur*0.05\n",
    "    print(\"Discount given :\",dis)\n",
    "elif(ctype==2):\n",
    "   pur=int(input(\"Enter the amount spent on purchases :\"))\n",
    "   if(pur>=500):\n",
    "       dis=pur*0.15\n",
    "       print(\"Discount given :\",dis)\n",
    "   else:\n",
    "    dis=pur*0.10\n",
    "    print(\"Discount given :\",dis)\n",
    "elif(ctype==3):\n",
    "   pur=int(input(\"Enter the amount spent on purchases :\"))\n",
    "   if(pur>=500):\n",
    "       dis=pur*0.20\n",
    "       print(\"Discount given :\",dis)\n",
    "   else:\n",
    "    dis=pur*0.15\n",
    "    print(\"Discount given :\",dis)\n",
    "else:\n",
    "    print(\"Please select from the given customer type\")"
   ]
  },
  {
   "cell_type": "code",
   "execution_count": 2,
   "id": "c274807d-05ec-43a9-a681-2eb51c4f3681",
   "metadata": {},
   "outputs": [
    {
     "name": "stdout",
     "output_type": "stream",
     "text": [
      "Select any operation :\n",
      " 1. Addition\n",
      " 2. substraction\n",
      " 3. multipliction\n",
      " 4. division\n"
     ]
    },
    {
     "name": "stdin",
     "output_type": "stream",
     "text": [
      "Select from (1/2/3/4) : 3\n",
      "Enter the first number : 12\n",
      "Enter the second number : 5\n"
     ]
    },
    {
     "name": "stdout",
     "output_type": "stream",
     "text": [
      "Multiplication of given two numbers is : 60\n"
     ]
    }
   ],
   "source": [
    "# (6) Write a Python program to perform basic arithmetic operations (addition, subtraction, multiplication,\n",
    "# division) on two numbers.(Another method).\n",
    "print (\"Select any operation :\")\n",
    "print(\" 1. Addition\")\n",
    "print(\" 2. substraction\")\n",
    "print(\" 3. multipliction\")\n",
    "print(\" 4. division\")\n",
    "operation=int(input(\"Select from (1/2/3/4) :\"))\n",
    "if (operation==1):\n",
    "    a=int(input(\"Enter the first number :\"))\n",
    "    b=int(input(\"Enter the second number :\"))\n",
    "    add=a+b\n",
    "    print(f\"Addition of given two numbers is : {add}\")\n",
    "elif (operation==2):\n",
    "    a=int(input(\"Enter the first number :\"))\n",
    "    b=int(input(\"Enter the second number :\"))\n",
    "    sub=a-b\n",
    "    print(f\"Subtraction of given two numbers is : {sub}\")\n",
    "elif (operation==3):\n",
    "    a=int(input(\"Enter the first number :\"))\n",
    "    b=int(input(\"Enter the second number :\"))\n",
    "    prod=a*b\n",
    "    print(f\"Multiplication of given two numbers is : {prod}\")\n",
    "elif (operation==4):\n",
    "    a=int(input(\"Enter the first number :\"))\n",
    "    b=int(input(\"Enter the second number :\"))\n",
    "    div=a/b\n",
    "    print(f\"Division of given two numbers is : {div}\")\n",
    "else:\n",
    "    print(\"Please select from the given operations\")"
   ]
  },
  {
   "cell_type": "code",
   "execution_count": 1,
   "id": "be46bd44-7dc5-4608-a26c-d46df933424d",
   "metadata": {},
   "outputs": [
    {
     "name": "stdout",
     "output_type": "stream",
     "text": [
      "WELCOME TO THE KAUN BANEGA CROREPATI!🤗\n"
     ]
    },
    {
     "name": "stdin",
     "output_type": "stream",
     "text": [
      "Enter your name :👦 Pooja\n"
     ]
    },
    {
     "name": "stdout",
     "output_type": "stream",
     "text": [
      "Hello, Pooja\n",
      "YOU  WILL BE ASKED 5 MULTIPLE CHOICE QUESTIONS.\n",
      "YOU CAN CHOOSE TO ANSWER OR TYPE 'SKIP' TO SKIP ANY QUESTION\n",
      "Question 1 : What is the capital of India ?\n",
      "A. Mumbai\n",
      "B. New Delhi\n",
      "C. Kanpur\n",
      "D. Bhopal\n"
     ]
    },
    {
     "name": "stdin",
     "output_type": "stream",
     "text": [
      "Enter your answer (A/B/C/D) or type 'skip' B\n"
     ]
    },
    {
     "name": "stdout",
     "output_type": "stream",
     "text": [
      "Correct!, You have earned 1000 points\n",
      "Question 2 : Who wrote the national anthem of India ?\n",
      "A. B.C. Chaterjee\n",
      "B. R.N. Tagore\n",
      "C. Sarojini naidu\n",
      "D. M.Gandhi\n"
     ]
    },
    {
     "name": "stdin",
     "output_type": "stream",
     "text": [
      "Enter your answer (A/B/C/D) or type 'skip' B\n"
     ]
    },
    {
     "name": "stdout",
     "output_type": "stream",
     "text": [
      "Correct!, You have earned 2000 points\n",
      "Question 3 : Which is the longest river of India ?\n",
      "A. Ganga\n",
      "B. Yamuna\n",
      "C. Godavari\n",
      "D. Narmada\n"
     ]
    },
    {
     "name": "stdin",
     "output_type": "stream",
     "text": [
      "Enter your answer (A/B/C/D) or type 'skip' D\n"
     ]
    },
    {
     "name": "stdout",
     "output_type": "stream",
     "text": [
      "Incorrect! the correct answer is A\n",
      "Question 4 : Who was the most powerful ruler of GURJAR-PRATIHAR dynasty ?\n",
      "A. Mahendrapal\n",
      "B. Naagpal\n",
      "C. Mihirbhoj\n",
      "D. Dhangdev\n"
     ]
    },
    {
     "name": "stdin",
     "output_type": "stream",
     "text": [
      "Enter your answer (A/B/C/D) or type 'skip' C\n"
     ]
    },
    {
     "name": "stdout",
     "output_type": "stream",
     "text": [
      "Correct!, You have earned 5000 points\n",
      "Question 5 : Where is the national park 'KANHA-KISLI' located ?\n",
      "A. U.P\n",
      "B. Bihar\n",
      "C. West Bengal\n",
      "D. M.P.\n"
     ]
    },
    {
     "name": "stdin",
     "output_type": "stream",
     "text": [
      "Enter your answer (A/B/C/D) or type 'skip' skip\n"
     ]
    },
    {
     "name": "stdout",
     "output_type": "stream",
     "text": [
      "You skipped this question\n",
      "GAME OVER!\n",
      "Number of correct answers : 3\n",
      "Total points earned : 8000\n",
      "Questions skipped : 1\n",
      "Number of wrong answers : 1\n",
      "Well done! You performed well.\n"
     ]
    },
    {
     "name": "stdin",
     "output_type": "stream",
     "text": [
      "Please rate our game out of 5 : 2\n"
     ]
    },
    {
     "name": "stdout",
     "output_type": "stream",
     "text": [
      "Thanks for your feedback, visit again 🙏.\n"
     ]
    }
   ],
   "source": [
    "#### (14) Create Our Own KBC Game.\n",
    "print(\"WELCOME TO THE KAUN BANEGA CROREPATI!🤗\")\n",
    "name=input(\"Enter your name :👦\")\n",
    "print(f\"Hello, {name}\")\n",
    "print(\"YOU  WILL BE ASKED 5 MULTIPLE CHOICE QUESTIONS.\")\n",
    "print(\"YOU CAN CHOOSE TO ANSWER OR TYPE 'SKIP' TO SKIP ANY QUESTION\")\n",
    "score=0\n",
    "skipped=0\n",
    "points=0\n",
    "wrong=0\n",
    "print(\"Question 1 : What is the capital of India ?\")\n",
    "print(\"A. Mumbai\\nB. New Delhi\\nC. Kanpur\\nD. Bhopal\")\n",
    "ans=input(\"Enter your answer (A/B/C/D) or type 'skip'\")\n",
    "if ans==\"skip\":\n",
    "    skipped+=1\n",
    "    print(\"You skipped this question\")\n",
    "elif ans==\"B\":\n",
    "    print(\"Correct!, You have earned 1000 points\")\n",
    "    score+=1\n",
    "    points+=1000\n",
    "    \n",
    "else:\n",
    "    print(\"Incorrect! the correct answer is B\")\n",
    "    wrong+=1\n",
    "print(\"Question 2 : Who wrote the national anthem of India ?\")\n",
    "print(\"A. B.C. Chaterjee\\nB. R.N. Tagore\\nC. Sarojini naidu\\nD. M.Gandhi\")\n",
    "ans=input(\"Enter your answer (A/B/C/D) or type 'skip'\")\n",
    "if ans==\"skip\":\n",
    "    skipped+=1\n",
    "    print(\"You skipped this question\")\n",
    "elif ans==\"B\":\n",
    "    print(\"Correct!, You have earned 2000 points\")\n",
    "    score+=1\n",
    "    points+=2000\n",
    "else:\n",
    "    print(\"Incorrect! the correct answer is B\")\n",
    "    wrong+=1\n",
    "print(\"Question 3 : Which is the longest river of India ?\")\n",
    "print(\"A. Ganga\\nB. Yamuna\\nC. Godavari\\nD. Narmada\")\n",
    "ans=input(\"Enter your answer (A/B/C/D) or type 'skip'\")\n",
    "if ans==\"skip\":\n",
    "    skipped+=1\n",
    "    print(\"You skipped this question\")\n",
    "elif ans==\"A\":\n",
    "    print(\"Correct!, You have earned 3000 points\")\n",
    "    score+=1\n",
    "    points+=3000\n",
    "else:\n",
    "    print(\"Incorrect! the correct answer is A\")\n",
    "    wrong+=1\n",
    "print(\"Question 4 : Who was the most powerful ruler of GURJAR-PRATIHAR dynasty ?\")\n",
    "print(\"A. Mahendrapal\\nB. Naagpal\\nC. Mihirbhoj\\nD. Dhangdev\")\n",
    "ans=input(\"Enter your answer (A/B/C/D) or type 'skip'\")\n",
    "if ans==\"skip\":\n",
    "    skipped+=1\n",
    "    print(\"You skipped this question\")\n",
    "elif ans==\"C\":\n",
    "    print(\"Correct!, You have earned 5000 points\")\n",
    "    score+=1\n",
    "    points+=5000\n",
    "else:\n",
    "    print(\"Incorrect! the correct answer is C\")\n",
    "    wrong+=1\n",
    "print(\"Question 5 : Where is the national park 'KANHA-KISLI' located ?\")\n",
    "print(\"A. U.P\\nB. Bihar\\nC. West Bengal\\nD. M.P.\")\n",
    "ans=input(\"Enter your answer (A/B/C/D) or type 'skip'\")\n",
    "if ans==\"skip\":\n",
    "    skipped+=1\n",
    "    print(\"You skipped this question\")\n",
    "elif ans==\"D\":\n",
    "    print(\"Correct, You have earned 10000 points\")\n",
    "    score+=1\n",
    "    points+=10000\n",
    "else:\n",
    "    print(\"Incorrect! the correct answer is D\")\n",
    "    wrong+=1\n",
    "print(\"GAME OVER!\")\n",
    "print(f\"Number of correct answers : {score}\")\n",
    "print(f\"Total points earned : {points}\")\n",
    "print(f\"Questions skipped : {skipped}\")\n",
    "print(f\"Number of wrong answers : {wrong}\")\n",
    "if score==5:\n",
    "    print(\"Excellant! you got all the answers correct\")\n",
    "elif score>=3:\n",
    "    print(\"Well done! You performed well.\")\n",
    "else:\n",
    "    print(\"Better luck next time!\")\n",
    "rate=input(\"Please rate our game out of 5 :\")\n",
    "print(\"Thanks for your feedback, visit again 🙏.\")"
   ]
  },
  {
   "cell_type": "code",
   "execution_count": null,
   "id": "0c8e00d4-5d85-48c6-abc6-f46c92654953",
   "metadata": {},
   "outputs": [],
   "source": []
  }
 ],
 "metadata": {
  "kernelspec": {
   "display_name": "Python 3 (ipykernel)",
   "language": "python",
   "name": "python3"
  },
  "language_info": {
   "codemirror_mode": {
    "name": "ipython",
    "version": 3
   },
   "file_extension": ".py",
   "mimetype": "text/x-python",
   "name": "python",
   "nbconvert_exporter": "python",
   "pygments_lexer": "ipython3",
   "version": "3.12.5"
  }
 },
 "nbformat": 4,
 "nbformat_minor": 5
}
