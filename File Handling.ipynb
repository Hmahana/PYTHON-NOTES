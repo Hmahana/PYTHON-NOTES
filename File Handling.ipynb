{
 "cells": [
  {
   "cell_type": "code",
   "execution_count": 25,
   "id": "40385cbf-f51f-4e4a-a569-396559fa5bfd",
   "metadata": {},
   "outputs": [
    {
     "name": "stdin",
     "output_type": "stream",
     "text": [
      "Enter the user name : Hariom singh\n",
      "Enter the email : singh@yahoo.com\n",
      "Enter the password : 123456\n"
     ]
    },
    {
     "name": "stdout",
     "output_type": "stream",
     "text": [
      "Details saved\n"
     ]
    }
   ],
   "source": [
    "# WAP to save the details of an user in a file.\n",
    "user=input(\"Enter the user name :\")\n",
    "email=input(\"Enter the email :\")\n",
    "pas=int(input(\"Enter the password :\"))\n",
    "file=open(\"hari.txt\",'w')\n",
    "file.write(f'User name :{user}\\n')\n",
    "file.write(f'Email address :{email}\\n')\n",
    "file.write(f'Password :{pas}\\n')\n",
    "file.close()\n",
    "print(\"Details saved\")"
   ]
  },
  {
   "cell_type": "code",
   "execution_count": 24,
   "id": "080b71f3-f80b-4fbc-8ce7-de6797578d54",
   "metadata": {},
   "outputs": [
    {
     "name": "stdout",
     "output_type": "stream",
     "text": [
      "Task completed\n"
     ]
    }
   ],
   "source": [
    "# WAP to create 10 employee ids with 10 character length, and store them in file name cred.txt.\n",
    "import random as rd\n",
    "import string as st\n",
    "file=open(\"cred.txt\",'w')\n",
    "file.write(\"Employee ids are :\\n\")\n",
    "for i in range(1,11):\n",
    "    res=\"\".join(rd.choices(st.ascii_uppercase+st.digits,k=10))\n",
    "    file.write(res)\n",
    "    file.write(\"\\n\")\n",
    "print(\"Task completed\")\n",
    "file.close()  "
   ]
  },
  {
   "cell_type": "code",
   "execution_count": 26,
   "id": "403d8e37-da43-44ec-ac73-904c396891af",
   "metadata": {},
   "outputs": [
    {
     "name": "stdout",
     "output_type": "stream",
     "text": [
      "Task completed\n"
     ]
    }
   ],
   "source": [
    "# Append mode('a'):\n",
    "import random as rd\n",
    "import string as st\n",
    "file=open(\"cred.txt\",'a') # Appending file=a\n",
    "file.write(\"Employee ids are :\\n\")\n",
    "for i in range(1,11):\n",
    "    res=\"\".join(rd.choices(st.ascii_uppercase+st.digits,k=10))\n",
    "    file.write(res)\n",
    "    file.write(\"\\n\")\n",
    "print(\"Task completed\")\n",
    "file.close()  "
   ]
  },
  {
   "cell_type": "code",
   "execution_count": 29,
   "id": "2a5b9b7e-857d-4968-aa9b-e2a8aadfd1ae",
   "metadata": {},
   "outputs": [
    {
     "name": "stdout",
     "output_type": "stream",
     "text": [
      "Task completed\n"
     ]
    }
   ],
   "source": [
    "import random as rd\n",
    "import string as st\n",
    "file=open(\"cred.txt\",'a') # Appending file=a\n",
    "file.write(\"Employee ids are :\\n\")\n",
    "for i in range(1,11):\n",
    "    res=\"IQ-\"+\"\".join(rd.choices(st.ascii_uppercase+st.digits,k=10))\n",
    "    file.write(res)\n",
    "    file.write(\"\\n\")\n",
    "print(\"Task completed\")\n",
    "file.close() "
   ]
  },
  {
   "cell_type": "code",
   "execution_count": 30,
   "id": "fd9f350b-b9c7-4939-81e0-542bd3999d0e",
   "metadata": {},
   "outputs": [
    {
     "name": "stdout",
     "output_type": "stream",
     "text": [
      "Employee ids are :\n",
      "I9T13WA91A\n",
      "0A59WJPN0T\n",
      "0VD8SZC5AW\n",
      "TBBMEGUJRG\n",
      "3KGL5JZOJZ\n",
      "DHTU0AGCZI\n",
      "YRGZVVNHLW\n",
      "DTFYJH31ED\n",
      "BW80HD81PE\n",
      "URIV2NXG7R\n",
      "Employee ids are :\n",
      "IMDX5NO3D6\n",
      "HV553M82T2\n",
      "DURTWQC0SF\n",
      "8JCUKD03C6\n",
      "L1G8UQ5F6W\n",
      "9VLIAKP3XX\n",
      "KY1Q1UYZQM\n",
      "UASZB7CJBR\n",
      "R55L611YOL\n",
      "49P2WI18KN\n",
      "Employee ids are :\n",
      "IQ-FWSWWB2KHG\n",
      "IQ-RT1PUEKQXB\n",
      "IQ-8BHSJYRUKU\n",
      "IQ-EYRS3PBW1Y\n",
      "IQ-9ZCBDQRNUN\n",
      "IQ-PLOMYUU783\n",
      "IQ-5BU34EES0S\n",
      "IQ-PGDF19NJSM\n",
      "IQ-XUB5ADFC1G\n",
      "IQ-043S6B10G0\n",
      "\n"
     ]
    }
   ],
   "source": [
    "file=open(\"cred.txt\",'r') # Read a file\n",
    "f=file.read()\n",
    "print(f)\n",
    "file.close()"
   ]
  },
  {
   "cell_type": "code",
   "execution_count": 31,
   "id": "0b442233-9e63-4f63-b237-c0b5ce5f7ee2",
   "metadata": {},
   "outputs": [
    {
     "name": "stdout",
     "output_type": "stream",
     "text": [
      "User name :Hariom singh\n",
      "Email address :singh@yahoo.com\n",
      "Password :123456\n",
      "\n"
     ]
    }
   ],
   "source": [
    "file=open(\"hari.txt\",'r') # Read a file\n",
    "f=file.read()\n",
    "print(f)\n",
    "file.close()"
   ]
  },
  {
   "cell_type": "code",
   "execution_count": 5,
   "id": "b0e8fb7d-7785-4ea0-af88-a1662d73fe00",
   "metadata": {},
   "outputs": [
    {
     "name": "stdout",
     "output_type": "stream",
     "text": [
      "Maximum number of characters are found in hariom\n"
     ]
    }
   ],
   "source": [
    "# Display a name with maximum no. of characters.\n",
    "name=['hariom','ankit','monu']\n",
    "great=name[0]\n",
    "for i in name:\n",
    "    if len(i)>len(great):\n",
    "        great=i\n",
    "print('Maximum number of characters are found in',great)      "
   ]
  },
  {
   "cell_type": "code",
   "execution_count": 43,
   "id": "78144ac6-13cb-4fbd-9cfb-1fb9da2225c2",
   "metadata": {},
   "outputs": [
    {
     "name": "stdout",
     "output_type": "stream",
     "text": [
      "a, i, o, a, i, o, u, \n",
      "Number of vowels : 7\n"
     ]
    }
   ],
   "source": [
    "# Total number of vowels present in the given list.\n",
    "name=['hariom','ankit','monu']\n",
    "vowel='aeiou'\n",
    "sum=0\n",
    "for i in name:\n",
    "    for j in i:\n",
    "        if(j in vowel):\n",
    "            sum+=1\n",
    "            print(j,end=\", \")\n",
    "print(\"\\nNumber of vowels :\",sum)"
   ]
  },
  {
   "cell_type": "code",
   "execution_count": 1,
   "id": "1858b5ef-4373-4bb9-b004-4643a1d2c429",
   "metadata": {},
   "outputs": [],
   "source": [
    "file=open(\"cred1.txt\",'w')\n",
    "file.close()"
   ]
  },
  {
   "cell_type": "code",
   "execution_count": 2,
   "id": "66c12b64-aeea-4b6b-9448-dee60e9a7c24",
   "metadata": {},
   "outputs": [
    {
     "name": "stdout",
     "output_type": "stream",
     "text": [
      "cred1.txt has been deleted successfully.\n"
     ]
    }
   ],
   "source": [
    "# remove():\n",
    "import os\n",
    "\n",
    "# Specify the file name to delete\n",
    "file_path = \"cred1.txt\"\n",
    "\n",
    "# Check if the file exists before deleting\n",
    "if os.path.exists(file_path):\n",
    "    os.remove(file_path)\n",
    "    print(f\"{file_path} has been deleted successfully.\")\n",
    "else:\n",
    "    print(f\"{file_path} does not exist.\")"
   ]
  },
  {
   "cell_type": "code",
   "execution_count": 3,
   "id": "d36f2375-ca05-4478-bb53-2fe96d2f22ac",
   "metadata": {},
   "outputs": [
    {
     "name": "stdout",
     "output_type": "stream",
     "text": [
      "cred2.txt does not exist.\n"
     ]
    }
   ],
   "source": [
    "import os\n",
    "\n",
    "# Specify the file name to delete\n",
    "file_path = \"cred2.txt\"\n",
    "\n",
    "# Check if the file exists before deleting\n",
    "if os.path.exists(file_path):\n",
    "    os.remove(file_path)\n",
    "    print(f\"{file_path} has been deleted successfully.\")\n",
    "else:\n",
    "    print(f\"{file_path} does not exist.\")"
   ]
  },
  {
   "cell_type": "code",
   "execution_count": 4,
   "id": "ffb1cd5c-14af-47de-8f07-29582a6a094d",
   "metadata": {},
   "outputs": [
    {
     "name": "stdout",
     "output_type": "stream",
     "text": [
      "File renamed from cred.txt to cred_updated.txt.\n"
     ]
    }
   ],
   "source": [
    "# rename():\n",
    "import os\n",
    "\n",
    "# Specify the old and new file names\n",
    "old_name = \"cred.txt\"\n",
    "new_name = \"cred_updated.txt\"\n",
    "\n",
    "# Rename the file\n",
    "if os.path.exists(old_name):\n",
    "    os.rename(old_name, new_name)\n",
    "    print(f\"File renamed from {old_name} to {new_name}.\")\n",
    "else:\n",
    "    print(f\"{old_name} does not exist.\")"
   ]
  },
  {
   "cell_type": "code",
   "execution_count": 6,
   "id": "8de1d844-30ea-4ea3-bd0d-0737eda801ab",
   "metadata": {},
   "outputs": [
    {
     "name": "stdout",
     "output_type": "stream",
     "text": [
      "cred1.txt does not exist.\n"
     ]
    }
   ],
   "source": [
    "import os\n",
    "\n",
    "# Specify the old and new file names\n",
    "old_name = \"cred1.txt\"\n",
    "new_name = \"cred1_updated.txt\"\n",
    "\n",
    "# Rename the file\n",
    "if os.path.exists(old_name):\n",
    "    os.rename(old_name, new_name)\n",
    "    print(f\"File renamed from {old_name} to {new_name}.\")\n",
    "else:\n",
    "    print(f\"{old_name} does not exist.\")"
   ]
  },
  {
   "cell_type": "code",
   "execution_count": 8,
   "id": "d55c04c9-f998-4bd4-bbae-217bef204745",
   "metadata": {},
   "outputs": [
    {
     "name": "stdout",
     "output_type": "stream",
     "text": [
      "Hello\n"
     ]
    }
   ],
   "source": [
    "import time\n",
    "time.sleep(5) # Gives output after 5 seconds.\n",
    "print(\"Hello\")"
   ]
  },
  {
   "cell_type": "code",
   "execution_count": 2,
   "id": "ee2caa81-ce0d-4d85-90a3-e27d07f27b1d",
   "metadata": {},
   "outputs": [
    {
     "name": "stdout",
     "output_type": "stream",
     "text": [
      "C:\\Users\\micorsoft\n"
     ]
    }
   ],
   "source": [
    "import os\n",
    "print(os.getcwd()) # current working directory"
   ]
  },
  {
   "cell_type": "code",
   "execution_count": 3,
   "id": "5cd9aabd-7be9-4d9f-9e3e-7d3033c48654",
   "metadata": {},
   "outputs": [
    {
     "name": "stdout",
     "output_type": "stream",
     "text": [
      "C:\\Users\\micorsoft\\Desktop\\Python Programs\n"
     ]
    }
   ],
   "source": [
    "os.chdir(r\"C:\\Users\\micorsoft\\Desktop\\Python Programs\") # change directory\n",
    "print(os.getcwd())"
   ]
  },
  {
   "cell_type": "code",
   "execution_count": 6,
   "id": "f7da7b3e-f74d-49a0-98b6-1c1b5cfc882b",
   "metadata": {},
   "outputs": [
    {
     "name": "stdout",
     "output_type": "stream",
     "text": [
      "Created\n"
     ]
    }
   ],
   "source": [
    "# Storing file at changed location.\n",
    "path=r\"C:\\Users\\micorsoft\\Desktop\\Python Programs\"\n",
    "file=open(f\"{path}/abc.txt\",'x')\n",
    "file.close()\n",
    "print(\"Created\")"
   ]
  },
  {
   "cell_type": "code",
   "execution_count": 9,
   "id": "14059e81-863d-4239-b951-89bba0ded11a",
   "metadata": {},
   "outputs": [
    {
     "name": "stdout",
     "output_type": "stream",
     "text": [
      "Data inserted\n"
     ]
    }
   ],
   "source": [
    "path=r\"C:\\Users\\micorsoft\\Desktop\\Python Programs\"\n",
    "file=open(f\"{path}/abc.txt\",'w')\n",
    "file.write(\"Hello everyone, my name is Hariom Singh.\\nI'm from Morena.\\nI'm learning Python\")\n",
    "file.close()\n",
    "print(\"Data inserted\")"
   ]
  },
  {
   "cell_type": "code",
   "execution_count": 10,
   "id": "63abe1a1-e0f7-4442-b29a-c86adfdf8b1d",
   "metadata": {},
   "outputs": [
    {
     "name": "stdout",
     "output_type": "stream",
     "text": [
      "C:\\Users\\micorsoft\n"
     ]
    }
   ],
   "source": [
    "os.chdir(r\"C:\\Users\\micorsoft\")\n",
    "print(os.getcwd())"
   ]
  },
  {
   "cell_type": "code",
   "execution_count": null,
   "id": "d971f240-a107-4311-9c40-9c51175d1e94",
   "metadata": {},
   "outputs": [],
   "source": []
  }
 ],
 "metadata": {
  "kernelspec": {
   "display_name": "Python 3 (ipykernel)",
   "language": "python",
   "name": "python3"
  },
  "language_info": {
   "codemirror_mode": {
    "name": "ipython",
    "version": 3
   },
   "file_extension": ".py",
   "mimetype": "text/x-python",
   "name": "python",
   "nbconvert_exporter": "python",
   "pygments_lexer": "ipython3",
   "version": "3.12.5"
  }
 },
 "nbformat": 4,
 "nbformat_minor": 5
}
