{
 "cells": [
  {
   "cell_type": "code",
   "execution_count": 1,
   "id": "25b37e63-d322-4484-bd58-6b3158d23f11",
   "metadata": {},
   "outputs": [
    {
     "name": "stdout",
     "output_type": "stream",
     "text": [
      "5\n"
     ]
    }
   ],
   "source": [
    "a=2\n",
    "b=3\n",
    "c= a+b\n",
    "print (c)"
   ]
  },
  {
   "cell_type": "code",
   "execution_count": 1,
   "id": "597bd768-ef77-4498-a1b0-7352c4d65375",
   "metadata": {},
   "outputs": [
    {
     "name": "stdout",
     "output_type": "stream",
     "text": [
      " Hello Everyone \n"
     ]
    }
   ],
   "source": [
    "print ( \" Hello Everyone \")\n"
   ]
  },
  {
   "cell_type": "code",
   "execution_count": 2,
   "id": "2c5890a8-279d-413b-a5b7-234ab7f2eb50",
   "metadata": {},
   "outputs": [
    {
     "name": "stdout",
     "output_type": "stream",
     "text": [
      "169\n"
     ]
    }
   ],
   "source": [
    "# WAP to add four numbers 12,23,45,89.\n",
    "a=12\n",
    "b=23\n",
    "c=45\n",
    "d=89\n",
    "sum = a+b+c+d\n",
    "print ( sum )"
   ]
  },
  {
   "cell_type": "code",
   "execution_count": 6,
   "id": "e163cd5f-6931-4da1-9ef5-27db608cf3b4",
   "metadata": {},
   "outputs": [
    {
     "name": "stdout",
     "output_type": "stream",
     "text": [
      "Substraction = 37\n",
      "Multiplication = 400\n",
      "Division = 5.6\n",
      "Addition = 63\n"
     ]
    }
   ],
   "source": [
    "# WAP for addition, substraction, divide, multiply\n",
    "a1=50\n",
    "a2= 13\n",
    "res1 = a1-a2\n",
    "print (\"Substraction =\", res1)\n",
    "b1=20\n",
    "b2= 20\n",
    "res2 = b1*b2\n",
    "print (\"Multiplication =\",res2)\n",
    "c1=56\n",
    "c2= 10\n",
    "res3 = c1/c2\n",
    "print (\"Division =\",res3)\n",
    "d1=50\n",
    "d2= 13\n",
    "res4 = d1+d2\n",
    "print (\"Addition =\",res4)"
   ]
  },
  {
   "cell_type": "code",
   "execution_count": 7,
   "id": "03784147-32bf-4b98-9b66-7956d22bedc7",
   "metadata": {},
   "outputs": [
    {
     "name": "stdout",
     "output_type": "stream",
     "text": [
      " Average score =  32.4\n"
     ]
    }
   ],
   "source": [
    "# WAP to find the average of 5 players scores\n",
    "p1=23\n",
    "p2=20\n",
    "p3=34\n",
    "p4=40\n",
    "p5=45\n",
    "Avg = (p1+p2+p3+p4+p5)/5\n",
    "print (\" Average score = \", Avg)"
   ]
  },
  {
   "cell_type": "code",
   "execution_count": 5,
   "id": "2fcd4fb2-bb76-4515-95cc-a60b2802122e",
   "metadata": {},
   "outputs": [
    {
     "name": "stdout",
     "output_type": "stream",
     "text": [
      " Before Swapping x= 35 y= 45\n",
      " After Swapping x= 45 y= 35\n"
     ]
    }
   ],
   "source": [
    "# Swapping numbers\n",
    "x=35\n",
    "y=45\n",
    "print ( \" Before Swapping x=\", x,\"y=\",y)\n",
    "temp= x\n",
    "x=y\n",
    "y=temp\n",
    "print ( \" After Swapping x=\", x, \"y=\",y)"
   ]
  },
  {
   "cell_type": "code",
   "execution_count": 5,
   "id": "178a9b4c-da80-48b0-9a28-8bf2325021d3",
   "metadata": {},
   "outputs": [
    {
     "name": "stdout",
     "output_type": "stream",
     "text": [
      "Input for Addtion\n"
     ]
    },
    {
     "name": "stdin",
     "output_type": "stream",
     "text": [
      "Enter number 1 :  30\n",
      "Enter number 2 :  20\n"
     ]
    },
    {
     "name": "stdout",
     "output_type": "stream",
     "text": [
      "Addition =  50\n",
      "Input for Substraction\n"
     ]
    },
    {
     "name": "stdin",
     "output_type": "stream",
     "text": [
      "Enter number 1 :  25\n",
      "Enter number 2 :  20\n"
     ]
    },
    {
     "name": "stdout",
     "output_type": "stream",
     "text": [
      "Substraction =  5\n",
      "Input for Multiplication\n"
     ]
    },
    {
     "name": "stdin",
     "output_type": "stream",
     "text": [
      "Enter number 1 :  10\n",
      "Enter number 2 :  6\n"
     ]
    },
    {
     "name": "stdout",
     "output_type": "stream",
     "text": [
      "Multiplication =  60\n",
      "Input for Division\n"
     ]
    },
    {
     "name": "stdin",
     "output_type": "stream",
     "text": [
      "Enter number 1 :  100\n",
      "Enter number 2 :  5\n"
     ]
    },
    {
     "name": "stdout",
     "output_type": "stream",
     "text": [
      "Division =  20.0\n"
     ]
    }
   ],
   "source": [
    "# WAP to take input of 2 numbers and do sum, substraction, multiplication and Division.\n",
    "print(\"Input for Addtion\")\n",
    "n1=int(input(\"Enter number 1 : \"))\n",
    "n2=int(input(\"Enter number 2 : \"))\n",
    "res = n1+n2\n",
    "print (\"Addition = \", res)\n",
    "print(\"Input for Substraction\")\n",
    "n1=int(input(\"Enter number 1 : \"))\n",
    "n2=int(input(\"Enter number 2 : \"))\n",
    "res = n1-n2\n",
    "print (\"Substraction = \", res)\n",
    "print(\"Input for Multiplication\")\n",
    "n1=int(input(\"Enter number 1 : \"))\n",
    "n2=int(input(\"Enter number 2 : \"))\n",
    "res = n1*n2\n",
    "print (\"Multiplication = \", res)\n",
    "print(\"Input for Division\")\n",
    "n1=int(input(\"Enter number 1 : \"))\n",
    "n2=int(input(\"Enter number 2 : \"))\n",
    "res = n1/n2\n",
    "print (\"Division = \", res)"
   ]
  },
  {
   "cell_type": "code",
   "execution_count": 15,
   "id": "47bfe1cf-fcbe-4512-8660-2fd96b56583d",
   "metadata": {},
   "outputs": [
    {
     "name": "stdin",
     "output_type": "stream",
     "text": [
      "Enter the cost price :  500\n",
      "Enter the selling price :  1000\n"
     ]
    },
    {
     "name": "stdout",
     "output_type": "stream",
     "text": [
      "Profit Percentage =  100.0 %\n"
     ]
    }
   ],
   "source": [
    "# WAP to calculate the profit percentage of a product price given by a user.\n",
    "n1= float(input(\"Enter the cost price : \"))\n",
    "n2= float(input(\"Enter the selling price : \"))\n",
    "res= ((n2-n1)/n1)*100\n",
    "print(\"Profit Percentage = \", res, \"%\")"
   ]
  },
  {
   "cell_type": "code",
   "execution_count": 14,
   "id": "4fef7a0f-5beb-4c03-b52a-15c596692e61",
   "metadata": {},
   "outputs": [
    {
     "name": "stdin",
     "output_type": "stream",
     "text": [
      " Enter the temperature in celsius  40\n"
     ]
    },
    {
     "name": "stdout",
     "output_type": "stream",
     "text": [
      " In Fahrenheit temperature is  104.0\n"
     ]
    }
   ],
   "source": [
    "# WAP to convert celsius to Fahrenheit.\n",
    "c= float ( input (\" Enter the temperature in celsius \"))\n",
    "f= c*(9/5)+32\n",
    "print (\" In Fahrenheit temperature is \", f)"
   ]
  },
  {
   "cell_type": "code",
   "execution_count": 8,
   "id": "d7c56fca-d673-4d8d-abe1-373732169f89",
   "metadata": {},
   "outputs": [
    {
     "name": "stdout",
     "output_type": "stream",
     "text": [
      "8\n",
      "True\n",
      "False\n",
      "True\n",
      "1\n"
     ]
    }
   ],
   "source": [
    "# Comparision operators\n",
    "a=25\n",
    "b=3\n",
    "print (a//b) # floor division\n",
    "print(a>b)\n",
    "print(b>a)\n",
    "print(a!=b) # not equal to\n",
    "print (a%b) # Modulus"
   ]
  },
  {
   "cell_type": "code",
   "execution_count": 12,
   "id": "16495529-dc93-49ab-8712-276462504f4c",
   "metadata": {},
   "outputs": [
    {
     "name": "stdout",
     "output_type": "stream",
     "text": [
      "True\n",
      "False\n",
      "False\n"
     ]
    }
   ],
   "source": [
    "# Logical Operators\n",
    "a=20\n",
    "b=25\n",
    "c=40\n",
    "d=55\n",
    "print(a>b or b>c or d>c)\n",
    "print(a>b and b>c and d>c)\n",
    "print(not (a>b or b>c or d>c))"
   ]
  },
  {
   "cell_type": "code",
   "execution_count": 26,
   "id": "61a89015-b96c-465c-8897-00bd3beb886f",
   "metadata": {},
   "outputs": [
    {
     "name": "stdout",
     "output_type": "stream",
     "text": [
      "yes\n"
     ]
    }
   ],
   "source": [
    "# Conditional statements.\n",
    "a=20\n",
    "b=30\n",
    "if (a<b):\n",
    "    print ( \"yes\")\n",
    "else:\n",
    "    print (\"no\")   "
   ]
  },
  {
   "cell_type": "code",
   "execution_count": 32,
   "id": "7af7c955-a04c-486b-aea1-32cf2566de56",
   "metadata": {},
   "outputs": [
    {
     "name": "stdin",
     "output_type": "stream",
     "text": [
      "Enter your marks :  67\n"
     ]
    },
    {
     "name": "stdout",
     "output_type": "stream",
     "text": [
      "You are pass\n"
     ]
    }
   ],
   "source": [
    "# WAP to check students are fail or pass.( Passing marks =45).\n",
    "mrk= int (input(\"Enter your marks : \"))\n",
    "if (mrk>45):\n",
    "          print (\"You are pass\")\n",
    "else :\n",
    "          print (\"You are fail\")"
   ]
  },
  {
   "cell_type": "code",
   "execution_count": 5,
   "id": "a6cbe6e7-3546-4fc8-bff9-90708da21980",
   "metadata": {},
   "outputs": [
    {
     "name": "stdin",
     "output_type": "stream",
     "text": [
      "Enter the first no. : 789\n",
      "Enter the second no. : 78\n",
      "Enter the third no. : 90\n"
     ]
    },
    {
     "name": "stdout",
     "output_type": "stream",
     "text": [
      "789  is the largest number\n"
     ]
    }
   ],
   "source": [
    "# WAP to find out biggest number between 23,78,99.\n",
    "a=int(input(\"Enter the first no. :\"))\n",
    "b=int(input(\"Enter the second no. :\"))\n",
    "c=int(input(\"Enter the third no. :\"))\n",
    "if(a>b and a>c):\n",
    "    print(a, \" is the largest number\")\n",
    "elif(b>a and b>c):\n",
    "    print(b, \" is the largest number\")\n",
    "else:\n",
    "    print(c, \"is the largest number.\")"
   ]
  },
  {
   "cell_type": "code",
   "execution_count": 10,
   "id": "fa473b1a-44e2-4fb1-ac62-76d5c45a90d7",
   "metadata": {},
   "outputs": [
    {
     "name": "stdin",
     "output_type": "stream",
     "text": [
      "Enter your no. : 67\n"
     ]
    },
    {
     "name": "stdout",
     "output_type": "stream",
     "text": [
      "Odd number\n"
     ]
    }
   ],
   "source": [
    "# WAP to check the number is odd or even.\n",
    "a=int(input(\"Enter your no. :\"))\n",
    "if(a%2==0):\n",
    "    print(\"Even number\")\n",
    "else:\n",
    "    print(\"Odd number\")"
   ]
  },
  {
   "cell_type": "code",
   "execution_count": 15,
   "id": "985b7efa-f324-4e22-9074-dd2f450f5fab",
   "metadata": {},
   "outputs": [
    {
     "name": "stdin",
     "output_type": "stream",
     "text": [
      "Enter your no. : 45\n"
     ]
    },
    {
     "name": "stdout",
     "output_type": "stream",
     "text": [
      "No, it is not divisible by 2 and 3\n"
     ]
    }
   ],
   "source": [
    "# WAP to check a number divisible by 2 and 3.\n",
    "a=int(input(\"Enter your no. :\"))\n",
    "if(a%2==0 and a%3==0):\n",
    "    print(\"Yes, it is divisible by 2 and 3\")\n",
    "else:\n",
    "    print(\"No, it is not divisible by 2 and 3\")"
   ]
  },
  {
   "cell_type": "code",
   "execution_count": 17,
   "id": "f39a0c3e-6cc6-47ae-9914-ba4d577472e2",
   "metadata": {},
   "outputs": [
    {
     "name": "stdin",
     "output_type": "stream",
     "text": [
      "Enter your no. : 789\n"
     ]
    },
    {
     "name": "stdout",
     "output_type": "stream",
     "text": [
      "9\n"
     ]
    }
   ],
   "source": [
    "# WAP to find the last digit of a number given by user.\n",
    "a=int(input(\"Enter your no. :\"))\n",
    "print(a%10)"
   ]
  },
  {
   "cell_type": "code",
   "execution_count": 3,
   "id": "38ba2aef-a0d1-42f3-8d25-f1b8c0b9311a",
   "metadata": {},
   "outputs": [
    {
     "name": "stdin",
     "output_type": "stream",
     "text": [
      "Enter the first number : 34\n",
      "Enter the second number : 56\n",
      "Enter the third number : 27\n"
     ]
    },
    {
     "name": "stdout",
     "output_type": "stream",
     "text": [
      "34  is the middle number\n"
     ]
    }
   ],
   "source": [
    "# Finding the middle number\n",
    "a=int(input(\"Enter the first number :\"))\n",
    "b=int(input(\"Enter the second number :\"))\n",
    "c=int(input(\"Enter the third number :\"))\n",
    "if((a>b and a<c) or (a>c and a<b)):\n",
    "    print(a,\" is the middle number\")\n",
    "elif((b>a and b<c) or (b>c and b<a)):\n",
    "    print(b,\" is the middle number\")\n",
    "elif((c>a and c<b) or (c>b and c<a)):\n",
    "    print(c,\" is the middle number\")    \n",
    "else:\n",
    "    print(\"All numbers are equal\")"
   ]
  },
  {
   "cell_type": "code",
   "execution_count": 9,
   "id": "6738656b-990f-4abb-90d4-91ae49201d90",
   "metadata": {},
   "outputs": [
    {
     "name": "stdin",
     "output_type": "stream",
     "text": [
      "Enter the total classes conducted : 250\n",
      "Enter the total classes attended by a student : 200\n"
     ]
    },
    {
     "name": "stdout",
     "output_type": "stream",
     "text": [
      "Eligible\n"
     ]
    }
   ],
   "source": [
    "# Calculate class attendance percentage.\n",
    "total_class=int(input(\"Enter the total classes conducted :\"))\n",
    "attend=int(input(\"Enter the total classes attended by a student :\"))\n",
    "per=(attend/total_class)*100\n",
    "if (per>=75):\n",
    "    print(\"Eligible\")\n",
    "else:\n",
    "    print(\"Not eligible\")"
   ]
  },
  {
   "cell_type": "code",
   "execution_count": 19,
   "id": "ac309a45-42bc-4750-9144-cf044e904bd3",
   "metadata": {},
   "outputs": [
    {
     "name": "stdin",
     "output_type": "stream",
     "text": [
      "Enter the number of days the book has been borrowed : 12\n"
     ]
    },
    {
     "name": "stdout",
     "output_type": "stream",
     "text": [
      "Charge=Rs 4 per day\n",
      "Total Charge =  48  Rs\n"
     ]
    }
   ],
   "source": [
    "# Library charge calculation\n",
    "days=int(input(\"Enter the number of days the book has been borrowed :\"))\n",
    "if(days<=5):\n",
    "    print(\"Charge=Rs 2 per day\")\n",
    "    print(\"Total Charge = \",days*2,\" Rs\")\n",
    "elif(6<=days<=10):\n",
    "    print(\"Charge=Rs 3 per day\")\n",
    "    print(\"Total Charge = \",days*3,\" Rs\")\n",
    "elif(11<=days<=15):\n",
    "    print(\"Charge=Rs 4 per day\")\n",
    "    print(\"Total Charge = \",days*4,\" Rs\")\n",
    "else:\n",
    "    print(\"Charge=Rs 5 per day\")\n",
    "    print(\"Total Charge = \",days*5,\" Rs\")"
   ]
  },
  {
   "cell_type": "code",
   "execution_count": 5,
   "id": "1b7be7c3-1365-405e-9ad1-d8bda6493d24",
   "metadata": {},
   "outputs": [
    {
     "name": "stdin",
     "output_type": "stream",
     "text": [
      "Enter the name of student : hariom singh\n",
      "Enter the percentage : 78\n",
      "Enter your stream : pcm\n"
     ]
    },
    {
     "name": "stdout",
     "output_type": "stream",
     "text": [
      "Congratulations! you are eligible for B.TECH admission\n"
     ]
    }
   ],
   "source": [
    "# Nested conditional statements :\n",
    "# WAP to select the student for btech admission :\n",
    "# Eligibility :\n",
    "# (1) Ask his/her name.\n",
    "# (2) Percentage of 12th more than 60.\n",
    "# (3) Check stream in 12th(pcm/pcb).\n",
    "name=input(\"Enter the name of student :\")\n",
    "if name:\n",
    "    per=float(input(\"Enter the percentage :\"))\n",
    "    if (per>=60):\n",
    "        stream=input(\"Enter your stream :\")\n",
    "        if(stream==\"pcm\"):\n",
    "            print(\"Congratulations! you are eligible for B.TECH admission\")\n",
    "        else:\n",
    "            print(\"Not eligible for B.TECH because stream requirement is not fulfilled\")\n",
    "    else:\n",
    "        print(\"Not eligible for B.TECH because of Less percentage\")\n",
    "else:\n",
    "    print(\"Sorry, you are not eligible for B.TECH admission\")"
   ]
  },
  {
   "cell_type": "code",
   "execution_count": 16,
   "id": "627d91a1-f1fa-4ebf-ad1c-de734f860672",
   "metadata": {},
   "outputs": [
    {
     "name": "stdin",
     "output_type": "stream",
     "text": [
      "Enter a year : 2028\n"
     ]
    },
    {
     "name": "stdout",
     "output_type": "stream",
     "text": [
      "leap year\n"
     ]
    }
   ],
   "source": [
    "# WAP to check the provided year by user is leap or not.\n",
    "year=int(input(\"Enter a year :\"))\n",
    "if(year%4==0 and year%100!=0)or(year%400==0):\n",
    "    print(\"leap year\")\n",
    "else:\n",
    "    print(\"Not a leap year\")"
   ]
  },
  {
   "cell_type": "code",
   "execution_count": 20,
   "id": "078ffcac-1cbd-4cb7-8b17-6a8634b0a115",
   "metadata": {},
   "outputs": [
    {
     "name": "stdin",
     "output_type": "stream",
     "text": [
      "Enter your pre marks : 700\n"
     ]
    },
    {
     "name": "stdout",
     "output_type": "stream",
     "text": [
      "You are pass in pre exam\n"
     ]
    },
    {
     "name": "stdin",
     "output_type": "stream",
     "text": [
      "Enter your mains marks : 800\n"
     ]
    },
    {
     "name": "stdout",
     "output_type": "stream",
     "text": [
      "You are pass in mains exam\n"
     ]
    },
    {
     "name": "stdin",
     "output_type": "stream",
     "text": [
      "Enter your interview marks : 900\n"
     ]
    },
    {
     "name": "stdout",
     "output_type": "stream",
     "text": [
      "Congrtulations! you are finally selected\n",
      "Your total marks (pre+mains+interview) = 2400\n"
     ]
    }
   ],
   "source": [
    "# WAP to check the selection process of an upsc aspirant.\n",
    "# min pre marks=300\n",
    "# min mains marks=400\n",
    "# min interview marks=600\n",
    "pre=int(input(\"Enter your pre marks :\"))\n",
    "if(pre>=300):\n",
    "    print(\"You are pass in pre exam\")\n",
    "    mains=int(input(\"Enter your mains marks :\"))\n",
    "    if(mains>=400):\n",
    "        print(\"You are pass in mains exam\")\n",
    "        inter=int(input(\"Enter your interview marks :\"))\n",
    "        if(inter>=600):\n",
    "            print(\"Congrtulations! you are finally selected\")\n",
    "            print(\"Your total marks (pre+mains+interview) =\",pre+mains+inter)\n",
    "        else:\n",
    "            print(\"Sorry, you are not selected\")\n",
    "    else:\n",
    "        print(\"Sorry, you are failed in mains exam\")\n",
    "else:\n",
    "    print(\"Sorry, you are failed in pre exam\")"
   ]
  },
  {
   "cell_type": "code",
   "execution_count": 10,
   "id": "585c57e4-ee96-405b-ac13-4c66309fcc21",
   "metadata": {},
   "outputs": [
    {
     "name": "stdout",
     "output_type": "stream",
     "text": [
      "2*1 = 2\n",
      "2*2 = 4\n",
      "2*3 = 6\n",
      "2*4 = 8\n",
      "2*5 = 10\n",
      "2*6 = 12\n",
      "2*7 = 14\n",
      "2*8 = 16\n",
      "2*9 = 18\n",
      "2*10 = 20\n"
     ]
    }
   ],
   "source": [
    "# Loops in python.\n",
    "# WAP to print out the table of 2.\n",
    "for i in range(1,11):\n",
    "    print(f\"2*{i} =\",2*i) "
   ]
  },
  {
   "cell_type": "code",
   "execution_count": 9,
   "id": "2964e455-f6fa-43cc-9f1f-87a2aff67347",
   "metadata": {},
   "outputs": [
    {
     "name": "stdin",
     "output_type": "stream",
     "text": [
      "Enter the number : 8\n"
     ]
    },
    {
     "name": "stdout",
     "output_type": "stream",
     "text": [
      "8*1 = 8\n",
      "8*2 = 16\n",
      "8*3 = 24\n",
      "8*4 = 32\n",
      "8*5 = 40\n",
      "8*6 = 48\n",
      "8*7 = 56\n",
      "8*8 = 64\n",
      "8*9 = 72\n",
      "8*10 = 80\n"
     ]
    }
   ],
   "source": [
    "# WAP to print out the table of any number.\n",
    "num=int(input(\"Enter the number :\"))\n",
    "for i in range(1,11):\n",
    "    print(f\"{num}*{i} =\",num*i) "
   ]
  },
  {
   "cell_type": "code",
   "execution_count": 8,
   "id": "e83e9b82-9654-44e5-aaee-d0f32a84f147",
   "metadata": {},
   "outputs": [
    {
     "name": "stdin",
     "output_type": "stream",
     "text": [
      "Enter the number : 7\n"
     ]
    },
    {
     "name": "stdout",
     "output_type": "stream",
     "text": [
      "7*10 = 70\n",
      "7*9 = 63\n",
      "7*8 = 56\n",
      "7*7 = 49\n",
      "7*6 = 42\n",
      "7*5 = 35\n",
      "7*4 = 28\n",
      "7*3 = 21\n",
      "7*2 = 14\n",
      "7*1 = 7\n"
     ]
    }
   ],
   "source": [
    "# WAP to print out the table in reverse.\n",
    "num=int(input(\"Enter the number :\"))\n",
    "for i in range(10,0,-1):\n",
    "    print(f\"{num}*{i} =\",num*i) "
   ]
  },
  {
   "cell_type": "code",
   "execution_count": 18,
   "id": "11804321-5863-4a92-a9d6-90393a2487d6",
   "metadata": {},
   "outputs": [
    {
     "name": "stdin",
     "output_type": "stream",
     "text": [
      "Enter the start number : 1\n",
      "Enter the end number : 50\n"
     ]
    },
    {
     "name": "stdout",
     "output_type": "stream",
     "text": [
      "SUM = 1225\n"
     ]
    }
   ],
   "source": [
    "# WAP to take start number and end number from user, then do the sum of all generated numbers.\n",
    "a=int(input(\"Enter the start number :\"))\n",
    "b=int(input(\"Enter the end number :\"))\n",
    "sum=0\n",
    "for i in range(a,b):\n",
    "    sum+=i\n",
    "print(\"SUM =\",sum)"
   ]
  },
  {
   "cell_type": "code",
   "execution_count": 22,
   "id": "c2edc006-72ba-4649-b8ff-3a6c9b68d0f5",
   "metadata": {},
   "outputs": [
    {
     "name": "stdin",
     "output_type": "stream",
     "text": [
      "Enter the start number : 5\n",
      "Enter the end number : 11\n"
     ]
    },
    {
     "name": "stdout",
     "output_type": "stream",
     "text": [
      "Product = 151200\n"
     ]
    }
   ],
   "source": [
    "# WAP to take start number and end number from user, then do the product of all generated numbers.\n",
    "a=int(input(\"Enter the start number :\"))\n",
    "b=int(input(\"Enter the end number :\"))\n",
    "prod=1\n",
    "for i in range(a,b):\n",
    "    prod*=i\n",
    "print(\"Product =\",prod)"
   ]
  },
  {
   "cell_type": "code",
   "execution_count": 2,
   "id": "c91c229d-16b8-4ab5-bf1d-158a55d36ef9",
   "metadata": {},
   "outputs": [
    {
     "name": "stdout",
     "output_type": "stream",
     "text": [
      "s\n"
     ]
    }
   ],
   "source": [
    "# Indexing\n",
    "data=\"this is hariom singh\"\n",
    "print(data[6])"
   ]
  },
  {
   "cell_type": "code",
   "execution_count": 4,
   "id": "fd0669f4-5d40-45f1-8545-bb71261c63e7",
   "metadata": {},
   "outputs": [
    {
     "name": "stdout",
     "output_type": "stream",
     "text": [
      "g\n"
     ]
    }
   ],
   "source": [
    "data=\"this is hariom singh\"\n",
    "print(data[-2])"
   ]
  },
  {
   "cell_type": "code",
   "execution_count": 17,
   "id": "49059ec0-54b4-49a6-a159-326d95181e3a",
   "metadata": {},
   "outputs": [
    {
     "name": "stdout",
     "output_type": "stream",
     "text": [
      "12\n"
     ]
    }
   ],
   "source": [
    "data=\"hariom singh\"\n",
    "size=len(data)\n",
    "print(size)"
   ]
  },
  {
   "cell_type": "code",
   "execution_count": 8,
   "id": "b85f26e1-9472-4981-82ae-5fb8303878dc",
   "metadata": {},
   "outputs": [
    {
     "name": "stdout",
     "output_type": "stream",
     "text": [
      "hariom singh"
     ]
    }
   ],
   "source": [
    "data=\"hariom singh\"\n",
    "size=len(data)\n",
    "for e in range (size):\n",
    "    print(data[e],end=\"\")"
   ]
  },
  {
   "cell_type": "code",
   "execution_count": 13,
   "id": "a3e03aac-07c3-4db2-9d0d-a2208e5639a4",
   "metadata": {},
   "outputs": [
    {
     "name": "stdout",
     "output_type": "stream",
     "text": [
      "Total characters : 26\n"
     ]
    }
   ],
   "source": [
    "data=\"this is python programming\"\n",
    "size=len(data)\n",
    "count=0\n",
    "for e in range (size):\n",
    "    count+=1\n",
    "print(\"Total characters :\",count)  "
   ]
  },
  {
   "cell_type": "code",
   "execution_count": 16,
   "id": "aac2b5fd-77e3-4ccb-924d-9f917db2808e",
   "metadata": {},
   "outputs": [
    {
     "name": "stdout",
     "output_type": "stream",
     "text": [
      "gnimmargorp nohtyp si siht"
     ]
    }
   ],
   "source": [
    "# WAP to reverse the data.\n",
    "data=\"this is python programming\"\n",
    "size=len(data)\n",
    "for e in range(size-1,-1,-1):\n",
    "    print(data[e],end=\"\")"
   ]
  },
  {
   "cell_type": "code",
   "execution_count": 19,
   "id": "a2954927-dd9b-40a1-81aa-7e25838aa389",
   "metadata": {},
   "outputs": [
    {
     "name": "stdout",
     "output_type": "stream",
     "text": [
      "gnimmargorp nohtyp si siht"
     ]
    }
   ],
   "source": [
    "# WAP to reverse the data.(another method)\n",
    "data=\"this is python programming\"\n",
    "size=len(data)\n",
    "rev=\"\"\n",
    "for e in range (size):\n",
    "    rev=data[e]+rev\n",
    "print(rev,end=\"\")  "
   ]
  },
  {
   "cell_type": "code",
   "execution_count": 23,
   "id": "7910c354-c154-4cdf-823e-deabd983e422",
   "metadata": {},
   "outputs": [
    {
     "name": "stdout",
     "output_type": "stream",
     "text": [
      "ths s pythn prgrmmng"
     ]
    }
   ],
   "source": [
    "# WAP to print all the consonants from a given data.\n",
    "data=\"this is python programming\"\n",
    "size=len(data)\n",
    "for e in range (size):\n",
    "    if(data[e] not in (\"a,e,i,o,u\")):\n",
    "        print(data[e],end=\"\")"
   ]
  },
  {
   "cell_type": "code",
   "execution_count": 6,
   "id": "2b5b7bf0-2a7c-40bf-acba-78d46bdce4fc",
   "metadata": {},
   "outputs": [
    {
     "name": "stdin",
     "output_type": "stream",
     "text": [
      "Enter the start number : 1\n",
      "Enter the end number : 51\n"
     ]
    },
    {
     "name": "stdout",
     "output_type": "stream",
     "text": [
      "Odd numbers are :\n",
      "1 3 5 7 9 11 13 15 17 19 21 23 25 27 29 31 33 35 37 39 41 43 45 47 49 51 "
     ]
    }
   ],
   "source": [
    "# WAP to print all odd numbers from start point to end point given by a user.\n",
    "a=int(input(\"Enter the start number :\"))\n",
    "b=int(input(\"Enter the end number :\"))\n",
    "print(\"Odd numbers are :\")\n",
    "for e in range(a,b+1):\n",
    "    if(e%2!=0):\n",
    "        print(e,end=\" \")"
   ]
  },
  {
   "cell_type": "code",
   "execution_count": 10,
   "id": "d474d9c5-e537-4497-8bc2-800a7fcf3fb7",
   "metadata": {},
   "outputs": [
    {
     "name": "stdout",
     "output_type": "stream",
     "text": [
      "Hello\n",
      "Bye\n",
      "Bye\n",
      "Bye\n",
      "Bye\n",
      "Hello\n",
      "Bye\n",
      "Bye\n",
      "Bye\n",
      "Bye\n",
      "Hello\n",
      "Bye\n",
      "Bye\n",
      "Bye\n",
      "Bye\n",
      "Hello\n",
      "Bye\n",
      "Bye\n",
      "Bye\n",
      "Bye\n"
     ]
    }
   ],
   "source": [
    "# Nested for loop.\n",
    "for e in range(1,5):\n",
    "    print(\"Hello\")\n",
    "    for j in range(1,5):\n",
    "        print(\"Bye\")"
   ]
  },
  {
   "cell_type": "code",
   "execution_count": 13,
   "id": "f5dbfed6-fe8e-4571-820f-bd56bda235e1",
   "metadata": {},
   "outputs": [
    {
     "name": "stdout",
     "output_type": "stream",
     "text": [
      "1 : 1\n",
      "1 : 2\n",
      "1 : 3\n",
      "1 : 4\n",
      "2 : 1\n",
      "2 : 2\n",
      "2 : 3\n",
      "2 : 4\n",
      "3 : 1\n",
      "3 : 2\n",
      "3 : 3\n",
      "3 : 4\n",
      "4 : 1\n",
      "4 : 2\n",
      "4 : 3\n",
      "4 : 4\n"
     ]
    }
   ],
   "source": [
    "# Print all pairs of 1 to 4.\n",
    "for e in range(1,5):\n",
    "    for j in range(1,5):\n",
    "        print(e,\":\",j)"
   ]
  }
 ],
 "metadata": {
  "kernelspec": {
   "display_name": "Python 3 (ipykernel)",
   "language": "python",
   "name": "python3"
  },
  "language_info": {
   "codemirror_mode": {
    "name": "ipython",
    "version": 3
   },
   "file_extension": ".py",
   "mimetype": "text/x-python",
   "name": "python",
   "nbconvert_exporter": "python",
   "pygments_lexer": "ipython3",
   "version": "3.12.5"
  }
 },
 "nbformat": 4,
 "nbformat_minor": 5
}
