{
 "cells": [
  {
   "cell_type": "code",
   "execution_count": 3,
   "id": "3e6e578c-6fd5-48e1-82b9-ac03225fccd6",
   "metadata": {},
   "outputs": [
    {
     "name": "stdout",
     "output_type": "stream",
     "text": [
      "Even number\n"
     ]
    }
   ],
   "source": [
    "def check_odd_even(n):\n",
    "    if(n%2==0):\n",
    "        print(\"Even number\")\n",
    "    else:\n",
    "        print(\"Odd number\")\n",
    "check_odd_even(10)    "
   ]
  },
  {
   "cell_type": "code",
   "execution_count": 5,
   "id": "118b3355-bea7-4568-a384-8f468d2a0cbb",
   "metadata": {},
   "outputs": [
    {
     "name": "stdin",
     "output_type": "stream",
     "text": [
      "Enter any number : 8\n"
     ]
    },
    {
     "name": "stdout",
     "output_type": "stream",
     "text": [
      "Even number\n"
     ]
    }
   ],
   "source": [
    "def check_odd_even(n):\n",
    "    if(n%2==0):\n",
    "        print(\"Even number\")\n",
    "    else:\n",
    "        print(\"Odd number\")\n",
    "num=int(input(\"Enter any number :\"))        \n",
    "check_odd_even(num)"
   ]
  },
  {
   "cell_type": "code",
   "execution_count": 6,
   "id": "c8d0d3ad-9b90-4e75-8007-b2a0b3a9328f",
   "metadata": {},
   "outputs": [
    {
     "name": "stdout",
     "output_type": "stream",
     "text": [
      "0 1 2 3 4 5 6 7 8 9 10 11 12 13 14 15 16 17 18 19 20 "
     ]
    }
   ],
   "source": [
    "def generate_numbers(n):\n",
    "    for i in range(n+1):\n",
    "        print(i,end=\" \")\n",
    "generate_numbers(20)        "
   ]
  },
  {
   "cell_type": "code",
   "execution_count": 8,
   "id": "702038e6-845d-4251-9850-5be480a35741",
   "metadata": {},
   "outputs": [
    {
     "name": "stdin",
     "output_type": "stream",
     "text": [
      "Enter the file name : abc\n"
     ]
    },
    {
     "name": "stdout",
     "output_type": "stream",
     "text": [
      "File created\n"
     ]
    }
   ],
   "source": [
    "# WAF to create a file and file name given by user.\n",
    "def create_file(file_name):\n",
    "    file=open(f\"{file_name}.txt\",'w')\n",
    "    file.close()\n",
    "    print(\"File created\")\n",
    "file_name=input(\"Enter the file name :\")\n",
    "create_file(file_name)"
   ]
  },
  {
   "cell_type": "code",
   "execution_count": 3,
   "id": "0047f644-a476-4bf9-9b1d-0de6ab3db53f",
   "metadata": {},
   "outputs": [
    {
     "name": "stdin",
     "output_type": "stream",
     "text": [
      "Enter the file name : abc\n"
     ]
    },
    {
     "name": "stdout",
     "output_type": "stream",
     "text": [
      "\n",
      "File created\n"
     ]
    }
   ],
   "source": [
    "def create_file(file_name):\n",
    "    file=open(f\"{file_name}.txt\",'w')\n",
    "    file.write(\"This is my first file\")\n",
    "    file.close()\n",
    "    print(\"File updated\")\n",
    "file_name=input(\"Enter the file name :\")\n",
    "create_file(file_name)"
   ]
  },
  {
   "cell_type": "code",
   "execution_count": null,
   "id": "e2ec05ca-7589-4ddd-9169-9c14629fb6dc",
   "metadata": {},
   "outputs": [],
   "source": [
    "def create_file(file_name):\n",
    "    file=open(f\"{file_name}.txt\",'w')\n",
    "    file.write(\"This is my first file\")\n",
    "    file.close()\n",
    "    print(\"File updated\")\n",
    "file_name=input(\"Enter the file name :\")\n",
    "create_file(file_name)"
   ]
  },
  {
   "cell_type": "code",
   "execution_count": 6,
   "id": "2183a888-6cda-468b-82d3-81e8c713ad5b",
   "metadata": {},
   "outputs": [
    {
     "name": "stdin",
     "output_type": "stream",
     "text": [
      "Enter the file name : abc\n"
     ]
    },
    {
     "name": "stdout",
     "output_type": "stream",
     "text": [
      "File updated\n"
     ]
    }
   ],
   "source": [
    "def create_file(file_name):\n",
    "    file=open(f\"{file_name}.txt\",'a')\n",
    "    file.write(\"\\nI'm learning SQL\")\n",
    "    file.close()\n",
    "    print(\"File updated\")\n",
    "file_name=input(\"Enter the file name :\")\n",
    "create_file(file_name)"
   ]
  },
  {
   "cell_type": "code",
   "execution_count": 8,
   "id": "42a75c6b-3aff-4cbb-83b0-757b19f524b4",
   "metadata": {},
   "outputs": [
    {
     "name": "stdin",
     "output_type": "stream",
     "text": [
      "Enter the file name : abc\n"
     ]
    },
    {
     "name": "stdout",
     "output_type": "stream",
     "text": [
      "This is my first file\n",
      "I'm learning python\n",
      "I'm learning SQL\n"
     ]
    }
   ],
   "source": [
    "def create_file(file_name):\n",
    "    file=open(f\"{file_name}.txt\",'r')\n",
    "    x=file.read()\n",
    "    print(x)\n",
    "    file.close()\n",
    "file_name=input(\"Enter the file name :\")\n",
    "create_file(file_name)"
   ]
  },
  {
   "cell_type": "code",
   "execution_count": 17,
   "id": "f220c82c-1933-4a79-8202-6aef997e1970",
   "metadata": {},
   "outputs": [
    {
     "name": "stdout",
     "output_type": "stream",
     "text": [
      "Greatest character contains Hariom\n"
     ]
    }
   ],
   "source": [
    "# WAF to find the greatest character from the given string by user.\n",
    "def great_char(my_list):\n",
    "    great=my_list[0]\n",
    "    for i in my_list:\n",
    "        if(len(i)>len(great)):\n",
    "            great=i\n",
    "            print(i) \n",
    "    print(\"Greatest character contains\",great)\n",
    "my_list=['Hariom','Ankit','Monu']\n",
    "great_char(my_list)         "
   ]
  },
  {
   "cell_type": "code",
   "execution_count": 6,
   "id": "cffa72c7-f180-49ab-b645-f41a7661a9f5",
   "metadata": {},
   "outputs": [
    {
     "name": "stdin",
     "output_type": "stream",
     "text": [
      "Enter the number : 45\n"
     ]
    },
    {
     "name": "stdout",
     "output_type": "stream",
     "text": [
      "All the greater numbers from 45 are :\n",
      "78 88 55 90 97 "
     ]
    }
   ],
   "source": [
    "# WAF to check a number is greater by specific values given by a user in the list [78,88,22,55,90,97,25].Find out all the greater numbers.\n",
    "def great_num(data,numb):\n",
    "        print(f\"All the greater numbers from {numb} are :\")\n",
    "        for i in my_list:\n",
    "            if i>numb:\n",
    "                print(i,end=\" \")\n",
    "my_list=[78,88,22,55,90,97,25]\n",
    "num=int(input(\"Enter the number :\"))\n",
    "great_num(my_list,num)            "
   ]
  },
  {
   "cell_type": "code",
   "execution_count": null,
   "id": "3598ce77-1f1f-4a26-873b-e17ce02f04ee",
   "metadata": {},
   "outputs": [],
   "source": [
    "# Filter function :\n",
    "# The filter() function in Python is a built-in function used to filter elements from an iterable based on a condition defined by a given function. \n",
    "# It creates a new iterator containing only the elements that satisfy the condition.\n",
    "# filter(function, iterable)\n",
    "# function: A function that returns True or False for each element of the iterable.\n",
    "# If None is provided, it filters out elements that are False or equivalent (like 0, None, '', etc.).\n",
    "# iterable: The iterable (e.g., list, tuple, etc.) to filter."
   ]
  },
  {
   "cell_type": "code",
   "execution_count": 16,
   "id": "501f0791-a1cd-4680-8448-7b94ecdc94eb",
   "metadata": {},
   "outputs": [
    {
     "name": "stdout",
     "output_type": "stream",
     "text": [
      "[2, 4, 6]\n"
     ]
    }
   ],
   "source": [
    "# Function to check if a number is even\n",
    "def is_even(x):\n",
    "    return x % 2 == 0\n",
    "\n",
    "numbers = [1, 2, 3, 4, 5, 6]\n",
    "result = filter(is_even, numbers)\n",
    "print(list(result))"
   ]
  },
  {
   "cell_type": "code",
   "execution_count": 17,
   "id": "13cbde09-6748-43e8-80e2-6aacd38391de",
   "metadata": {},
   "outputs": [
    {
     "name": "stdout",
     "output_type": "stream",
     "text": [
      "1234\n"
     ]
    }
   ],
   "source": [
    "text = \"a1b2c3d4\"\n",
    "result = filter(str.isdigit, text)\n",
    "print(''.join(result))"
   ]
  },
  {
   "cell_type": "code",
   "execution_count": 2,
   "id": "7b6192c2-167d-410f-940d-35bd0ff4f725",
   "metadata": {},
   "outputs": [
    {
     "name": "stdin",
     "output_type": "stream",
     "text": [
      "Search here : ajx\n"
     ]
    },
    {
     "name": "stdout",
     "output_type": "stream",
     "text": [
      "['aman', 'rumanshi', 'david']\n",
      "['jyoti']\n",
      "[]\n"
     ]
    }
   ],
   "source": [
    "names=['aman','rohit','jyoti','rumanshi','david']\n",
    "user=input(\"Search here :\")\n",
    "for i in user:\n",
    "    data=filter(lambda x:i in x,names)\n",
    "    print(list(data))"
   ]
  },
  {
   "cell_type": "code",
   "execution_count": 18,
   "id": "1fa29b14-60c4-4ce8-995f-a3e7b6c4fcb6",
   "metadata": {},
   "outputs": [
    {
     "name": "stdin",
     "output_type": "stream",
     "text": [
      "Search here : abc\n"
     ]
    },
    {
     "name": "stdout",
     "output_type": "stream",
     "text": [
      "Names containing a are : ['aman', 'rumanshi', 'david']\n",
      "Names ontaining b are not found\n",
      "Names ontaining c are not found\n"
     ]
    }
   ],
   "source": [
    "names=['aman','rohit','jyoti','rumanshi','david']\n",
    "user=input(\"Search here :\")\n",
    "for i in user:\n",
    "    data=list(filter(lambda x:i in x,names))\n",
    "    if data!=[]:\n",
    "        print(f\"Names containing {i} are : {data}\")\n",
    "    else:\n",
    "        print(f\"Names ontaining {i} are not found\")"
   ]
  },
  {
   "cell_type": "code",
   "execution_count": 12,
   "id": "f593bfc8-f055-4e46-ae9f-ef1fa4bb47df",
   "metadata": {},
   "outputs": [
    {
     "name": "stdin",
     "output_type": "stream",
     "text": [
      "Search here : ajx\n"
     ]
    },
    {
     "name": "stdout",
     "output_type": "stream",
     "text": [
      "[['aman', 'rumanshi', 'david'], ['jyoti'], []]\n"
     ]
    }
   ],
   "source": [
    "names=['aman','rohit','jyoti','rumanshi','david']\n",
    "user=input(\"Search here :\")\n",
    "print([list(filter(lambda x:i in x,names)) for i in user])"
   ]
  },
  {
   "cell_type": "code",
   "execution_count": null,
   "id": "f78cb991-8b07-44c1-82fa-57d405f68419",
   "metadata": {},
   "outputs": [],
   "source": [
    "# Map function:\n",
    "# The map() function in Python is a built-in function used to apply a given function to all items in an iterable (like a list, tuple, etc.) \n",
    "# and returns a map object (an iterator).\n",
    "# It’s a concise way to transform or process data.\n",
    "#  Synatx : map(function, iterable[, iterable2, iterable3, ...])\n",
    "# function: The function to apply to each element of the iterable(s).\n",
    "# iterable: One or more iterable(s) to which the function will be applie"
   ]
  },
  {
   "cell_type": "code",
   "execution_count": 13,
   "id": "aaa05724-092b-47fe-a601-7933298ce28e",
   "metadata": {},
   "outputs": [
    {
     "name": "stdout",
     "output_type": "stream",
     "text": [
      "[1, 4, 9, 16]\n"
     ]
    }
   ],
   "source": [
    "numbers = [1, 2, 3, 4]\n",
    "result = map(lambda x: x * x, numbers)\n",
    "print(list(result)) "
   ]
  },
  {
   "cell_type": "code",
   "execution_count": 14,
   "id": "b1ea5dc7-e40b-4d25-8550-c721aea9c679",
   "metadata": {},
   "outputs": [
    {
     "name": "stdout",
     "output_type": "stream",
     "text": [
      "[5, 7, 9]\n"
     ]
    }
   ],
   "source": [
    "numbers1 = [1, 2, 3]\n",
    "numbers2 = [4, 5, 6]\n",
    "\n",
    "# Function to add two numbers\n",
    "def add(x, y):\n",
    "    return x + y\n",
    "\n",
    "result = map(add, numbers1, numbers2)\n",
    "print(list(result)) "
   ]
  },
  {
   "cell_type": "code",
   "execution_count": 15,
   "id": "2b4c7bc7-a0c6-4439-a413-fcaaabf21c28",
   "metadata": {},
   "outputs": [
    {
     "name": "stdout",
     "output_type": "stream",
     "text": [
      "['PYTHON', 'IS', 'FUN']\n"
     ]
    }
   ],
   "source": [
    "words = [\"python\", \"is\", \"fun\"]\n",
    "result = map(str.upper, words)\n",
    "print(list(result))"
   ]
  },
  {
   "cell_type": "code",
   "execution_count": null,
   "id": "06c650d9-a708-48e8-bd29-2bf9345a82ba",
   "metadata": {},
   "outputs": [],
   "source": []
  }
 ],
 "metadata": {
  "kernelspec": {
   "display_name": "Python 3 (ipykernel)",
   "language": "python",
   "name": "python3"
  },
  "language_info": {
   "codemirror_mode": {
    "name": "ipython",
    "version": 3
   },
   "file_extension": ".py",
   "mimetype": "text/x-python",
   "name": "python",
   "nbconvert_exporter": "python",
   "pygments_lexer": "ipython3",
   "version": "3.12.5"
  }
 },
 "nbformat": 4,
 "nbformat_minor": 5
}
