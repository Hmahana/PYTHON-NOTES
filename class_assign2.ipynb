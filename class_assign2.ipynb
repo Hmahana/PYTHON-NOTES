{
 "cells": [
  {
   "cell_type": "code",
   "execution_count": 29,
   "id": "63c0f84a-cd2f-45e1-82a7-e6cc1a97abac",
   "metadata": {},
   "outputs": [
    {
     "name": "stdin",
     "output_type": "stream",
     "text": [
      "Enter the credit score : 780\n"
     ]
    },
    {
     "name": "stdout",
     "output_type": "stream",
     "text": [
      "Credit score is above 700\n"
     ]
    },
    {
     "name": "stdin",
     "output_type": "stream",
     "text": [
      "Enter the annual income : 45000\n"
     ]
    },
    {
     "name": "stdout",
     "output_type": "stream",
     "text": [
      "Income is below 50000\n"
     ]
    },
    {
     "name": "stdin",
     "output_type": "stream",
     "text": [
      "Enter the existing debt : 10000\n"
     ]
    },
    {
     "name": "stdout",
     "output_type": "stream",
     "text": [
      "Existing debt is below 15000\n",
      "Loan approved\n"
     ]
    }
   ],
   "source": [
    "# Loan approval system.\n",
    "credit_score = int(input(\"Enter the credit score :\"))\n",
    "if(credit_score>=700):\n",
    "    print(\"Credit score is above 700\")\n",
    "    annual_income= int(input(\"Enter the annual income :\"))\n",
    "    if(annual_income>=50000):\n",
    "        print(\"Income is above 50000\")\n",
    "        employment_status =input(\"Enter the employment status (employed/self-employed/unemployed) :\")\n",
    "        existing_debt = int(input(\"Enter the existing debt :\"))\n",
    "        if(employment_status==\"employed\" or employment_status==\"self-employed\")and (existing_debt<=30000):\n",
    "            print(\"Existing debt is below 30000\")\n",
    "            print(\"Loan approved\")\n",
    "        elif(employment_status==\"unemployed\"):\n",
    "            print(\"Loan is denied due to unemployment\")\n",
    "            \n",
    "        else:\n",
    "            print(\"Loan is denied due to high debt\")\n",
    "    else:\n",
    "        print(\"Income is below 50000\")\n",
    "        existing_debt = int(input(\"Enter the existing debt :\"))\n",
    "        if (existing_debt<=15000):\n",
    "            print(\"Existing debt is below 15000\")\n",
    "            print(\"Loan approved\")\n",
    "        else:\n",
    "            print(\"Existing debt is above 15000\")\n",
    "            print(\"Loan is denied due to insufficient income and high debt\")\n",
    "else:\n",
    "    print(\"Credit score is below 700\")\n",
    "    annual_income= int(input(\"Enter the annual income :\"))\n",
    "    if(annual_income>=75000):\n",
    "        print(\"Income is above 75000\")\n",
    "        existing_debt = int(input(\"Enter the existing debt :\"))\n",
    "        if (existing_debt<=10000):\n",
    "            print(\"Existing debt is below 10000\")\n",
    "            print(\"Loan is approved with high interest due to the low credit score\")\n",
    "        else:\n",
    "            print(\"Loan is denied due to poor credit history\")\n",
    "    else:\n",
    "        print(\"Income is below 75000\")\n",
    "        print(\"Loan denied due to poor credit history\")                 "
   ]
  },
  {
   "cell_type": "code",
   "execution_count": null,
   "id": "4fb03a37-7e56-4e76-8d1c-740149a8dcf0",
   "metadata": {},
   "outputs": [],
   "source": []
  }
 ],
 "metadata": {
  "kernelspec": {
   "display_name": "Python 3 (ipykernel)",
   "language": "python",
   "name": "python3"
  },
  "language_info": {
   "codemirror_mode": {
    "name": "ipython",
    "version": 3
   },
   "file_extension": ".py",
   "mimetype": "text/x-python",
   "name": "python",
   "nbconvert_exporter": "python",
   "pygments_lexer": "ipython3",
   "version": "3.12.5"
  }
 },
 "nbformat": 4,
 "nbformat_minor": 5
}
