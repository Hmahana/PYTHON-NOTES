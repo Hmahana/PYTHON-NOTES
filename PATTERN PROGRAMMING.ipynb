{
 "cells": [
  {
   "cell_type": "code",
   "execution_count": 13,
   "id": "53fc64fc-bb29-45e8-b5f5-5e9df570241f",
   "metadata": {
    "scrolled": true
   },
   "outputs": [
    {
     "name": "stdout",
     "output_type": "stream",
     "text": [
      "\n",
      "* \n",
      "* * \n",
      "* * * \n",
      "* * * * \n",
      "* * * * * \n",
      "* * * * * * \n"
     ]
    }
   ],
   "source": [
    "# Right-angled-triangle:\n",
    "row=6\n",
    "col=6\n",
    "for r in range(row+1):\n",
    "    for c in range(r):\n",
    "        print(\"*\",end=\" \")\n",
    "    print()    "
   ]
  },
  {
   "cell_type": "code",
   "execution_count": 3,
   "id": "ca024dc5-b27a-4916-a946-888ee6cd431c",
   "metadata": {},
   "outputs": [
    {
     "name": "stdout",
     "output_type": "stream",
     "text": [
      "x x x x x x \n",
      "x x x x x \n",
      "x x x x \n",
      "x x x \n",
      "x x \n",
      "x \n",
      "\n"
     ]
    }
   ],
   "source": [
    "# Inverted Right-angled-triangle:\n",
    "row=6\n",
    "col=6\n",
    "for r in range(row+1):\n",
    "    for c in range(col-r):\n",
    "        print(\"x\",end=\" \")\n",
    "    print()   "
   ]
  },
  {
   "cell_type": "code",
   "execution_count": 5,
   "id": "8900fd81-2806-45d9-8feb-07aac338e079",
   "metadata": {},
   "outputs": [
    {
     "name": "stdout",
     "output_type": "stream",
     "text": [
      "              x \n",
      "            x x \n",
      "          x x x \n",
      "        x x x x \n",
      "      x x x x x \n",
      "    x x x x x x \n",
      "  x x x x x x x \n"
     ]
    }
   ],
   "source": [
    "# Inverse Left-angled-triangle:\n",
    "row=6\n",
    "col=6\n",
    "for r in range(row+1):\n",
    "    for c in range(col-r+1):\n",
    "        print(\" \",end=\" \")\n",
    "    for c in range(r+1):\n",
    "        print(\"x\",end=\" \")    \n",
    "    print()   "
   ]
  },
  {
   "cell_type": "code",
   "execution_count": 17,
   "id": "13481e06-167f-46d9-ab38-b3cc7e6fda39",
   "metadata": {},
   "outputs": [
    {
     "name": "stdout",
     "output_type": "stream",
     "text": [
      "       * \n",
      "      * * \n",
      "     * * * \n",
      "    * * * * \n",
      "   * * * * * \n",
      "  * * * * * * \n",
      " * * * * * * * \n"
     ]
    }
   ],
   "source": [
    "# triangle:\n",
    "row=6\n",
    "col=6\n",
    "for r in range(row+1):\n",
    "    for c in range(col-r+1):\n",
    "        print(\" \",end=\"\")\n",
    "    for c in range(r+1):\n",
    "        print(\"*\",end=\" \")    \n",
    "    print()   "
   ]
  },
  {
   "cell_type": "code",
   "execution_count": 12,
   "id": "05396168-c265-4008-9c4b-eb9b3f255c65",
   "metadata": {},
   "outputs": [
    {
     "name": "stdout",
     "output_type": "stream",
     "text": [
      "*             * \n",
      "*             * \n",
      "*             * \n",
      "* * * * * * * * \n",
      "*             * \n",
      "*             * \n",
      "*             * \n"
     ]
    }
   ],
   "source": [
    "# H Pattern\n",
    "row=7\n",
    "col=8\n",
    "for r in range(row):\n",
    "    for c in range(col):\n",
    "        if c==0 or c==col-1 or r==3:\n",
    "            print(\"*\",end=\" \")\n",
    "        else:\n",
    "            print(\" \",end=\" \")\n",
    "    print()                    "
   ]
  },
  {
   "cell_type": "code",
   "execution_count": 11,
   "id": "0b3afa24-08f2-42f8-b78e-263c074c6e1c",
   "metadata": {},
   "outputs": [
    {
     "name": "stdout",
     "output_type": "stream",
     "text": [
      "* * * * * * * * \n",
      "*             * \n",
      "*             * \n",
      "*             * \n",
      "*             * \n",
      "*             * \n",
      "* * * * * * * * \n"
     ]
    }
   ],
   "source": [
    "# Square pattern:\n",
    "row=7\n",
    "col=8\n",
    "for r in range(row):\n",
    "    for c in range(col):\n",
    "        if c==0 or c==col-1 or r==0 or r==row-1:\n",
    "            print(\"*\",end=\" \")\n",
    "        else:\n",
    "            print(\" \",end=\" \")\n",
    "    print() "
   ]
  },
  {
   "cell_type": "code",
   "execution_count": 18,
   "id": "9a344a73-3b3e-4558-b860-45e7cb763c54",
   "metadata": {},
   "outputs": [
    {
     "name": "stdout",
     "output_type": "stream",
     "text": [
      "* \n",
      "* * \n",
      "* * * \n",
      "    * * * * \n",
      "* * * * * \n",
      "  * * * * * * \n",
      "* * * * * * * \n"
     ]
    }
   ],
   "source": [
    "row=6\n",
    "col=6\n",
    "for r in range(row+1):\n",
    "    for c in range(col-r+1):\n",
    "        if r==3 or r==row-1:\n",
    "            print(\" \",end=\"\")\n",
    "    for c in range(r+1):\n",
    "        print(\"*\",end=\" \")    \n",
    "    print()   "
   ]
  },
  {
   "cell_type": "code",
   "execution_count": null,
   "id": "5fbb9b19-56aa-4413-94df-fc1a7190cd7b",
   "metadata": {},
   "outputs": [],
   "source": []
  }
 ],
 "metadata": {
  "kernelspec": {
   "display_name": "Python 3 (ipykernel)",
   "language": "python",
   "name": "python3"
  },
  "language_info": {
   "codemirror_mode": {
    "name": "ipython",
    "version": 3
   },
   "file_extension": ".py",
   "mimetype": "text/x-python",
   "name": "python",
   "nbconvert_exporter": "python",
   "pygments_lexer": "ipython3",
   "version": "3.12.5"
  }
 },
 "nbformat": 4,
 "nbformat_minor": 5
}
