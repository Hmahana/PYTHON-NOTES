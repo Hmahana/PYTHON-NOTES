{
 "cells": [
  {
   "cell_type": "code",
   "execution_count": 2,
   "id": "3d4749f6-e8f5-4376-b087-1658739f7096",
   "metadata": {},
   "outputs": [
    {
     "name": "stdout",
     "output_type": "stream",
     "text": [
      "120\n"
     ]
    }
   ],
   "source": [
    "# (1) math:\n",
    "import math as math\n",
    "x=5\n",
    "res=math.factorial(x)   #FACTORIAL\n",
    "print(res)"
   ]
  },
  {
   "cell_type": "code",
   "execution_count": 4,
   "id": "4b814f98-74d5-4344-8a2f-1613732ddcfa",
   "metadata": {},
   "outputs": [
    {
     "name": "stdout",
     "output_type": "stream",
     "text": [
      "9.0\n"
     ]
    }
   ],
   "source": [
    "import math as math\n",
    "x=81\n",
    "res=math.sqrt(x)  # SQUAREROOT\n",
    "print(res)"
   ]
  },
  {
   "cell_type": "code",
   "execution_count": 7,
   "id": "ce617a6a-0bde-4462-91a5-1900a0447276",
   "metadata": {},
   "outputs": [
    {
     "name": "stdout",
     "output_type": "stream",
     "text": [
      "162\n"
     ]
    }
   ],
   "source": [
    "import math as math\n",
    "x=81\n",
    "y=2\n",
    "res=math.prod([x,y])  # PRODUCT\n",
    "print(res)"
   ]
  },
  {
   "cell_type": "code",
   "execution_count": 9,
   "id": "16ec0e2c-8ad9-4697-8cd3-f639a8cb9d85",
   "metadata": {},
   "outputs": [
    {
     "name": "stdout",
     "output_type": "stream",
     "text": [
      "83.0\n"
     ]
    }
   ],
   "source": [
    "import math as math\n",
    "x=81\n",
    "y=2\n",
    "res=math.fsum([x,y])  # SUM\n",
    "print(res)"
   ]
  },
  {
   "cell_type": "code",
   "execution_count": 11,
   "id": "29f919d5-240a-4bcb-a7c0-c6d2d4ad055f",
   "metadata": {},
   "outputs": [
    {
     "name": "stdout",
     "output_type": "stream",
     "text": [
      "162\n"
     ]
    }
   ],
   "source": [
    "import math as math\n",
    "x=81\n",
    "y=2\n",
    "res=math.lcm(x,y) # LCM\n",
    "print(res)"
   ]
  },
  {
   "cell_type": "code",
   "execution_count": 12,
   "id": "2a80bda6-dbec-4973-97dc-e27afab6bff4",
   "metadata": {},
   "outputs": [
    {
     "name": "stdout",
     "output_type": "stream",
     "text": [
      "1\n"
     ]
    }
   ],
   "source": [
    "import math as math\n",
    "x=81\n",
    "y=2\n",
    "res=math.gcd(x,y) # HCF\n",
    "print(res)"
   ]
  },
  {
   "cell_type": "code",
   "execution_count": 14,
   "id": "7e20ebf6-d866-4ed2-b6e6-2595d13f513e",
   "metadata": {},
   "outputs": [
    {
     "name": "stdout",
     "output_type": "stream",
     "text": [
      "3.0\n"
     ]
    }
   ],
   "source": [
    "import math as math\n",
    "x=27\n",
    "y=2\n",
    "res=math.cbrt(x)  # CUBEROOT\n",
    "print(res)"
   ]
  },
  {
   "cell_type": "code",
   "execution_count": 15,
   "id": "fca104a8-7f35-4ddc-96b2-236321ea4ada",
   "metadata": {},
   "outputs": [
    {
     "name": "stdout",
     "output_type": "stream",
     "text": [
      "0.6055260838629153\n"
     ]
    }
   ],
   "source": [
    "# (2) random :\n",
    "# (a) random()\n",
    "import random as rd\n",
    "num=rd.random()\n",
    "print(num)"
   ]
  },
  {
   "cell_type": "code",
   "execution_count": 19,
   "id": "b3304905-4907-40d1-b546-043259562090",
   "metadata": {},
   "outputs": [
    {
     "name": "stdout",
     "output_type": "stream",
     "text": [
      "3094\n"
     ]
    }
   ],
   "source": [
    "import random as rd\n",
    "num=rd.random()\n",
    "res=num*10000\n",
    "print(int(res))"
   ]
  },
  {
   "cell_type": "code",
   "execution_count": 22,
   "id": "c388532d-b084-419f-b4d4-ff2d75417848",
   "metadata": {},
   "outputs": [
    {
     "name": "stdout",
     "output_type": "stream",
     "text": [
      "10\n"
     ]
    }
   ],
   "source": [
    "# (b) randint:\n",
    "num=rd.randint(5,20)\n",
    "print(num)"
   ]
  },
  {
   "cell_type": "code",
   "execution_count": 23,
   "id": "a404a93a-ff1d-475f-87c4-d9752b6bfcb0",
   "metadata": {},
   "outputs": [
    {
     "name": "stdout",
     "output_type": "stream",
     "text": [
      "[10, 8, 8, 19, 6, 16, 16, 6, 16, 10]\n"
     ]
    }
   ],
   "source": [
    "my_list=[]\n",
    "for i in range(1,11):\n",
    "    num=rd.randint(5,20)\n",
    "    my_list.append(num)\n",
    "print(my_list)"
   ]
  },
  {
   "cell_type": "code",
   "execution_count": 24,
   "id": "032838f4-6fd1-4584-b55d-8bf80973a810",
   "metadata": {},
   "outputs": [
    {
     "name": "stdout",
     "output_type": "stream",
     "text": [
      "[12, 14, 16, 17, 6, 9, 17, 5, 14, 12]\n"
     ]
    }
   ],
   "source": [
    "# (c) randrange():\n",
    "my_list=[]\n",
    "for i in range(1,11):\n",
    "    num=rd.randrange(5,20)\n",
    "    my_list.append(num)\n",
    "print(my_list)"
   ]
  },
  {
   "cell_type": "code",
   "execution_count": 27,
   "id": "7f519e7c-21b4-4fb1-bb2c-c41c3f60983d",
   "metadata": {},
   "outputs": [
    {
     "name": "stdout",
     "output_type": "stream",
     "text": [
      "[23, 56]\n"
     ]
    }
   ],
   "source": [
    "# (d) sample():\n",
    "l=[3,5,9,67,56,98,55,23]\n",
    "res=rd.sample(l,2)\n",
    "print(res)"
   ]
  },
  {
   "cell_type": "code",
   "execution_count": 29,
   "id": "fe6bd522-25e8-47e7-b766-b2ac5ce1fdb3",
   "metadata": {},
   "outputs": [
    {
     "name": "stdout",
     "output_type": "stream",
     "text": [
      "arpit\n"
     ]
    }
   ],
   "source": [
    "# (d) choice():\n",
    "l=['aman','hari','arpit','ram']\n",
    "res=rd.choice(l)\n",
    "print(res)"
   ]
  },
  {
   "cell_type": "code",
   "execution_count": 30,
   "id": "9f145c36-a2e4-431b-a1dd-283f35fd311c",
   "metadata": {},
   "outputs": [
    {
     "name": "stdout",
     "output_type": "stream",
     "text": [
      "['aman']\n"
     ]
    }
   ],
   "source": [
    "# (e) choices():\n",
    "l=['aman','hari','arpit','ram']\n",
    "res=rd.choices(l)\n",
    "print(res)"
   ]
  },
  {
   "cell_type": "code",
   "execution_count": 46,
   "id": "aa82adef-9896-4ff4-9f4c-edce48e63aba",
   "metadata": {},
   "outputs": [
    {
     "name": "stdout",
     "output_type": "stream",
     "text": [
      "[3000]\n"
     ]
    }
   ],
   "source": [
    "price=[3000,400,500,600]\n",
    "res=rd.choices(price,[1,0,0,5])\n",
    "print(res)"
   ]
  },
  {
   "cell_type": "code",
   "execution_count": 52,
   "id": "3b63135a-df31-4551-8766-5d8e5e39d76e",
   "metadata": {},
   "outputs": [
    {
     "name": "stdout",
     "output_type": "stream",
     "text": [
      "['S', 'd', 'u']\n"
     ]
    }
   ],
   "source": [
    "import string as st\n",
    "res=rd.choices(st.ascii_letters,k=3)\n",
    "print(res)"
   ]
  },
  {
   "cell_type": "code",
   "execution_count": 54,
   "id": "406da599-0ab6-49cd-a61e-d44be5a8c5e3",
   "metadata": {},
   "outputs": [
    {
     "name": "stdout",
     "output_type": "stream",
     "text": [
      "['w', 'e', 'k']\n"
     ]
    }
   ],
   "source": [
    "import string as st\n",
    "res=rd.choices(st.ascii_lowercase,k=3)\n",
    "print(res)"
   ]
  },
  {
   "cell_type": "code",
   "execution_count": 55,
   "id": "c6fb81c5-b313-4337-a8ff-d36e101bcb35",
   "metadata": {},
   "outputs": [
    {
     "name": "stdout",
     "output_type": "stream",
     "text": [
      "['J', 'R', 'S', 'J']\n"
     ]
    }
   ],
   "source": [
    "import string as st\n",
    "res=rd.choices(st.ascii_uppercase,k=4)\n",
    "print(res)"
   ]
  },
  {
   "cell_type": "code",
   "execution_count": 58,
   "id": "ae820001-863e-472f-bf06-45bb58f0127e",
   "metadata": {},
   "outputs": [
    {
     "name": "stdout",
     "output_type": "stream",
     "text": [
      "E Z R L S Q D E Q R\n"
     ]
    }
   ],
   "source": [
    "import string as st\n",
    "res=\" \".join(rd.choices(st.ascii_uppercase,k=10)) # Generates random employee id's .\n",
    "print(res)"
   ]
  },
  {
   "cell_type": "code",
   "execution_count": 60,
   "id": "d19403a9-0f83-446e-b68d-3da7f64e4c39",
   "metadata": {},
   "outputs": [
    {
     "name": "stdout",
     "output_type": "stream",
     "text": [
      "IQ-YCJMSSBDQB\n"
     ]
    }
   ],
   "source": [
    "import string as st\n",
    "res=\"IQ-\"+\"\".join(rd.choices(st.ascii_uppercase,k=10))\n",
    "print(res)"
   ]
  },
  {
   "cell_type": "code",
   "execution_count": 61,
   "id": "1242c3a8-04d5-4eb1-b0fe-a42c5760e1c3",
   "metadata": {},
   "outputs": [
    {
     "name": "stdout",
     "output_type": "stream",
     "text": [
      "IQ-OJR330WPTK\n"
     ]
    }
   ],
   "source": [
    "import string as st\n",
    "res=\"IQ-\"+\"\".join(rd.choices(st.digits+st.ascii_uppercase,k=10))\n",
    "print(res)"
   ]
  },
  {
   "cell_type": "code",
   "execution_count": 63,
   "id": "3474c430-f3aa-4a93-a18d-024b38d4f1e6",
   "metadata": {},
   "outputs": [
    {
     "name": "stdout",
     "output_type": "stream",
     "text": [
      "['IQ-Y5LJNHHQJM', 'IQ-E8KM2W8Q60', 'IQ-5J06C4TNKG', 'IQ-PT7E35X567', 'IQ-VGKB61PRVR', 'IQ-BAO942M9EV', 'IQ-GHYNMGZS6L', 'IQ-WGNFRG9UPY', 'IQ-N1M8JUC0HQ', 'IQ-9MQUVRLDYS']\n"
     ]
    }
   ],
   "source": [
    "import string as st\n",
    "res=[\"IQ-\"+\"\".join(rd.choices(st.digits+st.ascii_uppercase,k=10)) for e in range(1,11)]\n",
    "print(res)"
   ]
  },
  {
   "cell_type": "code",
   "execution_count": 64,
   "id": "0a1257b4-da22-4ce9-97de-6267c76a028c",
   "metadata": {},
   "outputs": [
    {
     "name": "stdout",
     "output_type": "stream",
     "text": [
      "IQ-9FVOQEV19F\n",
      "IQ-K1B95ECL0M\n",
      "IQ-PBI01D8DAI\n",
      "IQ-MFPJRKRQWM\n",
      "IQ-8HKHXSNCRJ\n",
      "IQ-Y1JD98QTVB\n",
      "IQ-GQCGAJLB5B\n",
      "IQ-WLEAKS8ERX\n",
      "IQ-EB7RPB2635\n",
      "IQ-0ZNYSMOLO7\n"
     ]
    }
   ],
   "source": [
    "for e in range(1,11):\n",
    "    res=\"IQ-\"+\"\".join(rd.choices(st.digits+st.ascii_uppercase,k=10))\n",
    "    print(res)    "
   ]
  },
  {
   "cell_type": "code",
   "execution_count": 66,
   "id": "603e48d3-ebde-41b7-9f55-19e69d375c5f",
   "metadata": {},
   "outputs": [
    {
     "name": "stdout",
     "output_type": "stream",
     "text": [
      "aman-O3BW9ITI9W\n",
      "arpit-JYWDMT9AUW\n",
      "suman-9PJJ3WI5WW\n"
     ]
    }
   ],
   "source": [
    "my_list=['aman','arpit','suman']\n",
    "for e in my_list:\n",
    "    res=e+\"-\"+\"\".join(rd.choices(st.digits+st.ascii_uppercase,k=10))\n",
    "    print(res)"
   ]
  },
  {
   "cell_type": "code",
   "execution_count": 67,
   "id": "09417c21-defc-4da3-91ec-0c8fbbb63083",
   "metadata": {},
   "outputs": [
    {
     "name": "stdout",
     "output_type": "stream",
     "text": [
      "AMAN-27P6U99YZ2\n",
      "ARPIT-9VI7QOC5GE\n",
      "SUMAN-BSJZ66V46L\n"
     ]
    }
   ],
   "source": [
    "my_list=['aman','arpit','suman']\n",
    "for e in my_list:\n",
    "    res=e.upper()+\"-\"+\"\".join(rd.choices(st.digits+st.ascii_uppercase,k=10))\n",
    "    print(res)"
   ]
  },
  {
   "cell_type": "code",
   "execution_count": 87,
   "id": "c75bf1f8-41c4-4247-9fa5-0c512542c631",
   "metadata": {},
   "outputs": [
    {
     "data": {
      "text/plain": [
       "10"
      ]
     },
     "execution_count": 87,
     "metadata": {},
     "output_type": "execute_result"
    }
   ],
   "source": [
    "# USER DEFINED MODULES :\n",
    "from hari import add\n",
    "add(3,7)"
   ]
  },
  {
   "cell_type": "code",
   "execution_count": 83,
   "id": "3eb52bf5-9e80-4b3f-9633-2ea425939c74",
   "metadata": {},
   "outputs": [
    {
     "data": {
      "text/plain": [
       "2"
      ]
     },
     "execution_count": 83,
     "metadata": {},
     "output_type": "execute_result"
    }
   ],
   "source": [
    "from hari1 import sub\n",
    "sub(5,3)"
   ]
  },
  {
   "cell_type": "code",
   "execution_count": 84,
   "id": "896961c0-99cf-4b4b-9ec4-0f3b0812a717",
   "metadata": {},
   "outputs": [
    {
     "data": {
      "text/plain": [
       "15"
      ]
     },
     "execution_count": 84,
     "metadata": {},
     "output_type": "execute_result"
    }
   ],
   "source": [
    "from hari1 import prod\n",
    "prod(3,5)"
   ]
  },
  {
   "cell_type": "code",
   "execution_count": 85,
   "id": "360064c6-b1b6-4e02-82ba-04bdd04ba9fb",
   "metadata": {},
   "outputs": [
    {
     "data": {
      "text/plain": [
       "0.6"
      ]
     },
     "execution_count": 85,
     "metadata": {},
     "output_type": "execute_result"
    }
   ],
   "source": [
    "from hari1 import div\n",
    "div(3,5)"
   ]
  },
  {
   "cell_type": "code",
   "execution_count": 88,
   "id": "8d01b0f6-943f-4aa7-a6bf-e6cd6f515479",
   "metadata": {},
   "outputs": [
    {
     "name": "stdout",
     "output_type": "stream",
     "text": [
      "2025-01-02 16:59:56.820689\n"
     ]
    }
   ],
   "source": [
    "# (3) datetime module:\n",
    "from datetime import datetime\n",
    "now=datetime.now()  # Used for current time\n",
    "print(now)"
   ]
  },
  {
   "cell_type": "code",
   "execution_count": 89,
   "id": "53fd261c-7813-4105-8e8b-7584afe2b64a",
   "metadata": {},
   "outputs": [
    {
     "name": "stdout",
     "output_type": "stream",
     "text": [
      "2025-01-02\n"
     ]
    }
   ],
   "source": [
    "date=now.date()\n",
    "print(date)"
   ]
  },
  {
   "cell_type": "code",
   "execution_count": 90,
   "id": "105cd623-f6ab-4ea4-9c5b-c529c956d6c7",
   "metadata": {},
   "outputs": [
    {
     "name": "stdout",
     "output_type": "stream",
     "text": [
      "16:59:56.820689\n"
     ]
    }
   ],
   "source": [
    "time=now.time()\n",
    "print(time)"
   ]
  },
  {
   "cell_type": "code",
   "execution_count": 91,
   "id": "543c2ffc-50f1-4985-b2dd-0f80f95bed3b",
   "metadata": {},
   "outputs": [
    {
     "name": "stdout",
     "output_type": "stream",
     "text": [
      "2025\n"
     ]
    }
   ],
   "source": [
    "# Formatted datetime:\n",
    "res=now.strftime(\"%Y\")  # year\n",
    "print(res)"
   ]
  },
  {
   "cell_type": "code",
   "execution_count": 100,
   "id": "f31a6c78-4d6a-4b6a-923d-ba38bc60ce65",
   "metadata": {},
   "outputs": [
    {
     "name": "stdout",
     "output_type": "stream",
     "text": [
      "01\n"
     ]
    }
   ],
   "source": [
    "res=now.strftime(\"%m\")  # month\n",
    "print(res)"
   ]
  },
  {
   "cell_type": "code",
   "execution_count": 101,
   "id": "12eebca2-0ef9-4169-9b6a-5654db08f3d7",
   "metadata": {},
   "outputs": [
    {
     "name": "stdout",
     "output_type": "stream",
     "text": [
      "02\n"
     ]
    }
   ],
   "source": [
    "res=now.strftime(\"%d\")    # day\n",
    "print(res)"
   ]
  },
  {
   "cell_type": "code",
   "execution_count": 93,
   "id": "2854964c-fcb1-480c-b9d0-e66ef8d6111e",
   "metadata": {},
   "outputs": [
    {
     "name": "stdout",
     "output_type": "stream",
     "text": [
      "2025-01-02\n"
     ]
    }
   ],
   "source": [
    "res=now.strftime(\"%Y-%m-%d\")\n",
    "print(res)"
   ]
  },
  {
   "cell_type": "code",
   "execution_count": 94,
   "id": "5f2991b4-934d-482b-b6ec-3987267eb2bb",
   "metadata": {},
   "outputs": [
    {
     "name": "stdout",
     "output_type": "stream",
     "text": [
      "01/02/25\n"
     ]
    }
   ],
   "source": [
    "res=now.strftime(\"%D\")\n",
    "print(res)"
   ]
  },
  {
   "cell_type": "code",
   "execution_count": 95,
   "id": "940227c3-c68f-424a-a91a-27bdda6a4227",
   "metadata": {},
   "outputs": [
    {
     "name": "stdout",
     "output_type": "stream",
     "text": [
      "04:59:56 PM\n"
     ]
    }
   ],
   "source": [
    "res=now.strftime(\"%r\")\n",
    "print(res)"
   ]
  },
  {
   "cell_type": "code",
   "execution_count": 102,
   "id": "78656d01-946a-4d17-ae89-116ee797a5af",
   "metadata": {},
   "outputs": [
    {
     "name": "stdout",
     "output_type": "stream",
     "text": [
      "16\n"
     ]
    }
   ],
   "source": [
    "res=now.strftime(\"%H\")   # Hour\n",
    "print(res)"
   ]
  },
  {
   "cell_type": "code",
   "execution_count": 96,
   "id": "b5ee7708-8258-4dfe-a4ad-ed98c66a225d",
   "metadata": {},
   "outputs": [
    {
     "name": "stdout",
     "output_type": "stream",
     "text": [
      "Jan\n"
     ]
    }
   ],
   "source": [
    "res=now.strftime(\"%h\")\n",
    "print(res)"
   ]
  },
  {
   "cell_type": "code",
   "execution_count": 97,
   "id": "2da6b1fb-6936-4b56-887f-fdc53373fd3d",
   "metadata": {},
   "outputs": [
    {
     "name": "stdout",
     "output_type": "stream",
     "text": [
      "2025-01-07 16:59:56.820689\n"
     ]
    }
   ],
   "source": [
    "# timedelta:\n",
    "from datetime import timedelta\n",
    "fut_date=now+timedelta(days=5)\n",
    "print(fut_date)"
   ]
  },
  {
   "cell_type": "code",
   "execution_count": 98,
   "id": "81045063-a4b9-420f-a8cd-ded43b9c5acb",
   "metadata": {},
   "outputs": [
    {
     "name": "stdout",
     "output_type": "stream",
     "text": [
      "2024-12-28 16:59:56.820689\n"
     ]
    }
   ],
   "source": [
    "past_date=now-timedelta(days=5)\n",
    "print(past_date)"
   ]
  },
  {
   "cell_type": "code",
   "execution_count": 99,
   "id": "f98afc3c-f695-42f8-8536-06e352e1a914",
   "metadata": {},
   "outputs": [
    {
     "name": "stdout",
     "output_type": "stream",
     "text": [
      "2020-01-03 12:44:55\n"
     ]
    }
   ],
   "source": [
    "# Custom date:\n",
    "my_date=datetime(2020,1,3,12,44,55)\n",
    "print(my_date)"
   ]
  },
  {
   "cell_type": "code",
   "execution_count": null,
   "id": "843d9ccf-9b2d-409c-89ae-4ed30a53cbb9",
   "metadata": {},
   "outputs": [],
   "source": []
  }
 ],
 "metadata": {
  "kernelspec": {
   "display_name": "Python 3 (ipykernel)",
   "language": "python",
   "name": "python3"
  },
  "language_info": {
   "codemirror_mode": {
    "name": "ipython",
    "version": 3
   },
   "file_extension": ".py",
   "mimetype": "text/x-python",
   "name": "python",
   "nbconvert_exporter": "python",
   "pygments_lexer": "ipython3",
   "version": "3.12.5"
  }
 },
 "nbformat": 4,
 "nbformat_minor": 5
}
