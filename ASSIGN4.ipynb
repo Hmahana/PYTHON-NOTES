{
 "cells": [
  {
   "cell_type": "code",
   "execution_count": 4,
   "id": "3e4d676b-9c6d-4a8a-82e8-211f950e4eb0",
   "metadata": {},
   "outputs": [
    {
     "name": "stdout",
     "output_type": "stream",
     "text": [
      "Even numbers between 1 and 20 are :\n",
      "2 4 6 8 10 12 14 16 18 20 \n",
      "Odd numbers between 1 and 20 are :\n",
      "1 3 5 7 9 11 13 15 17 19 "
     ]
    }
   ],
   "source": [
    "# 1. Write a Python program to print all odd and even numbers from 1 to 20.\n",
    "print(\"Even numbers between 1 and 20 are :\")\n",
    "for i in range(1,21):\n",
    "    if(i%2==0):\n",
    "        print(i,end=\" \")\n",
    "print(\"\\nOdd numbers between 1 and 20 are :\")\n",
    "for i in range(1,21):\n",
    "    if(i%2!=0):\n",
    "        print(i,end=\" \")       "
   ]
  },
  {
   "cell_type": "code",
   "execution_count": 6,
   "id": "ab0721d7-263b-4487-8ee6-39814723508f",
   "metadata": {},
   "outputs": [
    {
     "name": "stdout",
     "output_type": "stream",
     "text": [
      "Multiples of 12 are :\n",
      "12 x 1 = 12\n",
      "12 x 2 = 24\n",
      "12 x 3 = 36\n",
      "12 x 4 = 48\n",
      "12 x 5 = 60\n",
      "12 x 6 = 72\n",
      "12 x 7 = 84\n",
      "12 x 8 = 96\n",
      "12 x 9 = 108\n",
      "12 x 10 = 120\n"
     ]
    }
   ],
   "source": [
    "# 2. Write a Python program to generate all multiples of 12.\n",
    "print(\"Multiples of 12 are :\")\n",
    "for i in range(1,11):\n",
    "    print(f\"12 x {i} =\",12*i)"
   ]
  },
  {
   "cell_type": "code",
   "execution_count": 10,
   "id": "14f673c7-089f-4383-b4ad-8fe415a78f76",
   "metadata": {},
   "outputs": [
    {
     "name": "stdin",
     "output_type": "stream",
     "text": [
      "Enter any number : 19\n"
     ]
    },
    {
     "name": "stdout",
     "output_type": "stream",
     "text": [
      "Table of 19 :\n",
      "19 x 1 = 19\n",
      "19 x 2 = 38\n",
      "19 x 3 = 57\n",
      "19 x 4 = 76\n",
      "19 x 5 = 95\n",
      "19 x 6 = 114\n",
      "19 x 7 = 133\n",
      "19 x 8 = 152\n",
      "19 x 9 = 171\n",
      "19 x 10 = 190\n"
     ]
    }
   ],
   "source": [
    "# 3. Write a Python program to generate a table of a number provided by the user.\n",
    "num=int(input(\"Enter any number :\"))\n",
    "print(f\"Table of {num} :\")\n",
    "for i in range(1,11):\n",
    "    print(f\"{num} x {i} =\",num*i)"
   ]
  },
  {
   "cell_type": "code",
   "execution_count": 15,
   "id": "0fa37986-4916-4549-8e55-67f4efa2f9f3",
   "metadata": {},
   "outputs": [
    {
     "name": "stdin",
     "output_type": "stream",
     "text": [
      "Enter any positive number : 5\n"
     ]
    },
    {
     "name": "stdout",
     "output_type": "stream",
     "text": [
      "5 is a prime number.\n"
     ]
    }
   ],
   "source": [
    "# 4. Write a Python program to check if a number provided by the user is prime or not.\n",
    "num=int(input(\"Enter any positive number :\"))\n",
    "if(num<=1):\n",
    "    print(f\"{num} is not a prime number.\")\n",
    "else:\n",
    "    is_prime=True\n",
    "    for i in range(2,num):\n",
    "        if (num%i==0):\n",
    "            is_prime=False\n",
    "            print(f\"{num} is not a prime number.\")\n",
    "            break\n",
    "    if is_prime:\n",
    "        print(f\"{num} is a prime number.\")"
   ]
  },
  {
   "cell_type": "code",
   "execution_count": 13,
   "id": "b0e6e51d-a96a-4738-b022-f2c5e3003fa5",
   "metadata": {},
   "outputs": [
    {
     "name": "stdin",
     "output_type": "stream",
     "text": [
      "Enter first number : 1\n",
      "Enter second number : 5\n"
     ]
    },
    {
     "name": "stdout",
     "output_type": "stream",
     "text": [
      "sum = 15\n"
     ]
    }
   ],
   "source": [
    "# 5. Write a Python program to calculate the sum of numbers between a starting and ending point provided by the user.\n",
    "num1=int(input(\"Enter first number :\"))\n",
    "num2=int(input(\"Enter second number :\"))\n",
    "sum=0\n",
    "for i in range(num1,num2+1):\n",
    "    sum+=i\n",
    "print(\"sum =\",sum)    "
   ]
  },
  {
   "cell_type": "code",
   "execution_count": 15,
   "id": "aa799a72-f0f8-43f0-ad1c-bb1e2a3de038",
   "metadata": {},
   "outputs": [
    {
     "name": "stdin",
     "output_type": "stream",
     "text": [
      "Enter first number : 1\n",
      "Enter second number : 5\n"
     ]
    },
    {
     "name": "stdout",
     "output_type": "stream",
     "text": [
      "Product = 120\n"
     ]
    }
   ],
   "source": [
    "# 6. Write a Python program to calculate the product of numbers between a starting and ending point provided by the user.\n",
    "num1=int(input(\"Enter first number :\"))\n",
    "num2=int(input(\"Enter second number :\"))\n",
    "prod=1\n",
    "for i in range(num1,num2+1):\n",
    "    prod*=i\n",
    "print(\"Product =\",prod) "
   ]
  },
  {
   "cell_type": "code",
   "execution_count": 42,
   "id": "f9e763a2-0bfe-4b89-a003-04059f630f3e",
   "metadata": {},
   "outputs": [
    {
     "name": "stdin",
     "output_type": "stream",
     "text": [
      "Enter number of terms : 20\n"
     ]
    },
    {
     "name": "stdout",
     "output_type": "stream",
     "text": [
      "Fibonacci sequence with 20 terms: [0, 1, 1, 2, 3, 5, 8, 13, 21, 34, 55, 89, 144, 233, 377, 610, 987, 1597, 2584, 4181]\n"
     ]
    }
   ],
   "source": [
    "# 7. Write a Python program to generate the Fibonacci sequence up to a specied number of terms.\n",
    "num_terms=int(input(\"Enter number of terms :\"))\n",
    "if num_terms <= 0:\n",
    "    print(\"Please enter a positive integer.\")\n",
    "else:\n",
    "    fibonacci_sequence = [] # Empty list\n",
    "    if num_terms >= 1:\n",
    "            fibonacci_sequence.append(0)  # Adding First term\n",
    "    if num_terms >= 2:\n",
    "            fibonacci_sequence.append(1)  # Adding Second term\n",
    "    for i in range(2, num_terms):\n",
    "        next_term = fibonacci_sequence[-1] + fibonacci_sequence[-2]\n",
    "        fibonacci_sequence.append(next_term)\n",
    "        \n",
    "    print(f\"Fibonacci sequence with {num_terms} terms: {fibonacci_sequence}\")"
   ]
  },
  {
   "cell_type": "code",
   "execution_count": 43,
   "id": "c9ad542c-1ef3-44a3-912b-0bbacbbe93a6",
   "metadata": {},
   "outputs": [
    {
     "name": "stdin",
     "output_type": "stream",
     "text": [
      "Enter the number : 5\n"
     ]
    },
    {
     "name": "stdout",
     "output_type": "stream",
     "text": [
      "Factorial of a given number is 120\n"
     ]
    }
   ],
   "source": [
    "# 8. Write a Python program to calculate the factorial of a number provided by the user.\n",
    "num=int(input(\"Enter the number :\"))\n",
    "fact=1\n",
    "for i in range(num,0,-1):\n",
    "    fact*=i\n",
    "print(f\"Factorial of a given number is {fact}\")"
   ]
  },
  {
   "cell_type": "code",
   "execution_count": 44,
   "id": "7a7fffb8-11bd-40c6-b319-8b77da3acf11",
   "metadata": {},
   "outputs": [
    {
     "name": "stdout",
     "output_type": "stream",
     "text": [
      "Greatest character is : y\n"
     ]
    }
   ],
   "source": [
    "# 9. Write a Python program to find the greatest character from the string \"python\".\n",
    "str=\"python\"\n",
    "var=\"\"\n",
    "size=len(str)\n",
    "for i in range(size):\n",
    "    if(str[i]>var):\n",
    "        var=str[i]\n",
    "print(\"Greatest character is :\",var) "
   ]
  },
  {
   "cell_type": "code",
   "execution_count": 49,
   "id": "8415c25a-eb07-4b37-9bde-c47002861296",
   "metadata": {},
   "outputs": [
    {
     "name": "stdout",
     "output_type": "stream",
     "text": [
      "Dreaer nfotech"
     ]
    }
   ],
   "source": [
    "# 10.Write a Python program to display all letters except 'm' and 'i' from the string \"Dreamer infotech\".\n",
    "str=\"Dreamer infotech\"\n",
    "size=len(str)\n",
    "for i in range(size):\n",
    "    if(str[i]==\"m\" or str[i]==\"i\"):\n",
    "        continue\n",
    "    else:\n",
    "        print(str[i],end=\"\")   "
   ]
  },
  {
   "cell_type": "code",
   "execution_count": 54,
   "id": "68a214c5-ee98-48c6-a5fd-a18ad3196daa",
   "metadata": {},
   "outputs": [
    {
     "name": "stdin",
     "output_type": "stream",
     "text": [
      "Enter any string : hariom\n"
     ]
    },
    {
     "name": "stdout",
     "output_type": "stream",
     "text": [
      "Alternate string is :\n",
      "hro"
     ]
    }
   ],
   "source": [
    "# 11.Write a Python program to print alternate characters from a given string\n",
    "str=input(\"Enter any string :\")\n",
    "size=len(str)\n",
    "print('Alternate string is :')\n",
    "for i in range(size):\n",
    "    if(i%2==0):\n",
    "        print(str[i],end='')"
   ]
  },
  {
   "cell_type": "code",
   "execution_count": 6,
   "id": "e66c1bc4-7a4c-46be-95db-f01b7cb49725",
   "metadata": {},
   "outputs": [
    {
     "name": "stdin",
     "output_type": "stream",
     "text": [
      "Enter any string : hariom singh\n"
     ]
    },
    {
     "name": "stdout",
     "output_type": "stream",
     "text": [
      "Reverse string is :\n",
      "hgnis moirah"
     ]
    }
   ],
   "source": [
    "# 12.Write a Python program to reverse a string entered by the user.\n",
    "str=input(\"Enter any string :\")\n",
    "size=len(str)\n",
    "print('Reverse string is :')\n",
    "for i in range(size-1,-1,-1):\n",
    "    print(str[i],end=\"\")"
   ]
  },
  {
   "cell_type": "code",
   "execution_count": 9,
   "id": "349fdbb0-a001-4374-8814-8d8fdb766c16",
   "metadata": {},
   "outputs": [
    {
     "name": "stdin",
     "output_type": "stream",
     "text": [
      "Enter any string : hariom singh\n"
     ]
    },
    {
     "name": "stdout",
     "output_type": "stream",
     "text": [
      "Total number of characters in a given string = 12\n"
     ]
    }
   ],
   "source": [
    "# 13.Write a Python program to count the total number of characters in a string entered by the user.\n",
    "str=input(\"Enter any string :\")\n",
    "size=len(str)\n",
    "count=0\n",
    "for i in range(size):\n",
    "    count+=1\n",
    "print(\"Total number of characters in a given string =\",count)    "
   ]
  },
  {
   "cell_type": "code",
   "execution_count": 13,
   "id": "ed83181f-9bcc-48c5-8ab2-ef611447832e",
   "metadata": {},
   "outputs": [
    {
     "name": "stdin",
     "output_type": "stream",
     "text": [
      "Enter the number : 767\n"
     ]
    },
    {
     "name": "stdout",
     "output_type": "stream",
     "text": [
      "Reverse of the given number is : 767\n",
      "It is a palendrom number\n"
     ]
    }
   ],
   "source": [
    "# 14.Write a Python program to check whether a string entered by the user is a palindrome.\n",
    "num=int(input(\"Enter the number :\"))\n",
    "rev=0\n",
    "x=num\n",
    "while num>0:\n",
    "    last_digit=num%10\n",
    "    rev=rev*10+last_digit\n",
    "    num=num//10\n",
    "print(\"Reverse of the given number is :\",rev)\n",
    "if rev==x:\n",
    "    print(\"It is a palendrom number\")\n",
    "else:\n",
    "    print(\"It is not a palendrom number\")"
   ]
  },
  {
   "cell_type": "code",
   "execution_count": 21,
   "id": "6777e2af-0e74-43b4-8ff6-e4ab7d7d8397",
   "metadata": {},
   "outputs": [
    {
     "name": "stdin",
     "output_type": "stream",
     "text": [
      "Enter any string : qwerty\n",
      "Enter a character which you want to search : t\n"
     ]
    },
    {
     "name": "stdout",
     "output_type": "stream",
     "text": [
      "The given character is found at index : 4\n"
     ]
    }
   ],
   "source": [
    "# 15.Write a Python program that allows the user to search for a character within a given string.\n",
    "str=input(\"Enter any string :\")\n",
    "size=len(str)\n",
    "character=input(\"Enter a character which you want to search :\")\n",
    "res=str.find(character)\n",
    "if (res>=0):\n",
    "    print(\"The given character is found at index :\",res)\n",
    "else:\n",
    "    print(\"The given character is not found\")"
   ]
  },
  {
   "cell_type": "code",
   "execution_count": 26,
   "id": "e9e2bc74-e4ac-43c3-9eed-777c901a1c49",
   "metadata": {},
   "outputs": [
    {
     "name": "stdin",
     "output_type": "stream",
     "text": [
      "Enter any string : hariom\n"
     ]
    },
    {
     "name": "stdout",
     "output_type": "stream",
     "text": [
      "Consonents in the given string are :\n",
      "h r m \n",
      "Vowels in the given string are :\n",
      "a i o "
     ]
    }
   ],
   "source": [
    "# 16.Write a Python program to filter out all vowels and consonants from a string entered by the user.\n",
    "str=input(\"Enter any string :\")\n",
    "size=len(str)\n",
    "vowel=(\"a,e,i,o,u\")\n",
    "print(\"Consonents in the given string are :\")\n",
    "for i in range(size):\n",
    "    if(str[i] not in vowel ):\n",
    "        print(str[i],end=\" \")\n",
    "print(\"\\nVowels in the given string are :\")\n",
    "for i in range(size):\n",
    "    if(str[i] in vowel ):\n",
    "        print(str[i],end=\" \")       "
   ]
  },
  {
   "cell_type": "code",
   "execution_count": 31,
   "id": "8bf1753d-5cdf-4b2b-8281-2a42bf32b967",
   "metadata": {},
   "outputs": [
    {
     "name": "stdin",
     "output_type": "stream",
     "text": [
      "Enter a string:  pooja kaur\n"
     ]
    },
    {
     "name": "stdout",
     "output_type": "stream",
     "text": [
      "String after removing duplicates: poja kur\n"
     ]
    }
   ],
   "source": [
    "# 17.Write a Python program to filter out duplicate characters from a string entered by the user.\n",
    "user_string = input(\"Enter a string: \")\n",
    "\n",
    "# Initialize an empty string to store unique characters\n",
    "filtered_string = \"\"\n",
    "for i in user_string:\n",
    "    if i not in filtered_string:\n",
    "        filtered_string += i\n",
    "print(\"String after removing duplicates:\", filtered_string)"
   ]
  },
  {
   "cell_type": "code",
   "execution_count": 8,
   "id": "22d0a019-4aab-4b0c-9283-e17b342fbfa3",
   "metadata": {},
   "outputs": [
    {
     "name": "stdout",
     "output_type": "stream",
     "text": [
      "1:1, 1:2, 1:3, 2:1, 2:2, 2:3, 3:1, 3:2, 3:3, "
     ]
    }
   ],
   "source": [
    "# 18.Write a Python program to display all possible pairs of 3.\n",
    "# Example: 1:3, 2:3, 3:3 , 2:1 , 2:2 ,2:3 , 3:1 ,3:2 ,3:3\n",
    "for i in range(1,4):\n",
    "    for j in range(1,4):\n",
    "        print(f\"{i}:{j}\",end=\", \")"
   ]
  },
  {
   "cell_type": "code",
   "execution_count": 9,
   "id": "eeced84b-26ff-466f-bc06-6a03197dbd61",
   "metadata": {},
   "outputs": [
    {
     "name": "stdout",
     "output_type": "stream",
     "text": [
      "*   *\n",
      "*   *\n",
      "*   *\n",
      "*****\n",
      "*   *\n",
      "*   *\n",
      "*   *\n"
     ]
    }
   ],
   "source": [
    "# 19.Write a Python program to generate the pattern of the letter H\n",
    "# Dimensions of the pattern\n",
    "height = 7\n",
    "width = 5\n",
    "\n",
    "# Generate the pattern\n",
    "for row in range(height):\n",
    "    for col in range(width):\n",
    "        # Print '*' at the borders and in the middle row\n",
    "        if col == 0 or col == width - 1 or row == height // 2:\n",
    "            print(\"*\", end=\"\")\n",
    "        else:\n",
    "            print(\" \", end=\"\")\n",
    "    print()  # Move to the next row"
   ]
  },
  {
   "cell_type": "code",
   "execution_count": 19,
   "id": "da7e16b8-b5d3-48cb-b728-579e7ee60dc7",
   "metadata": {},
   "outputs": [
    {
     "name": "stdin",
     "output_type": "stream",
     "text": [
      "Enter string 1 : virat\n",
      "Enter string 2 : rohit\n"
     ]
    },
    {
     "name": "stdout",
     "output_type": "stream",
     "text": [
      "Duplicate letters are : irt\n"
     ]
    }
   ],
   "source": [
    "# 20.Write a Python program to find duplicate letters between two strings.\n",
    "# Example: In \"virat\" and \"rohit\", the duplicate letter is \"r\".\n",
    "str1=input(\"Enter string 1 :\")\n",
    "str2=input(\"Enter string 2 :\")\n",
    "str3=\"\"\n",
    "for i in str1:\n",
    "    for j in str2:\n",
    "        if(i == j and i not in str3):\n",
    "            str3+=j\n",
    "print(\"Duplicate letters are :\",str3)        "
   ]
  },
  {
   "cell_type": "code",
   "execution_count": 18,
   "id": "c201ab73-2f0d-43e4-9d27-b1d8a4b44d9c",
   "metadata": {},
   "outputs": [
    {
     "name": "stdout",
     "output_type": "stream",
     "text": [
      "The squares of numbers from 1 to 10 :\n",
      "1 x 1 = 1\n",
      "2 x 2 = 4\n",
      "3 x 3 = 9\n",
      "4 x 4 = 16\n",
      "5 x 5 = 25\n",
      "6 x 6 = 36\n",
      "7 x 7 = 49\n",
      "8 x 8 = 64\n",
      "9 x 9 = 81\n",
      "10 x 10 = 100\n"
     ]
    }
   ],
   "source": [
    "# 21.Write a Python program to display the squares of numbers from 1 to 10.\n",
    "print(\"The squares of numbers from 1 to 10 :\")\n",
    "for i in range(1,11):\n",
    "    print(f\"{i} x {i} =\",i*i)"
   ]
  },
  {
   "cell_type": "code",
   "execution_count": 9,
   "id": "a97fbc7f-dd59-40bb-8bf7-9bd663deea63",
   "metadata": {},
   "outputs": [
    {
     "name": "stdout",
     "output_type": "stream",
     "text": [
      "Second Greatest character is : n\n"
     ]
    }
   ],
   "source": [
    "# Find second highest character Using FOR loop\n",
    "str=\"iqindia\"\n",
    "var1=\"\"\n",
    "var2=\"\"\n",
    "size=len(str)\n",
    "for i in range(size):\n",
    "    if(str[i]>var1):\n",
    "        var1=str[i]\n",
    "    elif(var1>str[i]>var2):\n",
    "        var2=str[i]\n",
    "print(\"Second Greatest character is :\",var2)"
   ]
  }
 ],
 "metadata": {
  "kernelspec": {
   "display_name": "Python 3 (ipykernel)",
   "language": "python",
   "name": "python3"
  },
  "language_info": {
   "codemirror_mode": {
    "name": "ipython",
    "version": 3
   },
   "file_extension": ".py",
   "mimetype": "text/x-python",
   "name": "python",
   "nbconvert_exporter": "python",
   "pygments_lexer": "ipython3",
   "version": "3.12.5"
  }
 },
 "nbformat": 4,
 "nbformat_minor": 5
}
