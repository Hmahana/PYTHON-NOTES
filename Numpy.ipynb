{
 "cells": [
  {
   "cell_type": "code",
   "execution_count": 1,
   "id": "d290ca12-57c7-4c3a-bf94-ae52ba687b9a",
   "metadata": {},
   "outputs": [
    {
     "name": "stdout",
     "output_type": "stream",
     "text": [
      "[[0.35949087 0.72037563 0.56169421]\n",
      " [0.98537374 0.74626787 0.61446139]]\n"
     ]
    }
   ],
   "source": [
    "# Random numbers:\n",
    "# (1) numpy.random.rand():\n",
    "import numpy as np\n",
    "print(np.random.rand(2, 3))  # 2x3 array of random numbers (generates values b/w 0 and 1)"
   ]
  },
  {
   "cell_type": "code",
   "execution_count": 2,
   "id": "be77ea7b-c23b-433a-be8f-4f49bd28879a",
   "metadata": {},
   "outputs": [
    {
     "name": "stdout",
     "output_type": "stream",
     "text": [
      "[[-1.8153287  -0.59413014]\n",
      " [ 0.25417088  1.04970435]\n",
      " [-2.14218354  0.49358011]]\n"
     ]
    }
   ],
   "source": [
    "# (2) numpy.random.randn():\n",
    "print(np.random.randn(3, 2))  # 3x2 array of random samples (99% of values lies b/w -3 and +3)."
   ]
  },
  {
   "cell_type": "code",
   "execution_count": 8,
   "id": "3da8a3b6-8cfd-447e-befb-3b9b36fcd5c5",
   "metadata": {},
   "outputs": [
    {
     "name": "stdout",
     "output_type": "stream",
     "text": [
      "[[12.75404456  7.26071102  4.51882633]\n",
      " [ 8.73483369 12.44579907 13.02705677]]\n"
     ]
    }
   ],
   "source": [
    "# (3) numpy.random.normal():\n",
    "print(np.random.normal(10, 3, (2, 3))) # (values = 10+-3,ie mean=10,std=3)"
   ]
  },
  {
   "cell_type": "code",
   "execution_count": 6,
   "id": "9e036a63-8515-4351-bfd2-96208b565c64",
   "metadata": {},
   "outputs": [
    {
     "name": "stdout",
     "output_type": "stream",
     "text": [
      "[[2 6]\n",
      " [5 7]]\n"
     ]
    }
   ],
   "source": [
    "# (4) numpy.random.randint():\n",
    "print(np.random.randint(0, 10, size=(2, 2)))  # 2x2 matrix of integers from 0 to 9"
   ]
  },
  {
   "cell_type": "code",
   "execution_count": 38,
   "id": "c2a010dc-f738-404a-a6d2-acd2d306a0c1",
   "metadata": {},
   "outputs": [
    {
     "name": "stdout",
     "output_type": "stream",
     "text": [
      "[5, 11, 15, 9, 16, 9, 10, 14, 10]\n"
     ]
    }
   ],
   "source": [
    "my_list=[np.random.randint(20) for i in range (1,10)]\n",
    "print(my_list)"
   ]
  },
  {
   "cell_type": "code",
   "execution_count": 7,
   "id": "3e9f0310-07a5-49bc-8dbb-469f77d909e8",
   "metadata": {},
   "outputs": [
    {
     "name": "stdout",
     "output_type": "stream",
     "text": [
      "[0.   0.25 0.5  0.75 1.  ]\n"
     ]
    }
   ],
   "source": [
    "# numpy.linspace():\n",
    "my_arr=np.linspace(0,1,5)\n",
    "print(my_arr)"
   ]
  },
  {
   "cell_type": "code",
   "execution_count": 10,
   "id": "98fcd469-ab29-426f-9591-633d1a32e784",
   "metadata": {},
   "outputs": [
    {
     "name": "stdout",
     "output_type": "stream",
     "text": [
      "[11.    15.125 19.25  23.375 27.5   31.625 35.75  39.875 44.   ]\n"
     ]
    }
   ],
   "source": [
    "my_arr=np.linspace(11,44,9)\n",
    "print(my_arr)"
   ]
  },
  {
   "cell_type": "code",
   "execution_count": 4,
   "id": "b5e8edb6-dc27-450d-8ea7-493bdf19ea58",
   "metadata": {},
   "outputs": [
    {
     "name": "stdout",
     "output_type": "stream",
     "text": [
      "[ 1  2  3  4  5  6  7  8  9 10]\n"
     ]
    }
   ],
   "source": [
    "# numpy.arange():\n",
    "x = np.arange(1, 11)\n",
    "print(x)"
   ]
  },
  {
   "cell_type": "code",
   "execution_count": 11,
   "id": "7335dbd9-15d6-4ef1-b5d3-9f40207d5ec8",
   "metadata": {},
   "outputs": [
    {
     "name": "stdout",
     "output_type": "stream",
     "text": [
      "[ 5 10 15 20 25 30 35 40 45 50 55 60 65 70 75 80 85]\n"
     ]
    }
   ],
   "source": [
    "# numpy.arange():\n",
    "x = np.arange(5, 87,5)\n",
    "print(x)"
   ]
  },
  {
   "cell_type": "code",
   "execution_count": 12,
   "id": "348a43be-04ff-4a37-99bc-aae33a6a2b08",
   "metadata": {},
   "outputs": [
    {
     "name": "stdout",
     "output_type": "stream",
     "text": [
      "[0 1 2 3 4 5 6 7 8 9]\n"
     ]
    }
   ],
   "source": [
    "x = np.arange(10)\n",
    "print(x)"
   ]
  },
  {
   "cell_type": "code",
   "execution_count": 1,
   "id": "4b69630c-3611-4659-af52-cf679c68e100",
   "metadata": {},
   "outputs": [
    {
     "name": "stdout",
     "output_type": "stream",
     "text": [
      "[1 2 3 4 5]\n"
     ]
    }
   ],
   "source": [
    "# Array creation:\n",
    "import numpy as np\n",
    "my_arr=np.array([1,2,3,4,5])\n",
    "print(my_arr)"
   ]
  },
  {
   "cell_type": "code",
   "execution_count": 2,
   "id": "9da4f394-c5ed-4c0b-89c3-a572fa4a309a",
   "metadata": {},
   "outputs": [
    {
     "name": "stdout",
     "output_type": "stream",
     "text": [
      "[  1 100   3   4   5]\n"
     ]
    }
   ],
   "source": [
    "# Updating:\n",
    "my_arr[1]=100\n",
    "print(my_arr)"
   ]
  },
  {
   "cell_type": "code",
   "execution_count": 3,
   "id": "e815adbf-b38d-4528-ae21-ba38e97d05e8",
   "metadata": {},
   "outputs": [
    {
     "name": "stdout",
     "output_type": "stream",
     "text": [
      "5\n"
     ]
    }
   ],
   "source": [
    "print(len(my_arr))"
   ]
  },
  {
   "cell_type": "code",
   "execution_count": 4,
   "id": "81772572-7793-4071-8e6e-271e3c85d0e8",
   "metadata": {},
   "outputs": [
    {
     "name": "stdout",
     "output_type": "stream",
     "text": [
      "<class 'numpy.ndarray'>\n"
     ]
    }
   ],
   "source": [
    "print(type(my_arr))"
   ]
  },
  {
   "cell_type": "code",
   "execution_count": 5,
   "id": "bbdcea29-07ff-44eb-bffa-24701d373be9",
   "metadata": {},
   "outputs": [
    {
     "name": "stdout",
     "output_type": "stream",
     "text": [
      "[[0. 0. 0. 0.]\n",
      " [0. 0. 0. 0.]\n",
      " [0. 0. 0. 0.]]\n"
     ]
    }
   ],
   "source": [
    "#  numpy.zeros():\n",
    "my_arr=np.zeros((3,4))\n",
    "print(my_arr)"
   ]
  },
  {
   "cell_type": "code",
   "execution_count": 6,
   "id": "4943ef8a-731a-4f31-8b67-ec5e8ae934cb",
   "metadata": {},
   "outputs": [
    {
     "name": "stdout",
     "output_type": "stream",
     "text": [
      "[[1. 1. 1. 1.]\n",
      " [1. 1. 1. 1.]\n",
      " [1. 1. 1. 1.]]\n"
     ]
    }
   ],
   "source": [
    "#  numpy.ones():\n",
    "my_arr=np.ones((3,4))\n",
    "print(my_arr)"
   ]
  },
  {
   "cell_type": "code",
   "execution_count": 16,
   "id": "684e8d41-bec5-44b6-89cd-83cda54a0879",
   "metadata": {},
   "outputs": [
    {
     "name": "stdout",
     "output_type": "stream",
     "text": [
      "[[1 2 3]\n",
      " [4 5 6]]\n"
     ]
    }
   ],
   "source": [
    "# Array manipultion:\n",
    "# (a) numpy.reshape():\n",
    "my_arr=np.array([1,2,3,4,5,6])\n",
    "new_arr=my_arr.reshape(2,3)\n",
    "print(new_arr)"
   ]
  },
  {
   "cell_type": "code",
   "execution_count": 17,
   "id": "cb8a7e67-4b5b-4242-977a-5c2f8c345169",
   "metadata": {},
   "outputs": [
    {
     "name": "stdout",
     "output_type": "stream",
     "text": [
      "[[ 1  2  3  4]\n",
      " [ 5  6  7  8]\n",
      " [ 9 10 11 12]\n",
      " [13 14 15 16]\n",
      " [17 18 19 20]]\n"
     ]
    }
   ],
   "source": [
    "my_arr=np.arange(1,21)\n",
    "new_arr=my_arr.reshape(5,4)\n",
    "print(new_arr)"
   ]
  },
  {
   "cell_type": "code",
   "execution_count": 18,
   "id": "fbdf67bc-0361-4ac7-b049-5f364ff9e911",
   "metadata": {},
   "outputs": [
    {
     "name": "stdout",
     "output_type": "stream",
     "text": [
      "[ 2  5 10 20]\n"
     ]
    }
   ],
   "source": [
    "# numpy.ravel():\n",
    "my_arr=np.array([[2,5],[10,20]])\n",
    "print(my_arr.ravel())"
   ]
  },
  {
   "cell_type": "code",
   "execution_count": 20,
   "id": "c22edac4-ec39-4a57-8ca1-57ec38ed34c1",
   "metadata": {},
   "outputs": [
    {
     "name": "stdout",
     "output_type": "stream",
     "text": [
      "[[ 2  5]\n",
      " [10 20]]\n"
     ]
    }
   ],
   "source": [
    "my_arr=np.array([[2,5],[10,20]])\n",
    "print(my_arr)"
   ]
  },
  {
   "cell_type": "code",
   "execution_count": 19,
   "id": "eaaade43-850a-46e8-af57-4ccf775f6853",
   "metadata": {},
   "outputs": [
    {
     "name": "stdout",
     "output_type": "stream",
     "text": [
      "[[ 2 10]\n",
      " [ 5 20]]\n"
     ]
    }
   ],
   "source": [
    "# transpose():\n",
    "my_arr=np.array([[2,5],[10,20]])\n",
    "trans=my_arr.T\n",
    "print(trans)"
   ]
  },
  {
   "cell_type": "code",
   "execution_count": 21,
   "id": "5cfc431b-4a07-4453-b0d1-1195cbd30c62",
   "metadata": {},
   "outputs": [
    {
     "name": "stdout",
     "output_type": "stream",
     "text": [
      "[ 1  2  3  4  5  6  7  8  9  2  3  4  5  6  7  8  9 10 11 12 13 14 15 16\n",
      " 17 18 19]\n"
     ]
    }
   ],
   "source": [
    "# concatenate():\n",
    "ar1=np.arange(1,10)\n",
    "ar2=np.arange(2,20)\n",
    "ar1_ar2=np.concatenate((ar1,ar2))\n",
    "print(ar1_ar2)"
   ]
  },
  {
   "cell_type": "code",
   "execution_count": 22,
   "id": "f692def0-d37b-4e7a-9356-0def3f913ac4",
   "metadata": {},
   "outputs": [
    {
     "name": "stdout",
     "output_type": "stream",
     "text": [
      "3.5\n"
     ]
    }
   ],
   "source": [
    "# Mathematical operation:\n",
    "# (1) mean():\n",
    "my_arr=np.array([1,2,3,4,5,6])\n",
    "print(np.mean(my_arr))"
   ]
  },
  {
   "cell_type": "code",
   "execution_count": 23,
   "id": "748077c4-666c-4414-8285-db29748b5494",
   "metadata": {},
   "outputs": [
    {
     "name": "stdout",
     "output_type": "stream",
     "text": [
      "3.5\n"
     ]
    }
   ],
   "source": [
    "# (2) median():\n",
    "my_arr=np.array([1,2,3,4,5,6])\n",
    "print(np.median(my_arr))"
   ]
  },
  {
   "cell_type": "code",
   "execution_count": 25,
   "id": "0b3e4604-ec2d-4e53-a9a5-b6c9375125ac",
   "metadata": {},
   "outputs": [
    {
     "name": "stdout",
     "output_type": "stream",
     "text": [
      "21\n"
     ]
    }
   ],
   "source": [
    "# (3) sum():\n",
    "my_arr=np.array([1,2,3,4,5,6])\n",
    "res=np.sum(my_arr)\n",
    "print(res)"
   ]
  },
  {
   "cell_type": "code",
   "execution_count": 26,
   "id": "559896c1-bd26-4b46-ae33-9360d2e9af35",
   "metadata": {},
   "outputs": [
    {
     "name": "stdout",
     "output_type": "stream",
     "text": [
      "720\n"
     ]
    }
   ],
   "source": [
    "# (4) product():\n",
    "my_arr=np.array([1,2,3,4,5,6])\n",
    "res=np.prod(my_arr)\n",
    "print(res)"
   ]
  },
  {
   "cell_type": "code",
   "execution_count": 27,
   "id": "5195b250-2bf5-4689-b958-eff8ce1b134a",
   "metadata": {},
   "outputs": [
    {
     "name": "stdout",
     "output_type": "stream",
     "text": [
      "1.707825127659933\n"
     ]
    }
   ],
   "source": [
    "# (5) std():\n",
    "my_arr=np.array([1,2,3,4,5,6])\n",
    "res=np.std(my_arr)\n",
    "print(res)"
   ]
  },
  {
   "cell_type": "code",
   "execution_count": 29,
   "id": "44d2046f-52f0-42e2-b6a7-456c66e8790a",
   "metadata": {},
   "outputs": [
    {
     "name": "stdout",
     "output_type": "stream",
     "text": [
      "(array([2, 3, 4, 5]),)\n"
     ]
    }
   ],
   "source": [
    "# Indexing and Filtering:\n",
    "# (1) numpy.where():\n",
    "my_arr=np.array([1,2,3,4,5,6])\n",
    "res=np.where(my_arr>2)\n",
    "print(res)"
   ]
  },
  {
   "cell_type": "code",
   "execution_count": 31,
   "id": "43221a9f-0044-4fdd-82c3-2742f705774b",
   "metadata": {},
   "outputs": [
    {
     "name": "stdout",
     "output_type": "stream",
     "text": [
      "7\n"
     ]
    }
   ],
   "source": [
    "# (2) numpy.argmin():\n",
    "my_arr=np.array([100,20,30,40,50,60,23,12,27])\n",
    "res=np.argmin(my_arr)\n",
    "print(res)"
   ]
  },
  {
   "cell_type": "code",
   "execution_count": 33,
   "id": "2d3023b8-6597-495a-a180-60e3c76739f0",
   "metadata": {},
   "outputs": [
    {
     "name": "stdout",
     "output_type": "stream",
     "text": [
      "3\n"
     ]
    }
   ],
   "source": [
    "# (3) numpy.argmax():\n",
    "my_arr=np.array([100,20,30,400,50,60,23,12,27])\n",
    "res=np.argmax(my_arr)\n",
    "print(res)"
   ]
  },
  {
   "cell_type": "code",
   "execution_count": 34,
   "id": "4fe1dd35-1349-4293-91d8-4c31cd625de6",
   "metadata": {},
   "outputs": [
    {
     "name": "stdout",
     "output_type": "stream",
     "text": [
      "30.0\n"
     ]
    }
   ],
   "source": [
    "# Statistical analysis :\n",
    "#(1) numpy.percentile():\n",
    "my_arr=np.array([100,20,30,400,50,60,23,12,27])\n",
    "res=np.percentile(my_arr,50)\n",
    "print(res)"
   ]
  },
  {
   "cell_type": "code",
   "execution_count": 35,
   "id": "805f2238-c834-4a81-b233-a04879beca04",
   "metadata": {},
   "outputs": [
    {
     "name": "stdout",
     "output_type": "stream",
     "text": [
      "[[ 1. -1.]\n",
      " [-1.  1.]]\n"
     ]
    }
   ],
   "source": [
    "# (2) corrcoef():\n",
    "ad_spend=np.array([10,20])\n",
    "sales_spend=np.array([5,3])\n",
    "co_rel=np.corrcoef(ad_spend,sales_spend)\n",
    "print(co_rel)"
   ]
  },
  {
   "cell_type": "code",
   "execution_count": null,
   "id": "1d713d6b-163e-42b9-9ec2-118ffde1c408",
   "metadata": {},
   "outputs": [],
   "source": []
  }
 ],
 "metadata": {
  "kernelspec": {
   "display_name": "Python 3 (ipykernel)",
   "language": "python",
   "name": "python3"
  },
  "language_info": {
   "codemirror_mode": {
    "name": "ipython",
    "version": 3
   },
   "file_extension": ".py",
   "mimetype": "text/x-python",
   "name": "python",
   "nbconvert_exporter": "python",
   "pygments_lexer": "ipython3",
   "version": "3.12.5"
  }
 },
 "nbformat": 4,
 "nbformat_minor": 5
}
