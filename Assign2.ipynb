{
 "cells": [
  {
   "cell_type": "code",
   "execution_count": 2,
   "id": "568c1403-2817-40d8-a287-81ccd4e5789c",
   "metadata": {},
   "outputs": [
    {
     "name": "stdin",
     "output_type": "stream",
     "text": [
      " Enter the cost price of the item:  450\n",
      " Enter the selling price of the item:  250\n"
     ]
    },
    {
     "name": "stdout",
     "output_type": "stream",
     "text": [
      "You made a loss of  200.0 which is 44.44444444444444 %\n"
     ]
    }
   ],
   "source": [
    "# Calculate the profit / Loss percentage.\n",
    "cp=float(input(\" Enter the cost price of the item: \"))\n",
    "sp=float(input(\" Enter the selling price of the item: \"))\n",
    "if sp>cp:\n",
    "    profit= sp-cp\n",
    "    profit_per =(profit/cp)*100\n",
    "    print(\"You made a profit of \",profit,\"which is\",profit_per,\"%\")\n",
    "elif cp>sp:\n",
    "    loss= cp-sp\n",
    "    loss_per =(loss/cp)*100\n",
    "    print(\"You made a loss of \",loss,\"which is\",loss_per,\"%\")\n",
    "else:\n",
    "    print(\"No profit,No loss\")"
   ]
  },
  {
   "cell_type": "code",
   "execution_count": 17,
   "id": "46f8566c-bf62-4dec-b7eb-9db6ae85f985",
   "metadata": {},
   "outputs": [
    {
     "name": "stdin",
     "output_type": "stream",
     "text": [
      "Enter the run scored by player 1 25\n",
      "Enter the run scored by player 2 35\n",
      "Enter the run scored by player 3 45\n",
      "Enter the run scored by player 4 46\n",
      "Enter the run scored by player 5 67\n"
     ]
    },
    {
     "name": "stdout",
     "output_type": "stream",
     "text": [
      "Total runs scored by the team:  218\n",
      "Average runs scored per player:  43.6\n"
     ]
    }
   ],
   "source": [
    "# Cricket stats analyzer\n",
    "total_runs=0\n",
    "for i in range (1,6):\n",
    "    runs=int(input(f\"Enter the run scored by player {i}\"))\n",
    "    total_runs +=runs\n",
    "avg=total_runs/5\n",
    "print(\"Total runs scored by the team: \",total_runs)\n",
    "print(\"Average runs scored per player: \",avg)"
   ]
  },
  {
   "cell_type": "code",
   "execution_count": 6,
   "id": "41f2cbf3-9ecd-4a5a-b824-fa247bf6a17b",
   "metadata": {},
   "outputs": [
    {
     "name": "stdin",
     "output_type": "stream",
     "text": [
      "Enter your age : 0\n"
     ]
    },
    {
     "name": "stdout",
     "output_type": "stream",
     "text": [
      " Years left for retirement :  65\n"
     ]
    }
   ],
   "source": [
    "# Retirement age calculator.\n",
    "age=int(input(\"Enter your age :\"))\n",
    "if (age<65):\n",
    "    rem_age=65-age\n",
    "    print(\" Years left for retirement : \",rem_age)\n",
    "else:\n",
    "    print(\"You have already reached retirement age or surpassed it. \")"
   ]
  },
  {
   "cell_type": "code",
   "execution_count": 7,
   "id": "220825ae-f1db-46d7-a92c-41b068e972a6",
   "metadata": {},
   "outputs": [
    {
     "name": "stdin",
     "output_type": "stream",
     "text": [
      "Enter the radius of circle : 3\n"
     ]
    },
    {
     "name": "stdout",
     "output_type": "stream",
     "text": [
      "Area of the circle is : 28.259999999999998\n"
     ]
    }
   ],
   "source": [
    "# Calculate the area of a circle.\n",
    "rad=float(input(\"Enter the radius of circle :\"))\n",
    "area=(3.14*rad*rad)\n",
    "print(\"Area of the circle is :\", area)"
   ]
  },
  {
   "cell_type": "code",
   "execution_count": 8,
   "id": "858c3392-6827-4d68-bc7e-27008205c996",
   "metadata": {},
   "outputs": [
    {
     "name": "stdout",
     "output_type": "stream",
     "text": [
      "Gross salary is : 55000\n",
      "Net salary is : 47500.0\n",
      "Tax is : 5500.0\n"
     ]
    }
   ],
   "source": [
    "# Salary calculator.\n",
    "base_salary=50000\n",
    "bonus=5000\n",
    "tax_rate=0.1\n",
    "other_charges=2000\n",
    "gross_salary=(base_salary+bonus)\n",
    "tax=gross_salary*tax_rate\n",
    "net_salary=(gross_salary-tax-other_charges)\n",
    "print(\"Gross salary is :\",gross_salary)\n",
    "print(\"Net salary is :\",net_salary)\n",
    "print(\"Tax is :\",tax)"
   ]
  },
  {
   "cell_type": "code",
   "execution_count": 11,
   "id": "5ba24a8f-fcef-47b1-8620-53ecee86125c",
   "metadata": {},
   "outputs": [
    {
     "name": "stdin",
     "output_type": "stream",
     "text": [
      "Enter your age : 34\n",
      "Enter your monthly income : 40000\n",
      "Enter your credit score : 800\n",
      "Enter the outstanding debt : 4900\n"
     ]
    },
    {
     "name": "stdout",
     "output_type": "stream",
     "text": [
      "Loan approved\n"
     ]
    }
   ],
   "source": [
    "# Bank loan approval system.\n",
    "age=int(input(\"Enter your age :\"))\n",
    "mon_income =float(input(\"Enter your monthly income :\"))\n",
    "cre_score=int(input(\"Enter your credit score :\"))\n",
    "outs_debt=int(input(\"Enter the outstanding debt :\"))\n",
    "if (18<=age<=60 and mon_income>=25000 and cre_score>=700 and outs_debt<=10000):\n",
    "    print (\"Loan approved\")\n",
    "else:\n",
    "    print(\" Loan Rejected\")    "
   ]
  },
  {
   "cell_type": "code",
   "execution_count": 15,
   "id": "2d513746-e0b3-4a67-9920-0c4d4606e670",
   "metadata": {},
   "outputs": [
    {
     "name": "stdin",
     "output_type": "stream",
     "text": [
      "Enter your academic score in  % : 67\n",
      "Enter your attendance % : 76\n",
      "Say yes/no if you have participated in any extracurricular activity : no\n"
     ]
    },
    {
     "name": "stdout",
     "output_type": "stream",
     "text": [
      "You are not eligible for interview\n"
     ]
    }
   ],
   "source": [
    "# Student Interview Eligibility Checker.\n",
    "ac_score=float(input(\"Enter your academic score in  % :\"))\n",
    "att_per=float(input(\"Enter your attendance % :\"))\n",
    "e_curr=input(\"Say yes/no if you have participated in any extracurricular activity :\")\n",
    "if (ac_score>=60 and att_per>=75 and e_curr==\"yes\"):\n",
    "    print(\"You are eligible for interview\")\n",
    "else:\n",
    "    print(\"You are not eligible for interview\")"
   ]
  },
  {
   "cell_type": "code",
   "execution_count": 4,
   "id": "a0f320c8-1526-4652-a4fc-92627cc8e8e4",
   "metadata": {},
   "outputs": [
    {
     "name": "stdin",
     "output_type": "stream",
     "text": [
      "Enter your email address : hgf@gmail.com\n"
     ]
    },
    {
     "name": "stdout",
     "output_type": "stream",
     "text": [
      "Eligible for registration\n"
     ]
    }
   ],
   "source": [
    "# Validating email domain.\n",
    "email=input(\"Enter your email address :\")\n",
    "if (\"gmail.com\" in email):\n",
    "    print(\"Eligible for registration\")\n",
    "else:\n",
    "     print(\"Not eligible for registration\")"
   ]
  },
  {
   "cell_type": "code",
   "execution_count": 1,
   "id": "5b100a12-de0a-4110-872a-3fa7fbdeeef1",
   "metadata": {},
   "outputs": [
    {
     "name": "stdin",
     "output_type": "stream",
     "text": [
      "Enter sunsciption status for user 1 (premium/normal/guest) : premium\n",
      "Enter sunsciption status for user 2 (premium/normal/guest) : premium\n"
     ]
    },
    {
     "name": "stdout",
     "output_type": "stream",
     "text": [
      "The users have the different subscription status object.\n"
     ]
    }
   ],
   "source": [
    "# Subscription management system.\n",
    "user1_subs=input(\"Enter sunsciption status for user 1 (premium/normal/guest) :\")\n",
    "user2_subs=input(\"Enter sunsciption status for user 2 (premium/normal/guest) :\")\n",
    "if (user1_subs is user2_subs):\n",
    "    print(\"Both users have the same subscription status object.\")\n",
    "else:\n",
    "    print(\"The users have the different subscription status object.\")"
   ]
  },
  {
   "cell_type": "code",
   "execution_count": 19,
   "id": "f368f4fc-6ee4-4e29-a810-517ddc52ccac",
   "metadata": {},
   "outputs": [
    {
     "name": "stdin",
     "output_type": "stream",
     "text": [
      "Enter your marks : 110\n"
     ]
    },
    {
     "name": "stdout",
     "output_type": "stream",
     "text": [
      "Invalid marks\n"
     ]
    }
   ],
   "source": [
    "# Student grading system.\n",
    "marks=int(input(\"Enter your marks :\")) \n",
    "if (90<=marks<=100): \n",
    "    print(\"Grade A\") \n",
    "elif (80<=marks<90): \n",
    "    print(\"Grade B\") \n",
    "elif (70<=marks<80): \n",
    "    print(\"Grade C\") \n",
    "elif (60<=marks<70): \n",
    "    print(\"Grade D\") \n",
    "elif (50<=marks<60): \n",
    "    print(\"Grade E\") \n",
    "elif (0<=marks<50): \n",
    "    print(\"Grade F\") \n",
    "else: \n",
    "    print(\"Invalid marks\")"
   ]
  },
  {
   "cell_type": "code",
   "execution_count": 22,
   "id": "9ebff3cc-d109-47ee-b8b6-84321bb6eb42",
   "metadata": {},
   "outputs": [
    {
     "name": "stdin",
     "output_type": "stream",
     "text": [
      "Enter the user name : user2\n",
      "Enter the password : pass@123\n"
     ]
    },
    {
     "name": "stdout",
     "output_type": "stream",
     "text": [
      "Authentication failed\n"
     ]
    }
   ],
   "source": [
    "# Authentication system.\n",
    "user_name=input(\"Enter the user name :\")\n",
    "password=input(\"Enter the password :\")\n",
    "user_name1=\"user1\"\n",
    "password1=\"pass@123\"\n",
    "if (user_name in user_name1 and password in password1):\n",
    "    print(\"Authentication successful\")\n",
    "else:\n",
    "    print(\"Authentication failed\")"
   ]
  },
  {
   "cell_type": "code",
   "execution_count": null,
   "id": "71480261-0142-40f1-8326-c35ab5a138a9",
   "metadata": {},
   "outputs": [],
   "source": []
  }
 ],
 "metadata": {
  "kernelspec": {
   "display_name": "Python 3 (ipykernel)",
   "language": "python",
   "name": "python3"
  },
  "language_info": {
   "codemirror_mode": {
    "name": "ipython",
    "version": 3
   },
   "file_extension": ".py",
   "mimetype": "text/x-python",
   "name": "python",
   "nbconvert_exporter": "python",
   "pygments_lexer": "ipython3",
   "version": "3.12.5"
  }
 },
 "nbformat": 4,
 "nbformat_minor": 5
}
