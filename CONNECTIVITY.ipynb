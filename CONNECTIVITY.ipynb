{
 "cells": [
  {
   "cell_type": "code",
   "execution_count": 20,
   "id": "7891dcc5-a1ac-43b0-bda9-72d5492c9810",
   "metadata": {},
   "outputs": [
    {
     "name": "stdout",
     "output_type": "stream",
     "text": [
      "OK\n"
     ]
    }
   ],
   "source": [
    "import mysql.connector as my_con\n",
    "print(\"OK\")"
   ]
  },
  {
   "cell_type": "code",
   "execution_count": null,
   "id": "56b95475-a805-42dd-9f1f-dc5ebb46c45c",
   "metadata": {},
   "outputs": [],
   "source": [
    "# Connectivity : connectivity is a technique by using we can easily connect our application (eg: python) to the database."
   ]
  },
  {
   "cell_type": "code",
   "execution_count": 21,
   "id": "d8efbdac-fc72-4834-9817-28cef69d220a",
   "metadata": {},
   "outputs": [
    {
     "name": "stdout",
     "output_type": "stream",
     "text": [
      "<mysql.connector.connection_cext.CMySQLConnection object at 0x0000018EE90AF380>\n"
     ]
    }
   ],
   "source": [
    "# Connecting to the database :\n",
    "import mysql.connector as my_con\n",
    "my_db=my_con.connect(host=\"localhost\",user=\"root\",password=\"root\")\n",
    "# Whole mysql is getting stored in my_db variable.\n",
    "print(my_db)"
   ]
  },
  {
   "cell_type": "code",
   "execution_count": 22,
   "id": "9154b44b-5157-4c58-abc9-a8e2fcb7d5b5",
   "metadata": {},
   "outputs": [
    {
     "name": "stdout",
     "output_type": "stream",
     "text": [
      "('assign_2',)\n",
      "('assign_3',)\n",
      "('connectivity',)\n",
      "('functions',)\n",
      "('information_schema',)\n",
      "('music_database',)\n",
      "('mysql',)\n",
      "('performance_schema',)\n",
      "('pizza',)\n",
      "('practice',)\n",
      "('python',)\n",
      "('student_management',)\n",
      "('superstore_database',)\n",
      "('sys',)\n"
     ]
    }
   ],
   "source": [
    "cur=my_db.cursor()   # To import cursor from mysql.\n",
    "cur.execute('SHOW DATABASES')  # To show all the databases present in mysql.\n",
    "for d in cur.fetchall():\n",
    "    print(d)            # To print all the databases."
   ]
  },
  {
   "cell_type": "code",
   "execution_count": 23,
   "id": "a0cb81a0-616c-496c-a190-9e63c46e67ff",
   "metadata": {},
   "outputs": [
    {
     "name": "stdout",
     "output_type": "stream",
     "text": [
      "Databases : [('assign_2',), ('assign_3',), ('connectivity',), ('functions',), ('information_schema',), ('music_database',), ('mysql',), ('performance_schema',), ('pizza',), ('practice',), ('python',), ('student_management',), ('superstore_database',), ('sys',)]\n"
     ]
    }
   ],
   "source": [
    "cur=my_db.cursor()   # To import cursor from mysql.\n",
    "cur.execute('SHOW DATABASES')\n",
    "res=cur.fetchall()\n",
    "print(\"Databases :\",res)"
   ]
  },
  {
   "cell_type": "code",
   "execution_count": 8,
   "id": "04b77356-3eab-45a1-87a2-40f651bf3177",
   "metadata": {},
   "outputs": [
    {
     "name": "stdout",
     "output_type": "stream",
     "text": [
      "Error : 1007 (HY000): Can't create database 'python'; database exists\n"
     ]
    }
   ],
   "source": [
    "# Creating a database :\n",
    "import mysql.connector as my_con\n",
    "try:\n",
    "    my_db=my_con.connect(host=\"localhost\",user=\"root\",password=\"root\")\n",
    "    cur=my_db.cursor()\n",
    "    cur.execute('CREATE DATABASE PYTHON')  # Creating database python in mysql.\n",
    "    print(\"Database created\")\n",
    "except Exception as e:\n",
    "    print(\"Error :\",e)\n",
    "finally:\n",
    "    my_db.close()"
   ]
  },
  {
   "cell_type": "code",
   "execution_count": 9,
   "id": "3d15967a-b966-4c95-b845-b53e66c60107",
   "metadata": {},
   "outputs": [
    {
     "name": "stdout",
     "output_type": "stream",
     "text": [
      "('assign_2',)\n",
      "('assign_3',)\n",
      "('functions',)\n",
      "('information_schema',)\n",
      "('music_database',)\n",
      "('mysql',)\n",
      "('performance_schema',)\n",
      "('pizza',)\n",
      "('practice',)\n",
      "('python',)\n",
      "('student_management',)\n",
      "('superstore_database',)\n",
      "('sys',)\n"
     ]
    }
   ],
   "source": [
    "import mysql.connector as my_con\n",
    "my_db=my_con.connect(host=\"localhost\",user=\"root\",password=\"root\")\n",
    "cur=my_db.cursor()   # To import cursor from mysql.\n",
    "cur.execute('SHOW DATABASES')  # To show all the databases present in mysql.\n",
    "for d in cur.fetchall():\n",
    "    print(d) "
   ]
  },
  {
   "cell_type": "code",
   "execution_count": 26,
   "id": "66186803-8030-4c20-8fe7-dfbb53d0945b",
   "metadata": {},
   "outputs": [
    {
     "name": "stdout",
     "output_type": "stream",
     "text": [
      "\n",
      "Press 0 to close the programme :\n",
      "Press 1 to show databases :\n"
     ]
    },
    {
     "name": "stdin",
     "output_type": "stream",
     "text": [
      "Enter your choice : 1\n"
     ]
    },
    {
     "name": "stdout",
     "output_type": "stream",
     "text": [
      "Databases : [('assign_2',), ('assign_3',), ('functions',), ('information_schema',), ('music_database',), ('mysql',), ('performance_schema',), ('pizza',), ('practice',), ('python',), ('student_management',), ('superstore_database',), ('sys',)]\n",
      "\n",
      "Press 0 to close the programme :\n",
      "Press 1 to show databases :\n"
     ]
    },
    {
     "name": "stdin",
     "output_type": "stream",
     "text": [
      "Enter your choice : 0\n"
     ]
    },
    {
     "name": "stdout",
     "output_type": "stream",
     "text": [
      "Programme closed\n"
     ]
    }
   ],
   "source": [
    "def connect():\n",
    "    import mysql.connector as my_con\n",
    "    my_db=my_con.connect(host=\"localhost\",user=\"root\",password=\"root\")\n",
    "    return my_db\n",
    "def show_database():\n",
    "    try:\n",
    "        con=connect()\n",
    "        cur=con.cursor()\n",
    "        query=\"SHOW DATABASES\"\n",
    "        cur.execute(query)\n",
    "        res=cur.fetchall()\n",
    "        print(\"Databases :\",res)\n",
    "    except Exception as e:\n",
    "        print(\"Error :\",e)\n",
    "    finally:\n",
    "        con.close()\n",
    "                \n",
    "while True:\n",
    "    print()\n",
    "    print(\"Press 0 to close the programme :\")\n",
    "    print(\"Press 1 to show databases :\")\n",
    "    choice=int(input(\"Enter your choice :\"))\n",
    "    if(choice==1):\n",
    "               show_database()\n",
    "    elif(choice==0):\n",
    "               print(\"Programme closed\")\n",
    "               break"
   ]
  },
  {
   "cell_type": "code",
   "execution_count": 4,
   "id": "ec86d321-bdce-4745-99e5-a9cbef1fc7c3",
   "metadata": {},
   "outputs": [],
   "source": [
    "import random as rd\n",
    "import string as st\n",
    "from faker import Faker\n",
    "\n",
    "# Create a Faker instance\n",
    "f = Faker()"
   ]
  },
  {
   "cell_type": "code",
   "execution_count": 26,
   "id": "04d6cbee-d239-4e52-bc5a-517b6d06fdae",
   "metadata": {},
   "outputs": [
    {
     "name": "stdout",
     "output_type": "stream",
     "text": [
      "\n",
      "Press 0 to close the programme :\n",
      "Press 1 to show databases :\n",
      "Press 2 to create a database :\n",
      "Press 3 to create a TABLE :\n",
      "Press 4 to insert a data :\n",
      "Press 5 to show data :\n",
      "Press 6 to delete data :\n",
      "Press 7 to update data :\n"
     ]
    },
    {
     "name": "stdin",
     "output_type": "stream",
     "text": [
      "Enter your choice : 5\n"
     ]
    },
    {
     "name": "stdout",
     "output_type": "stream",
     "text": [
      "DETAILS OF STUDENTS :\n",
      "(25, 'IQ-R7Z', 'Yahvi Bala', 'MATHS', 5761586236, 89)\n",
      "(26, 'IQ-YMD', 'Zarna Cherian', 'PHYSICS', 6282362233, 100)\n",
      "(78, 'IQ-2FG', 'Yash Bose', 'PHYSICS', 1458586542, 68)\n",
      "(97, 'IQ-6YT', 'Samaksh Kaur', 'COMPUTER', 7069292360, 89)\n",
      "(163, 'IQ-XJ3', 'Nihal Mohanty', 'CHEMISTRY', 2491234542, 81)\n",
      "(252, 'IQ-NEZ', 'Azaan Saha', 'COMPUTER', 8764218872, 49)\n",
      "(256, 'IQ-2ME', 'Gaurika Vasa', 'PHYSICS', 6180044625, 65)\n",
      "(322, 'IQ-F3Q', 'Turvi Rajagopal', 'HINDI', 5357872038, 48)\n",
      "(399, 'IQ-IY5', 'Dalaja Shah', 'PHYSICS', 6794458905, 66)\n",
      "(539, 'IQ-6RB', 'Kala Chanda', 'HINDI', 970653019, 80)\n",
      "(563, 'IQ-JW3', 'Ranveer Mistry', 'HINDI', 2474067484, 51)\n",
      "(741, 'IQ-ZQ2', 'Anthony Kashyap', 'MATHS', 1971394671, 88)\n",
      "(753, 'IQ-3VH', 'Zayyan Chad', 'PHYSICS', 2575197837, 48)\n",
      "(805, 'IQ-U4V', 'Qadim Pathak', 'MATHS', 1593320237, 58)\n",
      "(811, 'IQ-Z4Y', 'Jacob Mani', 'COMPUTER', 8091990218, 74)\n",
      "(815, 'IQ-P0X', 'Neha Jayaraman', 'HINDI', 2628525832, 75)\n",
      "(881, 'IQ-LI0', 'Zaid Banik', 'CHEMISTRY', 1031650869, 64)\n",
      "(894, 'IQ-FL9', 'Hemang Bhalla', 'CHEMISTRY', 630418903, 93)\n",
      "(935, 'IQ-G31', 'Bachittar Wadhwa', 'COMPUTER', 3281036061, 36)\n",
      "(952, 'IQ-UFG', 'Yagnesh Som', 'CHEMISTRY', 154371248, 54)\n",
      "(957, 'IQ-6K9', 'Darpan Muni', 'MATHS', 8413362868, 63)\n",
      "(965, 'IQ-LGV', 'Vasatika Shroff', 'COMPUTER', 9638930710, 90)\n",
      "\n",
      "Press 0 to close the programme :\n",
      "Press 1 to show databases :\n",
      "Press 2 to create a database :\n",
      "Press 3 to create a TABLE :\n",
      "Press 4 to insert a data :\n",
      "Press 5 to show data :\n",
      "Press 6 to delete data :\n",
      "Press 7 to update data :\n"
     ]
    },
    {
     "name": "stdin",
     "output_type": "stream",
     "text": [
      "Enter your choice : 0\n"
     ]
    },
    {
     "name": "stdout",
     "output_type": "stream",
     "text": [
      "Programme closed\n"
     ]
    }
   ],
   "source": [
    "def connect():\n",
    "    import mysql.connector as my_con\n",
    "    my_db=my_con.connect(host=\"localhost\",user=\"root\",password=\"root\",database='CONNECTIVITY')  # establishes a connection to the database\n",
    "    return my_db\n",
    "def show_database():\n",
    "    try:\n",
    "        con=connect()\n",
    "        cur=con.cursor()  # Creates a cursor object, which is used to execute SQL commands in the database.\n",
    "        query=\"SHOW DATABASES\"\n",
    "        cur.execute(query)  # Executes the SQL query defined in the query variable.\n",
    "        res=cur.fetchall()  # Explained below.\n",
    "        print(\"Databases :\")\n",
    "        for i in res:\n",
    "            print(i)\n",
    "    except Exception as e:\n",
    "        print(\"Error :\",e)\n",
    "    finally:\n",
    "        con.close()  # Closes the connection to the database to free up resources.\n",
    "\n",
    "def create_database(db_name):\n",
    "    try:\n",
    "        con=connect()\n",
    "        cur=con.cursor()\n",
    "        query=f\"CREATE DATABASE IF NOT EXISTS {db_name}\"\n",
    "        cur.execute(query)\n",
    "        print(\"Databases CREATED\")\n",
    "    except Exception as e:\n",
    "        print(\"Error :\",e)\n",
    "    finally:\n",
    "        con.commit()   # Saves any changes made to the database during the session\n",
    "        con.close() \n",
    "def create_table(tb_name):\n",
    "    try:\n",
    "        con=connect()\n",
    "        cur=con.cursor()\n",
    "        cur.execute(f\"USE CONNECTIVITY\")\n",
    "        query=f\"\"\"CREATE TABLE IF NOT EXISTS {tb_name} (\n",
    "        STU_ROLL INT AUTO_INCREMENT PRIMARY KEY,\n",
    "        STU_REG_NUM CHAR(50),\n",
    "        STU_NAME VARCHAR(50),\n",
    "        STU_SUBJECT CHAR(50),\n",
    "        STU_MOB BIGINT,\n",
    "        STU_MARKS INT\n",
    "        )\"\"\"\n",
    "        cur.execute(query)\n",
    "        print(\"TABLE CREATED\")\n",
    "    except Exception as e:\n",
    "        print(\"Error :\",e)\n",
    "    finally:\n",
    "        con.commit()\n",
    "        con.close()         \n",
    "def insert_data():\n",
    "    try:\n",
    "        import random as rd\n",
    "        import string as st\n",
    "        from faker import Faker\n",
    "        f = Faker()\n",
    "        f=Faker('en_IN')\n",
    "        con=connect()\n",
    "        cur=con.cursor()\n",
    "        cur.execute(f\"USE CONNECTIVITY\")\n",
    "        stu_roll=int(rd.random()*1000)\n",
    "        stu_reg_num='IQ-'+\"\".join(rd.choices(st.digits+st.ascii_uppercase,k=3))\n",
    "        stu_name=f.first_name()+\" \"+f.last_name()\n",
    "        stu_subject=rd.choice(['MATHS','COMPUTER','PHYSICS','CHEMISTRY','HINDI'])\n",
    "        stu_mob=\"\".join(rd.choices(st.digits,k=10))\n",
    "        stu_marks=rd.randint(33,100)\n",
    "        query=f\"\"\"\n",
    "        INSERT INTO STUDENTS(STU_ROLL,STU_REG_NUM,STU_NAME,STU_SUBJECT,STU_MOB,STU_MARKS)\n",
    "        VALUES(%s,%s,%s,%s,%s,%s);\n",
    "        \"\"\"\n",
    "        cur.execute(query,(stu_roll,stu_reg_num,stu_name,stu_subject,stu_mob,stu_marks))\n",
    "        print(\"Data Inserted\")\n",
    "        con.commit()\n",
    "    except Exception as e:\n",
    "        print(\"Error :\",e)\n",
    "    finally:\n",
    "        con.close()\n",
    "def show_data():\n",
    "    try:\n",
    "        con=connect()\n",
    "        cur=con.cursor()\n",
    "        query=f\"SELECT * FROM STUDENTS\"\n",
    "        cur.execute(query)\n",
    "        print(\"DETAILS OF STUDENTS :\")\n",
    "        for i in cur.fetchall():  # Use fetchall() only with queries that return rows (e.g., SELECT queries).\n",
    "                                  #  For queries like DELETE, INSERT, or UPDATE, which do not return data, calling fetchall() will raise an error.\n",
    "            print(i)\n",
    "    except Exception as e:\n",
    "        print(\"Error :\",e)\n",
    "    finally:\n",
    "        con.commit()\n",
    "        con.close() \n",
    "def delete_data():\n",
    "    try:\n",
    "        stu_roll=int(input(\"Enter the roll number :\"))\n",
    "        con=connect()\n",
    "        cur=con.cursor()\n",
    "        query=f\"DELETE FROM STUDENTS WHERE STU_ROLL={stu_roll}\"\n",
    "        cur.execute(query)\n",
    "        print(\"STUDENT DELETED :\")\n",
    "        \n",
    "    except Exception as e:\n",
    "        print(\"Error :\",e)\n",
    "    finally:\n",
    "        con.commit()\n",
    "        con.close()         \n",
    "def update_data():\n",
    "    try:\n",
    "        stu_roll=int(input(\"Enter the roll number :\"))\n",
    "        stu_marks=int(input(\"Enter the marks to be added :\"))\n",
    "        con=connect()\n",
    "        cur=con.cursor()\n",
    "        query=f\"UPDATE STUDENTS SET STU_MARKS=STU_MARKS+{stu_marks} WHERE STU_ROLL={stu_roll}\"\n",
    "        cur.execute(query)\n",
    "        print(\"STUDENT DATA UPDATED :\")\n",
    "        \n",
    "    except Exception as e:\n",
    "        print(\"Error :\",e)\n",
    "    finally:\n",
    "        con.commit()\n",
    "        con.close()     \n",
    "while True:\n",
    "    print()\n",
    "    print(\"Press 0 to close the programme :\")\n",
    "    print(\"Press 1 to show databases :\")\n",
    "    print(\"Press 2 to create a database :\")\n",
    "    print(\"Press 3 to create a TABLE :\")\n",
    "    print(\"Press 4 to insert a data :\")\n",
    "    print(\"Press 5 to show data :\")\n",
    "    print(\"Press 6 to delete data :\")\n",
    "    print(\"Press 7 to update data :\")\n",
    "    choice=int(input(\"Enter your choice :\"))\n",
    "    if(choice==1):\n",
    "               show_database()\n",
    "    elif(choice==0):\n",
    "               print(\"Programme closed\")\n",
    "               break\n",
    "    elif(choice==2):\n",
    "               db_name=input(\"Enter your database name :\")\n",
    "               create_database(db_name)\n",
    "    elif(choice==3):\n",
    "               tb_name=input(\"Enter your table name :\")\n",
    "               create_table(tb_name)\n",
    "    elif(choice==4):\n",
    "               insert_data()\n",
    "    elif(choice==5):\n",
    "               show_data()  \n",
    "    elif(choice==6):\n",
    "               delete_data()\n",
    "    elif(choice==7):\n",
    "               update_data()    "
   ]
  },
  {
   "cell_type": "code",
   "execution_count": null,
   "id": "e565f812-204c-4c9d-8138-8030f4804965",
   "metadata": {},
   "outputs": [],
   "source": []
  }
 ],
 "metadata": {
  "kernelspec": {
   "display_name": "Python 3 (ipykernel)",
   "language": "python",
   "name": "python3"
  },
  "language_info": {
   "codemirror_mode": {
    "name": "ipython",
    "version": 3
   },
   "file_extension": ".py",
   "mimetype": "text/x-python",
   "name": "python",
   "nbconvert_exporter": "python",
   "pygments_lexer": "ipython3",
   "version": "3.12.5"
  }
 },
 "nbformat": 4,
 "nbformat_minor": 5
}
