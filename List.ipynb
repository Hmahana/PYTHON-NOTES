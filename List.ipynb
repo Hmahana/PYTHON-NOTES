{
 "cells": [
  {
   "cell_type": "code",
   "execution_count": null,
   "id": "d81b8432-9424-4490-a2f6-2b7ce0891fde",
   "metadata": {},
   "outputs": [],
   "source": [
    "# List Comprehension : \n",
    "# List comprehension in Python is a concise and elegant way to create lists. \n",
    "# It allows you to generate a new list by applying an expression to each item in an existing iterable (like a list, tuple, or range) and \n",
    "# optionally filtering the items with a condition."
   ]
  },
  {
   "cell_type": "code",
   "execution_count": null,
   "id": "8ecf6d6f-7549-41cc-8ded-9dba50d7b96e",
   "metadata": {},
   "outputs": [],
   "source": [
    "# The general syntax for a list comprehension is:\n",
    "# [expression for item in iterable if condition]\n",
    "# Components:\n",
    "# Expression: The operation or value to include in the new list.\n",
    "# for loop: Iterates over each item in the iterable.\n",
    "# Condition (optional): A filtering clause that only includes items for which the condition evaluates to True."
   ]
  },
  {
   "cell_type": "code",
   "execution_count": null,
   "id": "6f888348-9bc1-4169-859e-0148e23005aa",
   "metadata": {},
   "outputs": [],
   "source": [
    "# Key Benefits:\n",
    "# Conciseness: Reduces the need for multiple lines of code.\n",
    "# Readability: Provides a clear, declarative syntax.\n",
    "# Performance: Often faster than equivalent for loops due to underlying optimizations."
   ]
  },
  {
   "cell_type": "code",
   "execution_count": 1,
   "id": "b5b9569c-d1dc-42ed-9e8c-3172f1e6cb71",
   "metadata": {},
   "outputs": [
    {
     "name": "stdout",
     "output_type": "stream",
     "text": [
      "[1, 4, 9, 16, 25]\n"
     ]
    }
   ],
   "source": [
    "# Examples\n",
    "# 1. Basic list comprehension\n",
    "# Generate a list of squares of numbers from 1 to 5:\n",
    "squares = [x**2 for x in range(1, 6)]\n",
    "print(squares) "
   ]
  },
  {
   "cell_type": "code",
   "execution_count": 2,
   "id": "35e3ce29-9e77-4db1-b5c7-e91d59e63688",
   "metadata": {},
   "outputs": [
    {
     "name": "stdout",
     "output_type": "stream",
     "text": [
      "[2, 4, 6, 8, 10]\n"
     ]
    }
   ],
   "source": [
    "# 2. List comprehension with a condition\n",
    "# Generate a list of even numbers from 1 to 10:\n",
    "evens = [x for x in range(1, 11) if x % 2 == 0]\n",
    "print(evens) "
   ]
  },
  {
   "cell_type": "code",
   "execution_count": 3,
   "id": "eed6333d-2173-4764-a8b6-0559ca582716",
   "metadata": {},
   "outputs": [
    {
     "name": "stdout",
     "output_type": "stream",
     "text": [
      "[(1, 4), (1, 5), (1, 6), (2, 4), (2, 5), (2, 6), (3, 4), (3, 5), (3, 6)]\n"
     ]
    }
   ],
   "source": [
    "# 3. Nested list comprehension\n",
    "# Create a list of tuples for all combinations of (x, y) where x is from 1 to 3 and y is from 4 to 6:\n",
    "combinations = [(x, y) for x in range(1, 4) for y in range(4, 7)]\n",
    "print(combinations)"
   ]
  },
  {
   "cell_type": "code",
   "execution_count": 4,
   "id": "b4170757-e913-4879-b44b-51d5dbce0b22",
   "metadata": {},
   "outputs": [
    {
     "name": "stdout",
     "output_type": "stream",
     "text": [
      "['HELLO', 'WORLD']\n"
     ]
    }
   ],
   "source": [
    "# 4. Applying a function in list comprehension\n",
    "# Convert a list of strings to uppercase:\n",
    "words = [\"hello\", \"world\"]\n",
    "uppercase_words = [word.upper() for word in words]\n",
    "print(uppercase_words)"
   ]
  },
  {
   "cell_type": "code",
   "execution_count": 5,
   "id": "3644496f-c4de-40b8-ae0c-5e3f2f1bf8b0",
   "metadata": {},
   "outputs": [
    {
     "name": "stdout",
     "output_type": "stream",
     "text": [
      "[1, 9, 25, 49, 81]\n"
     ]
    }
   ],
   "source": [
    "# 5. Filtering and transforming simultaneously\n",
    "# Create a list of squares of odd numbers from 1 to 10:\n",
    "odd_squares = [x**2 for x in range(1, 11) if x % 2 != 0]\n",
    "print(odd_squares)"
   ]
  },
  {
   "cell_type": "code",
   "execution_count": null,
   "id": "c39d4e59-6d55-46c6-ba69-773310e1ce24",
   "metadata": {},
   "outputs": [],
   "source": [
    "# In Python, you can use if-else conditions directly in a list comprehension.\n",
    "# The syntax for including an if-else statement is as follows:\n",
    "# [expression_if_true if condition else expression_if_false for item in iterable]"
   ]
  },
  {
   "cell_type": "code",
   "execution_count": 6,
   "id": "42fdb389-2f29-4d47-a4f1-8fdc98facca9",
   "metadata": {},
   "outputs": [
    {
     "name": "stdout",
     "output_type": "stream",
     "text": [
      "['Odd', 'Even', 'Odd', 'Even', 'Odd']\n"
     ]
    }
   ],
   "source": [
    "# Example : Categorize numbers as \"Even\" or \"Odd\"\n",
    "numbers = [1, 2, 3, 4, 5]\n",
    "result = [\"Even\" if x % 2 == 0 else \"Odd\" for x in numbers]\n",
    "print(result)"
   ]
  },
  {
   "cell_type": "code",
   "execution_count": null,
   "id": "fe7c5a54-f015-4dc7-8a8d-f02cc8dfc324",
   "metadata": {},
   "outputs": [],
   "source": [
    "# Key Notes:\n",
    "# The if-else part must come before the for loop in the list comprehension.\n",
    "# If you want to filter elements with just an if condition (no else), the syntax changes slightly and looks like this:\n",
    "# [expression for item in iterable if condition]"
   ]
  },
  {
   "cell_type": "code",
   "execution_count": null,
   "id": "b0c8ae04-bb4b-4e9f-bbd6-400c97a53f25",
   "metadata": {},
   "outputs": [],
   "source": [
    "# In Python, you can use multiple if-else conditions in list comprehensions by nesting them. \n",
    "# This allows you to create lists where each element is determined by more than one condition.\n",
    "\n",
    "# The general syntax for multiple if-else in a list comprehension is:\n",
    "# [expression1 if condition1 else expression2 if condition2 else expression3 for item in iterable]"
   ]
  },
  {
   "cell_type": "code",
   "execution_count": 7,
   "id": "ed1f23f1-b0f5-49f3-b693-0e053e5ec379",
   "metadata": {},
   "outputs": [
    {
     "name": "stdout",
     "output_type": "stream",
     "text": [
      "['A', 'B', 'C', 'A', 'C']\n"
     ]
    }
   ],
   "source": [
    "# Example : Assign grades based on scores\n",
    "# Suppose you have a list of scores and want to assign grades:\n",
    "scores = [85, 70, 50, 90, 40]\n",
    "grades = [\"A\" if score >= 80 else \"B\" if score >= 60 else \"C\" if score >= 40 else \"F\" for score in scores]\n",
    "print(grades)"
   ]
  },
  {
   "cell_type": "code",
   "execution_count": 8,
   "id": "cdb71bc7-7fe6-4678-97ac-cb25584591b1",
   "metadata": {},
   "outputs": [
    {
     "name": "stdout",
     "output_type": "stream",
     "text": [
      "['Zero', 'Odd', 'Even', 'Odd', 'Even']\n"
     ]
    }
   ],
   "source": [
    "# Example 3: Classify numbers as \"Even\", \"Odd\", or \"Zero\"\n",
    "numbers = [0, 1, 2, 3, 4]\n",
    "result = [\"Zero\" if x == 0 else \"Even\" if x % 2 == 0 else \"Odd\" for x in numbers]\n",
    "print(result)"
   ]
  },
  {
   "cell_type": "code",
   "execution_count": 4,
   "id": "06b47c6e-7d36-4c9a-b100-c5182983622e",
   "metadata": {},
   "outputs": [
    {
     "name": "stdout",
     "output_type": "stream",
     "text": [
      "[1, 2, 3]\n",
      "[1, 2, 3]\n",
      "[1, 2, 3]\n",
      "[1, 2, 3]\n"
     ]
    }
   ],
   "source": [
    "num=[[i for i in range(1,4)] for j in range(1,5)]\n",
    "for i in num :\n",
    "    print(i)"
   ]
  },
  {
   "cell_type": "code",
   "execution_count": null,
   "id": "072b7ef7-a183-41a8-b3ab-7475f2d72366",
   "metadata": {},
   "outputs": [],
   "source": []
  }
 ],
 "metadata": {
  "kernelspec": {
   "display_name": "Python 3 (ipykernel)",
   "language": "python",
   "name": "python3"
  },
  "language_info": {
   "codemirror_mode": {
    "name": "ipython",
    "version": 3
   },
   "file_extension": ".py",
   "mimetype": "text/x-python",
   "name": "python",
   "nbconvert_exporter": "python",
   "pygments_lexer": "ipython3",
   "version": "3.12.5"
  }
 },
 "nbformat": 4,
 "nbformat_minor": 5
}
