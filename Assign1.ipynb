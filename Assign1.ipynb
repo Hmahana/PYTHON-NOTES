{
 "cells": [
  {
   "cell_type": "code",
   "execution_count": 18,
   "id": "d85a0638-c51e-4973-a030-d72f452ef841",
   "metadata": {},
   "outputs": [
    {
     "name": "stdout",
     "output_type": "stream",
     "text": [
      " Before Swapping x= 35 y= 45\n",
      " After Swapping x= 45 y= 35\n"
     ]
    }
   ],
   "source": [
    "# Swapping numbers\n",
    "x=35\n",
    "y=45\n",
    "print ( \" Before Swapping x=\", x,\"y=\",y)\n",
    "temp= x\n",
    "x=y\n",
    "y=temp\n",
    "print ( \" After Swapping x=\", x, \"y=\",y)"
   ]
  },
  {
   "cell_type": "code",
   "execution_count": 4,
   "id": "d463a7aa-d7c8-4715-8479-98d6a2010c73",
   "metadata": {},
   "outputs": [
    {
     "name": "stdout",
     "output_type": "stream",
     "text": [
      "20 30\n",
      "30 20\n"
     ]
    }
   ],
   "source": [
    "# swapping numbers\n",
    "n1,n2=20,30\n",
    "print(n1,n2)\n",
    "n2,n1=n1,n2\n",
    "print (n1,n2)"
   ]
  },
  {
   "cell_type": "code",
   "execution_count": 5,
   "id": "d9d5ae5f-f74b-4949-b41b-74fca0b25d0e",
   "metadata": {},
   "outputs": [
    {
     "name": "stdout",
     "output_type": "stream",
     "text": [
      "hello 200\n"
     ]
    }
   ],
   "source": [
    "#swapping integer with string\n",
    "n1,char=200,\"hello\"\n",
    "n1,char=char,n1\n",
    "print(n1, char)"
   ]
  },
  {
   "cell_type": "code",
   "execution_count": 7,
   "id": "aeedc5ff-fe11-47fd-82e9-ab4257386b9d",
   "metadata": {},
   "outputs": [
    {
     "name": "stdout",
     "output_type": "stream",
     "text": [
      "Before deposit : current balance =  10000\n",
      "After deposit : current balance =  15000\n"
     ]
    }
   ],
   "source": [
    "# To update the balance of a customer\n",
    "curr_balance =10000\n",
    "deposit_balance =5000\n",
    "print(\"Before deposit : current balance = \",curr_balance)\n",
    "curr_balance = curr_balance + deposit_balance\n",
    "print(\"After deposit : current balance = \",curr_balance)"
   ]
  },
  {
   "cell_type": "code",
   "execution_count": 8,
   "id": "a6edc8cd-6491-4aae-b586-1479f61740a0",
   "metadata": {},
   "outputs": [
    {
     "name": "stdout",
     "output_type": "stream",
     "text": [
      "your percentage = 86.0 %\n"
     ]
    }
   ],
   "source": [
    "# To find out the percentage\n",
    "obtain_marks = 430\n",
    "total_marks = 500\n",
    "n=obtain_marks/total_marks\n",
    "perc= n*100\n",
    "print(\"your percentage =\", perc, \"%\")"
   ]
  },
  {
   "cell_type": "code",
   "execution_count": 10,
   "id": "275fb0c5-cb99-448c-a03d-bf19a7085cf0",
   "metadata": {},
   "outputs": [
    {
     "name": "stdin",
     "output_type": "stream",
     "text": [
      "enter the cp : 2000\n",
      "enter the sp : 3000\n"
     ]
    },
    {
     "name": "stdout",
     "output_type": "stream",
     "text": [
      "profit % = 50.0 %\n"
     ]
    }
   ],
   "source": [
    "# To find out profit %.\n",
    "cp=int(input(\"enter the cp :\"))\n",
    "sp=int(input(\"enter the sp :\"))\n",
    "p=sp-cp\n",
    "per=(p/cp)*100\n",
    "print(\"profit % =\", per, \"%\")"
   ]
  },
  {
   "cell_type": "code",
   "execution_count": 11,
   "id": "a357b83d-bb7e-41d3-8d5c-4396a4a95c82",
   "metadata": {},
   "outputs": [
    {
     "name": "stdin",
     "output_type": "stream",
     "text": [
      "enter the cp : 30000\n",
      "enter the sp : 20000\n"
     ]
    },
    {
     "name": "stdout",
     "output_type": "stream",
     "text": [
      "Loss % = 33.33333333333333 %\n"
     ]
    }
   ],
   "source": [
    "# To find out loss %.\n",
    "cp=int(input(\"enter the cp :\"))\n",
    "sp=int(input(\"enter the sp :\"))\n",
    "l=cp-sp\n",
    "per=(l/cp)*100\n",
    "print(\"Loss % =\", per, \"%\")"
   ]
  },
  {
   "cell_type": "code",
   "execution_count": 13,
   "id": "03d8c1a7-47ab-4596-a39f-6c5bb133c2f2",
   "metadata": {},
   "outputs": [
    {
     "name": "stdout",
     "output_type": "stream",
     "text": [
      "<class 'int'>\n",
      "<class 'float'>\n"
     ]
    }
   ],
   "source": [
    "# convert an integer to float\n",
    "integer_value = 20\n",
    "print(type(integer_value))\n",
    "float_value = float(integer_value)\n",
    "print(type(float_value))"
   ]
  },
  {
   "cell_type": "code",
   "execution_count": 14,
   "id": "ad884a0c-bfad-41dd-9fe6-17eed81451b5",
   "metadata": {},
   "outputs": [
    {
     "name": "stdout",
     "output_type": "stream",
     "text": [
      "<class 'int'>\n",
      "<class 'str'>\n"
     ]
    }
   ],
   "source": [
    "# convert an integer to a string\n",
    "integer_value = 25\n",
    "print(type(integer_value))\n",
    "string_value = str(integer_value)\n",
    "print(type(string_value))"
   ]
  },
  {
   "cell_type": "code",
   "execution_count": 15,
   "id": "deb3099c-1767-476f-93d9-c412f33b1834",
   "metadata": {},
   "outputs": [
    {
     "name": "stdin",
     "output_type": "stream",
     "text": [
      "enter the radius :  23\n"
     ]
    },
    {
     "name": "stdout",
     "output_type": "stream",
     "text": [
      "Area of the circle : 1661.0600000000002\n"
     ]
    }
   ],
   "source": [
    "# calculate the area of circle\n",
    "rad=int(input(\"enter the radius : \"))\n",
    "area = 3.14*(rad**2)\n",
    "print(\"Area of the circle :\",area)"
   ]
  },
  {
   "cell_type": "code",
   "execution_count": 17,
   "id": "7ebefae8-3483-4dfb-866e-39c6620cc0da",
   "metadata": {},
   "outputs": [
    {
     "name": "stdin",
     "output_type": "stream",
     "text": [
      "enter the length : 20\n",
      "enter the breadth : 10\n"
     ]
    },
    {
     "name": "stdout",
     "output_type": "stream",
     "text": [
      "Perimeter of reactangle :  60\n"
     ]
    }
   ],
   "source": [
    "# calculate the perimeter of a rectangle\n",
    "l=int(input(\"enter the length :\"))\n",
    "b=int(input(\"enter the breadth :\"))\n",
    "peri=2*(l+b)\n",
    "print(\"Perimeter of reactangle : \", peri)"
   ]
  },
  {
   "cell_type": "code",
   "execution_count": 20,
   "id": "63464dfa-a5ab-4f9d-b744-3ceee3a1e18a",
   "metadata": {},
   "outputs": [
    {
     "name": "stdout",
     "output_type": "stream",
     "text": [
      " Average marks =  35.0\n"
     ]
    }
   ],
   "source": [
    "# WAP to find the average of 3 numbers\n",
    "a=25\n",
    "b=35\n",
    "c=45\n",
    "Avg = (a+b+c)/3\n",
    "print (\" Average marks = \", Avg)"
   ]
  },
  {
   "cell_type": "code",
   "execution_count": 21,
   "id": "92a7754a-b782-4def-ac53-636bb4582ebd",
   "metadata": {},
   "outputs": [
    {
     "name": "stdout",
     "output_type": "stream",
     "text": [
      "percentage change =  25.0 %\n"
     ]
    }
   ],
   "source": [
    "# to find the percentage change\n",
    "initial_value = 200\n",
    "final_value = 250\n",
    "change =final_value-initial_value\n",
    "per=(change/initial_value)*100\n",
    "print(\"percentage change = \", per,\"%\")"
   ]
  },
  {
   "cell_type": "code",
   "execution_count": null,
   "id": "104010ac-386d-4ee4-bda6-581fdf1a8bed",
   "metadata": {},
   "outputs": [],
   "source": []
  }
 ],
 "metadata": {
  "kernelspec": {
   "display_name": "Python 3 (ipykernel)",
   "language": "python",
   "name": "python3"
  },
  "language_info": {
   "codemirror_mode": {
    "name": "ipython",
    "version": 3
   },
   "file_extension": ".py",
   "mimetype": "text/x-python",
   "name": "python",
   "nbconvert_exporter": "python",
   "pygments_lexer": "ipython3",
   "version": "3.12.5"
  }
 },
 "nbformat": 4,
 "nbformat_minor": 5
}
